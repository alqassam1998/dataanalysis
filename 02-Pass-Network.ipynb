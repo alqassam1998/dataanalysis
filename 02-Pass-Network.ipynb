{
 "cells": [
  {
   "cell_type": "code",
   "execution_count": 36,
   "id": "830ebf4c",
   "metadata": {},
   "outputs": [],
   "source": [
    "import numpy as np\n",
    "import pandas as pd\n",
    "import soccerdata as sd\n",
    "import matplotlib.pyplot as plt\n",
    "import json\n",
    "from PIL import Image\n",
    "from mplsoccer import VerticalPitch, FontManager, add_image"
   ]
  },
  {
   "cell_type": "code",
   "execution_count": 2,
   "id": "a6f8819b",
   "metadata": {},
   "outputs": [],
   "source": [
    "# show all rows\n",
    "pd.set_option('display.max_rows', None)\n",
    "pd.set_option('display.max_columns', None)"
   ]
  },
  {
   "cell_type": "markdown",
   "id": "072a4d1f",
   "metadata": {},
   "source": [
    "# Importing Match Data from Soccerdata"
   ]
  },
  {
   "cell_type": "code",
   "execution_count": 3,
   "id": "30cc433a",
   "metadata": {},
   "outputs": [
    {
     "data": {
      "text/html": [
       "<pre style=\"white-space:pre;overflow-x:auto;line-height:normal;font-family:Menlo,'DejaVu Sans Mono',consolas,'Courier New',monospace\"><span style=\"color: #7fbfbf; text-decoration-color: #7fbfbf\">[09/04/23 10:48:24] </span><span style=\"color: #000080; text-decoration-color: #000080\">INFO    </span> Saving cached data to                                                    <a href=\"file://C:\\Users\\HanifFurqonHidayat\\anaconda3\\lib\\site-packages\\soccerdata\\_common.py\" target=\"_blank\"><span style=\"color: #7f7f7f; text-decoration-color: #7f7f7f\">_common.py</span></a><span style=\"color: #7f7f7f; text-decoration-color: #7f7f7f\">:</span><a href=\"file://C:\\Users\\HanifFurqonHidayat\\anaconda3\\lib\\site-packages\\soccerdata\\_common.py#89\" target=\"_blank\"><span style=\"color: #7f7f7f; text-decoration-color: #7f7f7f\">89</span></a>\n",
       "<span style=\"color: #7fbfbf; text-decoration-color: #7fbfbf\">                    </span>         C:\\Users\\HanifFurqonHidayat\\soccerdata\\data\\WhoScored                    <span style=\"color: #7f7f7f; text-decoration-color: #7f7f7f\">             </span>\n",
       "</pre>\n"
      ],
      "text/plain": [
       "\u001b[2;36m[09/04/23 10:48:24]\u001b[0m\u001b[2;36m \u001b[0m\u001b[34mINFO    \u001b[0m Saving cached data to                                                    \u001b]8;id=427246;file://C:\\Users\\HanifFurqonHidayat\\anaconda3\\lib\\site-packages\\soccerdata\\_common.py\u001b\\\u001b[2m_common.py\u001b[0m\u001b]8;;\u001b\\\u001b[2m:\u001b[0m\u001b]8;id=841872;file://C:\\Users\\HanifFurqonHidayat\\anaconda3\\lib\\site-packages\\soccerdata\\_common.py#89\u001b\\\u001b[2m89\u001b[0m\u001b]8;;\u001b\\\n",
       "\u001b[2;36m                    \u001b[0m         C:\\Users\\HanifFurqonHidayat\\soccerdata\\data\\WhoScored                    \u001b[2m             \u001b[0m\n"
      ]
     },
     "metadata": {},
     "output_type": "display_data"
    },
    {
     "data": {
      "text/html": [
       "<pre style=\"white-space:pre;overflow-x:auto;line-height:normal;font-family:Menlo,'DejaVu Sans Mono',consolas,'Courier New',monospace\"><span style=\"color: #7fbfbf; text-decoration-color: #7fbfbf\">[09/04/23 10:48:26] </span><span style=\"color: #000080; text-decoration-color: #000080\">INFO    </span> patching driver executable                                              <a href=\"file://C:\\Users\\HanifFurqonHidayat\\anaconda3\\lib\\site-packages\\undetected_chromedriver\\patcher.py\" target=\"_blank\"><span style=\"color: #7f7f7f; text-decoration-color: #7f7f7f\">patcher.py</span></a><span style=\"color: #7f7f7f; text-decoration-color: #7f7f7f\">:</span><a href=\"file://C:\\Users\\HanifFurqonHidayat\\anaconda3\\lib\\site-packages\\undetected_chromedriver\\patcher.py#346\" target=\"_blank\"><span style=\"color: #7f7f7f; text-decoration-color: #7f7f7f\">346</span></a>\n",
       "<span style=\"color: #7fbfbf; text-decoration-color: #7fbfbf\">                    </span>         C:\\Users\\HanifFurqonHidayat\\appdata\\roaming\\undetected_chromedriver\\und <span style=\"color: #7f7f7f; text-decoration-color: #7f7f7f\">              </span>\n",
       "<span style=\"color: #7fbfbf; text-decoration-color: #7fbfbf\">                    </span>         etected_chromedriver.exe                                                <span style=\"color: #7f7f7f; text-decoration-color: #7f7f7f\">              </span>\n",
       "</pre>\n"
      ],
      "text/plain": [
       "\u001b[2;36m[09/04/23 10:48:26]\u001b[0m\u001b[2;36m \u001b[0m\u001b[34mINFO    \u001b[0m patching driver executable                                              \u001b]8;id=637253;file://C:\\Users\\HanifFurqonHidayat\\anaconda3\\lib\\site-packages\\undetected_chromedriver\\patcher.py\u001b\\\u001b[2mpatcher.py\u001b[0m\u001b]8;;\u001b\\\u001b[2m:\u001b[0m\u001b]8;id=772024;file://C:\\Users\\HanifFurqonHidayat\\anaconda3\\lib\\site-packages\\undetected_chromedriver\\patcher.py#346\u001b\\\u001b[2m346\u001b[0m\u001b]8;;\u001b\\\n",
       "\u001b[2;36m                    \u001b[0m         C:\\Users\\HanifFurqonHidayat\\appdata\\roaming\\undetected_chromedriver\\und \u001b[2m              \u001b[0m\n",
       "\u001b[2;36m                    \u001b[0m         etected_chromedriver.exe                                                \u001b[2m              \u001b[0m\n"
      ]
     },
     "metadata": {},
     "output_type": "display_data"
    }
   ],
   "source": [
    "# define league to export\n",
    "ws = sd.WhoScored(leagues=\"ENG-Premier League\", seasons=2324, no_cache=True)"
   ]
  },
  {
   "cell_type": "code",
   "execution_count": 4,
   "id": "95674350",
   "metadata": {
    "scrolled": true
   },
   "outputs": [
    {
     "data": {
      "text/html": [
       "<pre style=\"white-space:pre;overflow-x:auto;line-height:normal;font-family:Menlo,'DejaVu Sans Mono',consolas,'Courier New',monospace\"><span style=\"color: #7fbfbf; text-decoration-color: #7fbfbf\">[09/04/23 10:49:17] </span><span style=\"color: #000080; text-decoration-color: #000080\">INFO    </span> Scraping game schedule from                                           <a href=\"file://C:\\Users\\HanifFurqonHidayat\\anaconda3\\lib\\site-packages\\soccerdata\\whoscored.py\" target=\"_blank\"><span style=\"color: #7f7f7f; text-decoration-color: #7f7f7f\">whoscored.py</span></a><span style=\"color: #7f7f7f; text-decoration-color: #7f7f7f\">:</span><a href=\"file://C:\\Users\\HanifFurqonHidayat\\anaconda3\\lib\\site-packages\\soccerdata\\whoscored.py#427\" target=\"_blank\"><span style=\"color: #7f7f7f; text-decoration-color: #7f7f7f\">427</span></a>\n",
       "<span style=\"color: #7fbfbf; text-decoration-color: #7fbfbf\">                    </span>         <span style=\"color: #0000ff; text-decoration-color: #0000ff; text-decoration: underline\">https://www.whoscored.com/Regions/252/Tournaments/2/Seasons/9618/Engl</span> <span style=\"color: #7f7f7f; text-decoration-color: #7f7f7f\">                </span>\n",
       "<span style=\"color: #7fbfbf; text-decoration-color: #7fbfbf\">                    </span>         <span style=\"color: #0000ff; text-decoration-color: #0000ff; text-decoration: underline\">and-Premier-League</span>                                                    <span style=\"color: #7f7f7f; text-decoration-color: #7f7f7f\">                </span>\n",
       "</pre>\n"
      ],
      "text/plain": [
       "\u001b[2;36m[09/04/23 10:49:17]\u001b[0m\u001b[2;36m \u001b[0m\u001b[34mINFO    \u001b[0m Scraping game schedule from                                           \u001b]8;id=663739;file://C:\\Users\\HanifFurqonHidayat\\anaconda3\\lib\\site-packages\\soccerdata\\whoscored.py\u001b\\\u001b[2mwhoscored.py\u001b[0m\u001b]8;;\u001b\\\u001b[2m:\u001b[0m\u001b]8;id=803837;file://C:\\Users\\HanifFurqonHidayat\\anaconda3\\lib\\site-packages\\soccerdata\\whoscored.py#427\u001b\\\u001b[2m427\u001b[0m\u001b]8;;\u001b\\\n",
       "\u001b[2;36m                    \u001b[0m         \u001b[4;94mhttps://www.whoscored.com/Regions/252/Tournaments/2/Seasons/9618/Engl\u001b[0m \u001b[2m                \u001b[0m\n",
       "\u001b[2;36m                    \u001b[0m         \u001b[4;94mand-Premier-League\u001b[0m                                                    \u001b[2m                \u001b[0m\n"
      ]
     },
     "metadata": {},
     "output_type": "display_data"
    },
    {
     "data": {
      "text/html": [
       "<pre style=\"white-space:pre;overflow-x:auto;line-height:normal;font-family:Menlo,'DejaVu Sans Mono',consolas,'Courier New',monospace\"><span style=\"color: #7fbfbf; text-decoration-color: #7fbfbf\">[09/04/23 10:49:18] </span><span style=\"color: #000080; text-decoration-color: #000080\">INFO    </span> Scraping game schedule for Friday, Sep <span style=\"color: #008080; text-decoration-color: #008080; font-weight: bold\">1</span> <span style=\"color: #008080; text-decoration-color: #008080; font-weight: bold\">2023</span>                         <a href=\"file://C:\\Users\\HanifFurqonHidayat\\anaconda3\\lib\\site-packages\\soccerdata\\whoscored.py\" target=\"_blank\"><span style=\"color: #7f7f7f; text-decoration-color: #7f7f7f\">whoscored.py</span></a><span style=\"color: #7f7f7f; text-decoration-color: #7f7f7f\">:</span><a href=\"file://C:\\Users\\HanifFurqonHidayat\\anaconda3\\lib\\site-packages\\soccerdata\\whoscored.py#327\" target=\"_blank\"><span style=\"color: #7f7f7f; text-decoration-color: #7f7f7f\">327</span></a>\n",
       "</pre>\n"
      ],
      "text/plain": [
       "\u001b[2;36m[09/04/23 10:49:18]\u001b[0m\u001b[2;36m \u001b[0m\u001b[34mINFO    \u001b[0m Scraping game schedule for Friday, Sep \u001b[1;36m1\u001b[0m \u001b[1;36m2023\u001b[0m                         \u001b]8;id=290873;file://C:\\Users\\HanifFurqonHidayat\\anaconda3\\lib\\site-packages\\soccerdata\\whoscored.py\u001b\\\u001b[2mwhoscored.py\u001b[0m\u001b]8;;\u001b\\\u001b[2m:\u001b[0m\u001b]8;id=967932;file://C:\\Users\\HanifFurqonHidayat\\anaconda3\\lib\\site-packages\\soccerdata\\whoscored.py#327\u001b\\\u001b[2m327\u001b[0m\u001b]8;;\u001b\\\n"
      ]
     },
     "metadata": {},
     "output_type": "display_data"
    },
    {
     "data": {
      "text/html": [
       "<pre style=\"white-space:pre;overflow-x:auto;line-height:normal;font-family:Menlo,'DejaVu Sans Mono',consolas,'Courier New',monospace\"><span style=\"color: #7fbfbf; text-decoration-color: #7fbfbf\">                    </span><span style=\"color: #000080; text-decoration-color: #000080\">INFO    </span> Scraping game schedule for Saturday, Sep <span style=\"color: #008080; text-decoration-color: #008080; font-weight: bold\">2</span> <span style=\"color: #008080; text-decoration-color: #008080; font-weight: bold\">2023</span>                       <a href=\"file://C:\\Users\\HanifFurqonHidayat\\anaconda3\\lib\\site-packages\\soccerdata\\whoscored.py\" target=\"_blank\"><span style=\"color: #7f7f7f; text-decoration-color: #7f7f7f\">whoscored.py</span></a><span style=\"color: #7f7f7f; text-decoration-color: #7f7f7f\">:</span><a href=\"file://C:\\Users\\HanifFurqonHidayat\\anaconda3\\lib\\site-packages\\soccerdata\\whoscored.py#327\" target=\"_blank\"><span style=\"color: #7f7f7f; text-decoration-color: #7f7f7f\">327</span></a>\n",
       "</pre>\n"
      ],
      "text/plain": [
       "\u001b[2;36m                   \u001b[0m\u001b[2;36m \u001b[0m\u001b[34mINFO    \u001b[0m Scraping game schedule for Saturday, Sep \u001b[1;36m2\u001b[0m \u001b[1;36m2023\u001b[0m                       \u001b]8;id=72712;file://C:\\Users\\HanifFurqonHidayat\\anaconda3\\lib\\site-packages\\soccerdata\\whoscored.py\u001b\\\u001b[2mwhoscored.py\u001b[0m\u001b]8;;\u001b\\\u001b[2m:\u001b[0m\u001b]8;id=853533;file://C:\\Users\\HanifFurqonHidayat\\anaconda3\\lib\\site-packages\\soccerdata\\whoscored.py#327\u001b\\\u001b[2m327\u001b[0m\u001b]8;;\u001b\\\n"
      ]
     },
     "metadata": {},
     "output_type": "display_data"
    },
    {
     "data": {
      "text/html": [
       "<pre style=\"white-space:pre;overflow-x:auto;line-height:normal;font-family:Menlo,'DejaVu Sans Mono',consolas,'Courier New',monospace\"><span style=\"color: #7fbfbf; text-decoration-color: #7fbfbf\">                    </span><span style=\"color: #000080; text-decoration-color: #000080\">INFO    </span> Scraping game schedule for Sunday, Sep <span style=\"color: #008080; text-decoration-color: #008080; font-weight: bold\">3</span> <span style=\"color: #008080; text-decoration-color: #008080; font-weight: bold\">2023</span>                         <a href=\"file://C:\\Users\\HanifFurqonHidayat\\anaconda3\\lib\\site-packages\\soccerdata\\whoscored.py\" target=\"_blank\"><span style=\"color: #7f7f7f; text-decoration-color: #7f7f7f\">whoscored.py</span></a><span style=\"color: #7f7f7f; text-decoration-color: #7f7f7f\">:</span><a href=\"file://C:\\Users\\HanifFurqonHidayat\\anaconda3\\lib\\site-packages\\soccerdata\\whoscored.py#327\" target=\"_blank\"><span style=\"color: #7f7f7f; text-decoration-color: #7f7f7f\">327</span></a>\n",
       "</pre>\n"
      ],
      "text/plain": [
       "\u001b[2;36m                   \u001b[0m\u001b[2;36m \u001b[0m\u001b[34mINFO    \u001b[0m Scraping game schedule for Sunday, Sep \u001b[1;36m3\u001b[0m \u001b[1;36m2023\u001b[0m                         \u001b]8;id=973100;file://C:\\Users\\HanifFurqonHidayat\\anaconda3\\lib\\site-packages\\soccerdata\\whoscored.py\u001b\\\u001b[2mwhoscored.py\u001b[0m\u001b]8;;\u001b\\\u001b[2m:\u001b[0m\u001b]8;id=760857;file://C:\\Users\\HanifFurqonHidayat\\anaconda3\\lib\\site-packages\\soccerdata\\whoscored.py#327\u001b\\\u001b[2m327\u001b[0m\u001b]8;;\u001b\\\n"
      ]
     },
     "metadata": {},
     "output_type": "display_data"
    },
    {
     "data": {
      "text/html": [
       "<pre style=\"white-space:pre;overflow-x:auto;line-height:normal;font-family:Menlo,'DejaVu Sans Mono',consolas,'Courier New',monospace\"><span style=\"color: #7fbfbf; text-decoration-color: #7fbfbf\">                    </span><span style=\"color: #000080; text-decoration-color: #000080\">INFO    </span> Scraping game schedule for Saturday, Sep <span style=\"color: #008080; text-decoration-color: #008080; font-weight: bold\">16</span> <span style=\"color: #008080; text-decoration-color: #008080; font-weight: bold\">2023</span>                      <a href=\"file://C:\\Users\\HanifFurqonHidayat\\anaconda3\\lib\\site-packages\\soccerdata\\whoscored.py\" target=\"_blank\"><span style=\"color: #7f7f7f; text-decoration-color: #7f7f7f\">whoscored.py</span></a><span style=\"color: #7f7f7f; text-decoration-color: #7f7f7f\">:</span><a href=\"file://C:\\Users\\HanifFurqonHidayat\\anaconda3\\lib\\site-packages\\soccerdata\\whoscored.py#327\" target=\"_blank\"><span style=\"color: #7f7f7f; text-decoration-color: #7f7f7f\">327</span></a>\n",
       "</pre>\n"
      ],
      "text/plain": [
       "\u001b[2;36m                   \u001b[0m\u001b[2;36m \u001b[0m\u001b[34mINFO    \u001b[0m Scraping game schedule for Saturday, Sep \u001b[1;36m16\u001b[0m \u001b[1;36m2023\u001b[0m                      \u001b]8;id=1940;file://C:\\Users\\HanifFurqonHidayat\\anaconda3\\lib\\site-packages\\soccerdata\\whoscored.py\u001b\\\u001b[2mwhoscored.py\u001b[0m\u001b]8;;\u001b\\\u001b[2m:\u001b[0m\u001b]8;id=48545;file://C:\\Users\\HanifFurqonHidayat\\anaconda3\\lib\\site-packages\\soccerdata\\whoscored.py#327\u001b\\\u001b[2m327\u001b[0m\u001b]8;;\u001b\\\n"
      ]
     },
     "metadata": {},
     "output_type": "display_data"
    },
    {
     "data": {
      "text/html": [
       "<pre style=\"white-space:pre;overflow-x:auto;line-height:normal;font-family:Menlo,'DejaVu Sans Mono',consolas,'Courier New',monospace\"><span style=\"color: #7fbfbf; text-decoration-color: #7fbfbf\">[09/04/23 10:49:19] </span><span style=\"color: #000080; text-decoration-color: #000080\">INFO    </span> Scraping game schedule for Sunday, Sep <span style=\"color: #008080; text-decoration-color: #008080; font-weight: bold\">17</span> <span style=\"color: #008080; text-decoration-color: #008080; font-weight: bold\">2023</span>                        <a href=\"file://C:\\Users\\HanifFurqonHidayat\\anaconda3\\lib\\site-packages\\soccerdata\\whoscored.py\" target=\"_blank\"><span style=\"color: #7f7f7f; text-decoration-color: #7f7f7f\">whoscored.py</span></a><span style=\"color: #7f7f7f; text-decoration-color: #7f7f7f\">:</span><a href=\"file://C:\\Users\\HanifFurqonHidayat\\anaconda3\\lib\\site-packages\\soccerdata\\whoscored.py#327\" target=\"_blank\"><span style=\"color: #7f7f7f; text-decoration-color: #7f7f7f\">327</span></a>\n",
       "</pre>\n"
      ],
      "text/plain": [
       "\u001b[2;36m[09/04/23 10:49:19]\u001b[0m\u001b[2;36m \u001b[0m\u001b[34mINFO    \u001b[0m Scraping game schedule for Sunday, Sep \u001b[1;36m17\u001b[0m \u001b[1;36m2023\u001b[0m                        \u001b]8;id=304324;file://C:\\Users\\HanifFurqonHidayat\\anaconda3\\lib\\site-packages\\soccerdata\\whoscored.py\u001b\\\u001b[2mwhoscored.py\u001b[0m\u001b]8;;\u001b\\\u001b[2m:\u001b[0m\u001b]8;id=831218;file://C:\\Users\\HanifFurqonHidayat\\anaconda3\\lib\\site-packages\\soccerdata\\whoscored.py#327\u001b\\\u001b[2m327\u001b[0m\u001b]8;;\u001b\\\n"
      ]
     },
     "metadata": {},
     "output_type": "display_data"
    },
    {
     "data": {
      "text/html": [
       "<pre style=\"white-space:pre;overflow-x:auto;line-height:normal;font-family:Menlo,'DejaVu Sans Mono',consolas,'Courier New',monospace\"><span style=\"color: #7fbfbf; text-decoration-color: #7fbfbf\">                    </span><span style=\"color: #000080; text-decoration-color: #000080\">INFO    </span> Scraping game schedule for Monday, Sep <span style=\"color: #008080; text-decoration-color: #008080; font-weight: bold\">18</span> <span style=\"color: #008080; text-decoration-color: #008080; font-weight: bold\">2023</span>                        <a href=\"file://C:\\Users\\HanifFurqonHidayat\\anaconda3\\lib\\site-packages\\soccerdata\\whoscored.py\" target=\"_blank\"><span style=\"color: #7f7f7f; text-decoration-color: #7f7f7f\">whoscored.py</span></a><span style=\"color: #7f7f7f; text-decoration-color: #7f7f7f\">:</span><a href=\"file://C:\\Users\\HanifFurqonHidayat\\anaconda3\\lib\\site-packages\\soccerdata\\whoscored.py#327\" target=\"_blank\"><span style=\"color: #7f7f7f; text-decoration-color: #7f7f7f\">327</span></a>\n",
       "</pre>\n"
      ],
      "text/plain": [
       "\u001b[2;36m                   \u001b[0m\u001b[2;36m \u001b[0m\u001b[34mINFO    \u001b[0m Scraping game schedule for Monday, Sep \u001b[1;36m18\u001b[0m \u001b[1;36m2023\u001b[0m                        \u001b]8;id=768749;file://C:\\Users\\HanifFurqonHidayat\\anaconda3\\lib\\site-packages\\soccerdata\\whoscored.py\u001b\\\u001b[2mwhoscored.py\u001b[0m\u001b]8;;\u001b\\\u001b[2m:\u001b[0m\u001b]8;id=367941;file://C:\\Users\\HanifFurqonHidayat\\anaconda3\\lib\\site-packages\\soccerdata\\whoscored.py#327\u001b\\\u001b[2m327\u001b[0m\u001b]8;;\u001b\\\n"
      ]
     },
     "metadata": {},
     "output_type": "display_data"
    },
    {
     "data": {
      "text/html": [
       "<pre style=\"white-space:pre;overflow-x:auto;line-height:normal;font-family:Menlo,'DejaVu Sans Mono',consolas,'Courier New',monospace\"><span style=\"color: #7fbfbf; text-decoration-color: #7fbfbf\">                    </span><span style=\"color: #000080; text-decoration-color: #000080\">INFO    </span> Scraping game schedule for Saturday, Sep <span style=\"color: #008080; text-decoration-color: #008080; font-weight: bold\">23</span> <span style=\"color: #008080; text-decoration-color: #008080; font-weight: bold\">2023</span>                      <a href=\"file://C:\\Users\\HanifFurqonHidayat\\anaconda3\\lib\\site-packages\\soccerdata\\whoscored.py\" target=\"_blank\"><span style=\"color: #7f7f7f; text-decoration-color: #7f7f7f\">whoscored.py</span></a><span style=\"color: #7f7f7f; text-decoration-color: #7f7f7f\">:</span><a href=\"file://C:\\Users\\HanifFurqonHidayat\\anaconda3\\lib\\site-packages\\soccerdata\\whoscored.py#327\" target=\"_blank\"><span style=\"color: #7f7f7f; text-decoration-color: #7f7f7f\">327</span></a>\n",
       "</pre>\n"
      ],
      "text/plain": [
       "\u001b[2;36m                   \u001b[0m\u001b[2;36m \u001b[0m\u001b[34mINFO    \u001b[0m Scraping game schedule for Saturday, Sep \u001b[1;36m23\u001b[0m \u001b[1;36m2023\u001b[0m                      \u001b]8;id=138798;file://C:\\Users\\HanifFurqonHidayat\\anaconda3\\lib\\site-packages\\soccerdata\\whoscored.py\u001b\\\u001b[2mwhoscored.py\u001b[0m\u001b]8;;\u001b\\\u001b[2m:\u001b[0m\u001b]8;id=155099;file://C:\\Users\\HanifFurqonHidayat\\anaconda3\\lib\\site-packages\\soccerdata\\whoscored.py#327\u001b\\\u001b[2m327\u001b[0m\u001b]8;;\u001b\\\n"
      ]
     },
     "metadata": {},
     "output_type": "display_data"
    },
    {
     "data": {
      "text/html": [
       "<pre style=\"white-space:pre;overflow-x:auto;line-height:normal;font-family:Menlo,'DejaVu Sans Mono',consolas,'Courier New',monospace\"><span style=\"color: #7fbfbf; text-decoration-color: #7fbfbf\">                    </span><span style=\"color: #000080; text-decoration-color: #000080\">INFO    </span> Scraping game schedule for Sunday, Sep <span style=\"color: #008080; text-decoration-color: #008080; font-weight: bold\">24</span> <span style=\"color: #008080; text-decoration-color: #008080; font-weight: bold\">2023</span>                        <a href=\"file://C:\\Users\\HanifFurqonHidayat\\anaconda3\\lib\\site-packages\\soccerdata\\whoscored.py\" target=\"_blank\"><span style=\"color: #7f7f7f; text-decoration-color: #7f7f7f\">whoscored.py</span></a><span style=\"color: #7f7f7f; text-decoration-color: #7f7f7f\">:</span><a href=\"file://C:\\Users\\HanifFurqonHidayat\\anaconda3\\lib\\site-packages\\soccerdata\\whoscored.py#327\" target=\"_blank\"><span style=\"color: #7f7f7f; text-decoration-color: #7f7f7f\">327</span></a>\n",
       "</pre>\n"
      ],
      "text/plain": [
       "\u001b[2;36m                   \u001b[0m\u001b[2;36m \u001b[0m\u001b[34mINFO    \u001b[0m Scraping game schedule for Sunday, Sep \u001b[1;36m24\u001b[0m \u001b[1;36m2023\u001b[0m                        \u001b]8;id=880714;file://C:\\Users\\HanifFurqonHidayat\\anaconda3\\lib\\site-packages\\soccerdata\\whoscored.py\u001b\\\u001b[2mwhoscored.py\u001b[0m\u001b]8;;\u001b\\\u001b[2m:\u001b[0m\u001b]8;id=975050;file://C:\\Users\\HanifFurqonHidayat\\anaconda3\\lib\\site-packages\\soccerdata\\whoscored.py#327\u001b\\\u001b[2m327\u001b[0m\u001b]8;;\u001b\\\n"
      ]
     },
     "metadata": {},
     "output_type": "display_data"
    },
    {
     "data": {
      "text/html": [
       "<pre style=\"white-space:pre;overflow-x:auto;line-height:normal;font-family:Menlo,'DejaVu Sans Mono',consolas,'Courier New',monospace\"><span style=\"color: #7fbfbf; text-decoration-color: #7fbfbf\">[09/04/23 10:49:20] </span><span style=\"color: #000080; text-decoration-color: #000080\">INFO    </span> Scraping game schedule for Saturday, Sep <span style=\"color: #008080; text-decoration-color: #008080; font-weight: bold\">30</span> <span style=\"color: #008080; text-decoration-color: #008080; font-weight: bold\">2023</span>                      <a href=\"file://C:\\Users\\HanifFurqonHidayat\\anaconda3\\lib\\site-packages\\soccerdata\\whoscored.py\" target=\"_blank\"><span style=\"color: #7f7f7f; text-decoration-color: #7f7f7f\">whoscored.py</span></a><span style=\"color: #7f7f7f; text-decoration-color: #7f7f7f\">:</span><a href=\"file://C:\\Users\\HanifFurqonHidayat\\anaconda3\\lib\\site-packages\\soccerdata\\whoscored.py#327\" target=\"_blank\"><span style=\"color: #7f7f7f; text-decoration-color: #7f7f7f\">327</span></a>\n",
       "</pre>\n"
      ],
      "text/plain": [
       "\u001b[2;36m[09/04/23 10:49:20]\u001b[0m\u001b[2;36m \u001b[0m\u001b[34mINFO    \u001b[0m Scraping game schedule for Saturday, Sep \u001b[1;36m30\u001b[0m \u001b[1;36m2023\u001b[0m                      \u001b]8;id=595630;file://C:\\Users\\HanifFurqonHidayat\\anaconda3\\lib\\site-packages\\soccerdata\\whoscored.py\u001b\\\u001b[2mwhoscored.py\u001b[0m\u001b]8;;\u001b\\\u001b[2m:\u001b[0m\u001b]8;id=947632;file://C:\\Users\\HanifFurqonHidayat\\anaconda3\\lib\\site-packages\\soccerdata\\whoscored.py#327\u001b\\\u001b[2m327\u001b[0m\u001b]8;;\u001b\\\n"
      ]
     },
     "metadata": {},
     "output_type": "display_data"
    },
    {
     "data": {
      "text/html": [
       "<pre style=\"white-space:pre;overflow-x:auto;line-height:normal;font-family:Menlo,'DejaVu Sans Mono',consolas,'Courier New',monospace\"><span style=\"color: #7fbfbf; text-decoration-color: #7fbfbf\">[09/04/23 10:49:25] </span><span style=\"color: #000080; text-decoration-color: #000080\">INFO    </span> Scraping game schedule for Friday, Aug <span style=\"color: #008080; text-decoration-color: #008080; font-weight: bold\">11</span> <span style=\"color: #008080; text-decoration-color: #008080; font-weight: bold\">2023</span>                        <a href=\"file://C:\\Users\\HanifFurqonHidayat\\anaconda3\\lib\\site-packages\\soccerdata\\whoscored.py\" target=\"_blank\"><span style=\"color: #7f7f7f; text-decoration-color: #7f7f7f\">whoscored.py</span></a><span style=\"color: #7f7f7f; text-decoration-color: #7f7f7f\">:</span><a href=\"file://C:\\Users\\HanifFurqonHidayat\\anaconda3\\lib\\site-packages\\soccerdata\\whoscored.py#327\" target=\"_blank\"><span style=\"color: #7f7f7f; text-decoration-color: #7f7f7f\">327</span></a>\n",
       "</pre>\n"
      ],
      "text/plain": [
       "\u001b[2;36m[09/04/23 10:49:25]\u001b[0m\u001b[2;36m \u001b[0m\u001b[34mINFO    \u001b[0m Scraping game schedule for Friday, Aug \u001b[1;36m11\u001b[0m \u001b[1;36m2023\u001b[0m                        \u001b]8;id=484003;file://C:\\Users\\HanifFurqonHidayat\\anaconda3\\lib\\site-packages\\soccerdata\\whoscored.py\u001b\\\u001b[2mwhoscored.py\u001b[0m\u001b]8;;\u001b\\\u001b[2m:\u001b[0m\u001b]8;id=364732;file://C:\\Users\\HanifFurqonHidayat\\anaconda3\\lib\\site-packages\\soccerdata\\whoscored.py#327\u001b\\\u001b[2m327\u001b[0m\u001b]8;;\u001b\\\n"
      ]
     },
     "metadata": {},
     "output_type": "display_data"
    },
    {
     "data": {
      "text/html": [
       "<pre style=\"white-space:pre;overflow-x:auto;line-height:normal;font-family:Menlo,'DejaVu Sans Mono',consolas,'Courier New',monospace\"><span style=\"color: #7fbfbf; text-decoration-color: #7fbfbf\">                    </span><span style=\"color: #000080; text-decoration-color: #000080\">INFO    </span> Scraping game schedule for Saturday, Aug <span style=\"color: #008080; text-decoration-color: #008080; font-weight: bold\">12</span> <span style=\"color: #008080; text-decoration-color: #008080; font-weight: bold\">2023</span>                      <a href=\"file://C:\\Users\\HanifFurqonHidayat\\anaconda3\\lib\\site-packages\\soccerdata\\whoscored.py\" target=\"_blank\"><span style=\"color: #7f7f7f; text-decoration-color: #7f7f7f\">whoscored.py</span></a><span style=\"color: #7f7f7f; text-decoration-color: #7f7f7f\">:</span><a href=\"file://C:\\Users\\HanifFurqonHidayat\\anaconda3\\lib\\site-packages\\soccerdata\\whoscored.py#327\" target=\"_blank\"><span style=\"color: #7f7f7f; text-decoration-color: #7f7f7f\">327</span></a>\n",
       "</pre>\n"
      ],
      "text/plain": [
       "\u001b[2;36m                   \u001b[0m\u001b[2;36m \u001b[0m\u001b[34mINFO    \u001b[0m Scraping game schedule for Saturday, Aug \u001b[1;36m12\u001b[0m \u001b[1;36m2023\u001b[0m                      \u001b]8;id=95923;file://C:\\Users\\HanifFurqonHidayat\\anaconda3\\lib\\site-packages\\soccerdata\\whoscored.py\u001b\\\u001b[2mwhoscored.py\u001b[0m\u001b]8;;\u001b\\\u001b[2m:\u001b[0m\u001b]8;id=74721;file://C:\\Users\\HanifFurqonHidayat\\anaconda3\\lib\\site-packages\\soccerdata\\whoscored.py#327\u001b\\\u001b[2m327\u001b[0m\u001b]8;;\u001b\\\n"
      ]
     },
     "metadata": {},
     "output_type": "display_data"
    },
    {
     "data": {
      "text/html": [
       "<pre style=\"white-space:pre;overflow-x:auto;line-height:normal;font-family:Menlo,'DejaVu Sans Mono',consolas,'Courier New',monospace\"><span style=\"color: #7fbfbf; text-decoration-color: #7fbfbf\">[09/04/23 10:49:26] </span><span style=\"color: #000080; text-decoration-color: #000080\">INFO    </span> Scraping game schedule for Sunday, Aug <span style=\"color: #008080; text-decoration-color: #008080; font-weight: bold\">13</span> <span style=\"color: #008080; text-decoration-color: #008080; font-weight: bold\">2023</span>                        <a href=\"file://C:\\Users\\HanifFurqonHidayat\\anaconda3\\lib\\site-packages\\soccerdata\\whoscored.py\" target=\"_blank\"><span style=\"color: #7f7f7f; text-decoration-color: #7f7f7f\">whoscored.py</span></a><span style=\"color: #7f7f7f; text-decoration-color: #7f7f7f\">:</span><a href=\"file://C:\\Users\\HanifFurqonHidayat\\anaconda3\\lib\\site-packages\\soccerdata\\whoscored.py#327\" target=\"_blank\"><span style=\"color: #7f7f7f; text-decoration-color: #7f7f7f\">327</span></a>\n",
       "</pre>\n"
      ],
      "text/plain": [
       "\u001b[2;36m[09/04/23 10:49:26]\u001b[0m\u001b[2;36m \u001b[0m\u001b[34mINFO    \u001b[0m Scraping game schedule for Sunday, Aug \u001b[1;36m13\u001b[0m \u001b[1;36m2023\u001b[0m                        \u001b]8;id=935638;file://C:\\Users\\HanifFurqonHidayat\\anaconda3\\lib\\site-packages\\soccerdata\\whoscored.py\u001b\\\u001b[2mwhoscored.py\u001b[0m\u001b]8;;\u001b\\\u001b[2m:\u001b[0m\u001b]8;id=294116;file://C:\\Users\\HanifFurqonHidayat\\anaconda3\\lib\\site-packages\\soccerdata\\whoscored.py#327\u001b\\\u001b[2m327\u001b[0m\u001b]8;;\u001b\\\n"
      ]
     },
     "metadata": {},
     "output_type": "display_data"
    },
    {
     "data": {
      "text/html": [
       "<pre style=\"white-space:pre;overflow-x:auto;line-height:normal;font-family:Menlo,'DejaVu Sans Mono',consolas,'Courier New',monospace\"><span style=\"color: #7fbfbf; text-decoration-color: #7fbfbf\">                    </span><span style=\"color: #000080; text-decoration-color: #000080\">INFO    </span> Scraping game schedule for Monday, Aug <span style=\"color: #008080; text-decoration-color: #008080; font-weight: bold\">14</span> <span style=\"color: #008080; text-decoration-color: #008080; font-weight: bold\">2023</span>                        <a href=\"file://C:\\Users\\HanifFurqonHidayat\\anaconda3\\lib\\site-packages\\soccerdata\\whoscored.py\" target=\"_blank\"><span style=\"color: #7f7f7f; text-decoration-color: #7f7f7f\">whoscored.py</span></a><span style=\"color: #7f7f7f; text-decoration-color: #7f7f7f\">:</span><a href=\"file://C:\\Users\\HanifFurqonHidayat\\anaconda3\\lib\\site-packages\\soccerdata\\whoscored.py#327\" target=\"_blank\"><span style=\"color: #7f7f7f; text-decoration-color: #7f7f7f\">327</span></a>\n",
       "</pre>\n"
      ],
      "text/plain": [
       "\u001b[2;36m                   \u001b[0m\u001b[2;36m \u001b[0m\u001b[34mINFO    \u001b[0m Scraping game schedule for Monday, Aug \u001b[1;36m14\u001b[0m \u001b[1;36m2023\u001b[0m                        \u001b]8;id=818496;file://C:\\Users\\HanifFurqonHidayat\\anaconda3\\lib\\site-packages\\soccerdata\\whoscored.py\u001b\\\u001b[2mwhoscored.py\u001b[0m\u001b]8;;\u001b\\\u001b[2m:\u001b[0m\u001b]8;id=481569;file://C:\\Users\\HanifFurqonHidayat\\anaconda3\\lib\\site-packages\\soccerdata\\whoscored.py#327\u001b\\\u001b[2m327\u001b[0m\u001b]8;;\u001b\\\n"
      ]
     },
     "metadata": {},
     "output_type": "display_data"
    },
    {
     "data": {
      "text/html": [
       "<pre style=\"white-space:pre;overflow-x:auto;line-height:normal;font-family:Menlo,'DejaVu Sans Mono',consolas,'Courier New',monospace\"><span style=\"color: #7fbfbf; text-decoration-color: #7fbfbf\">                    </span><span style=\"color: #000080; text-decoration-color: #000080\">INFO    </span> Scraping game schedule for Friday, Aug <span style=\"color: #008080; text-decoration-color: #008080; font-weight: bold\">18</span> <span style=\"color: #008080; text-decoration-color: #008080; font-weight: bold\">2023</span>                        <a href=\"file://C:\\Users\\HanifFurqonHidayat\\anaconda3\\lib\\site-packages\\soccerdata\\whoscored.py\" target=\"_blank\"><span style=\"color: #7f7f7f; text-decoration-color: #7f7f7f\">whoscored.py</span></a><span style=\"color: #7f7f7f; text-decoration-color: #7f7f7f\">:</span><a href=\"file://C:\\Users\\HanifFurqonHidayat\\anaconda3\\lib\\site-packages\\soccerdata\\whoscored.py#327\" target=\"_blank\"><span style=\"color: #7f7f7f; text-decoration-color: #7f7f7f\">327</span></a>\n",
       "</pre>\n"
      ],
      "text/plain": [
       "\u001b[2;36m                   \u001b[0m\u001b[2;36m \u001b[0m\u001b[34mINFO    \u001b[0m Scraping game schedule for Friday, Aug \u001b[1;36m18\u001b[0m \u001b[1;36m2023\u001b[0m                        \u001b]8;id=327517;file://C:\\Users\\HanifFurqonHidayat\\anaconda3\\lib\\site-packages\\soccerdata\\whoscored.py\u001b\\\u001b[2mwhoscored.py\u001b[0m\u001b]8;;\u001b\\\u001b[2m:\u001b[0m\u001b]8;id=623504;file://C:\\Users\\HanifFurqonHidayat\\anaconda3\\lib\\site-packages\\soccerdata\\whoscored.py#327\u001b\\\u001b[2m327\u001b[0m\u001b]8;;\u001b\\\n"
      ]
     },
     "metadata": {},
     "output_type": "display_data"
    },
    {
     "data": {
      "text/html": [
       "<pre style=\"white-space:pre;overflow-x:auto;line-height:normal;font-family:Menlo,'DejaVu Sans Mono',consolas,'Courier New',monospace\"><span style=\"color: #7fbfbf; text-decoration-color: #7fbfbf\">                    </span><span style=\"color: #000080; text-decoration-color: #000080\">INFO    </span> Scraping game schedule for Saturday, Aug <span style=\"color: #008080; text-decoration-color: #008080; font-weight: bold\">19</span> <span style=\"color: #008080; text-decoration-color: #008080; font-weight: bold\">2023</span>                      <a href=\"file://C:\\Users\\HanifFurqonHidayat\\anaconda3\\lib\\site-packages\\soccerdata\\whoscored.py\" target=\"_blank\"><span style=\"color: #7f7f7f; text-decoration-color: #7f7f7f\">whoscored.py</span></a><span style=\"color: #7f7f7f; text-decoration-color: #7f7f7f\">:</span><a href=\"file://C:\\Users\\HanifFurqonHidayat\\anaconda3\\lib\\site-packages\\soccerdata\\whoscored.py#327\" target=\"_blank\"><span style=\"color: #7f7f7f; text-decoration-color: #7f7f7f\">327</span></a>\n",
       "</pre>\n"
      ],
      "text/plain": [
       "\u001b[2;36m                   \u001b[0m\u001b[2;36m \u001b[0m\u001b[34mINFO    \u001b[0m Scraping game schedule for Saturday, Aug \u001b[1;36m19\u001b[0m \u001b[1;36m2023\u001b[0m                      \u001b]8;id=501825;file://C:\\Users\\HanifFurqonHidayat\\anaconda3\\lib\\site-packages\\soccerdata\\whoscored.py\u001b\\\u001b[2mwhoscored.py\u001b[0m\u001b]8;;\u001b\\\u001b[2m:\u001b[0m\u001b]8;id=824536;file://C:\\Users\\HanifFurqonHidayat\\anaconda3\\lib\\site-packages\\soccerdata\\whoscored.py#327\u001b\\\u001b[2m327\u001b[0m\u001b]8;;\u001b\\\n"
      ]
     },
     "metadata": {},
     "output_type": "display_data"
    },
    {
     "data": {
      "text/html": [
       "<pre style=\"white-space:pre;overflow-x:auto;line-height:normal;font-family:Menlo,'DejaVu Sans Mono',consolas,'Courier New',monospace\"><span style=\"color: #7fbfbf; text-decoration-color: #7fbfbf\">                    </span><span style=\"color: #000080; text-decoration-color: #000080\">INFO    </span> Scraping game schedule for Sunday, Aug <span style=\"color: #008080; text-decoration-color: #008080; font-weight: bold\">20</span> <span style=\"color: #008080; text-decoration-color: #008080; font-weight: bold\">2023</span>                        <a href=\"file://C:\\Users\\HanifFurqonHidayat\\anaconda3\\lib\\site-packages\\soccerdata\\whoscored.py\" target=\"_blank\"><span style=\"color: #7f7f7f; text-decoration-color: #7f7f7f\">whoscored.py</span></a><span style=\"color: #7f7f7f; text-decoration-color: #7f7f7f\">:</span><a href=\"file://C:\\Users\\HanifFurqonHidayat\\anaconda3\\lib\\site-packages\\soccerdata\\whoscored.py#327\" target=\"_blank\"><span style=\"color: #7f7f7f; text-decoration-color: #7f7f7f\">327</span></a>\n",
       "</pre>\n"
      ],
      "text/plain": [
       "\u001b[2;36m                   \u001b[0m\u001b[2;36m \u001b[0m\u001b[34mINFO    \u001b[0m Scraping game schedule for Sunday, Aug \u001b[1;36m20\u001b[0m \u001b[1;36m2023\u001b[0m                        \u001b]8;id=467375;file://C:\\Users\\HanifFurqonHidayat\\anaconda3\\lib\\site-packages\\soccerdata\\whoscored.py\u001b\\\u001b[2mwhoscored.py\u001b[0m\u001b]8;;\u001b\\\u001b[2m:\u001b[0m\u001b]8;id=67407;file://C:\\Users\\HanifFurqonHidayat\\anaconda3\\lib\\site-packages\\soccerdata\\whoscored.py#327\u001b\\\u001b[2m327\u001b[0m\u001b]8;;\u001b\\\n"
      ]
     },
     "metadata": {},
     "output_type": "display_data"
    },
    {
     "data": {
      "text/html": [
       "<pre style=\"white-space:pre;overflow-x:auto;line-height:normal;font-family:Menlo,'DejaVu Sans Mono',consolas,'Courier New',monospace\"><span style=\"color: #7fbfbf; text-decoration-color: #7fbfbf\">[09/04/23 10:49:27] </span><span style=\"color: #000080; text-decoration-color: #000080\">INFO    </span> Scraping game schedule for Monday, Aug <span style=\"color: #008080; text-decoration-color: #008080; font-weight: bold\">21</span> <span style=\"color: #008080; text-decoration-color: #008080; font-weight: bold\">2023</span>                        <a href=\"file://C:\\Users\\HanifFurqonHidayat\\anaconda3\\lib\\site-packages\\soccerdata\\whoscored.py\" target=\"_blank\"><span style=\"color: #7f7f7f; text-decoration-color: #7f7f7f\">whoscored.py</span></a><span style=\"color: #7f7f7f; text-decoration-color: #7f7f7f\">:</span><a href=\"file://C:\\Users\\HanifFurqonHidayat\\anaconda3\\lib\\site-packages\\soccerdata\\whoscored.py#327\" target=\"_blank\"><span style=\"color: #7f7f7f; text-decoration-color: #7f7f7f\">327</span></a>\n",
       "</pre>\n"
      ],
      "text/plain": [
       "\u001b[2;36m[09/04/23 10:49:27]\u001b[0m\u001b[2;36m \u001b[0m\u001b[34mINFO    \u001b[0m Scraping game schedule for Monday, Aug \u001b[1;36m21\u001b[0m \u001b[1;36m2023\u001b[0m                        \u001b]8;id=975015;file://C:\\Users\\HanifFurqonHidayat\\anaconda3\\lib\\site-packages\\soccerdata\\whoscored.py\u001b\\\u001b[2mwhoscored.py\u001b[0m\u001b]8;;\u001b\\\u001b[2m:\u001b[0m\u001b]8;id=381773;file://C:\\Users\\HanifFurqonHidayat\\anaconda3\\lib\\site-packages\\soccerdata\\whoscored.py#327\u001b\\\u001b[2m327\u001b[0m\u001b]8;;\u001b\\\n"
      ]
     },
     "metadata": {},
     "output_type": "display_data"
    },
    {
     "data": {
      "text/html": [
       "<pre style=\"white-space:pre;overflow-x:auto;line-height:normal;font-family:Menlo,'DejaVu Sans Mono',consolas,'Courier New',monospace\"><span style=\"color: #7fbfbf; text-decoration-color: #7fbfbf\">                    </span><span style=\"color: #000080; text-decoration-color: #000080\">INFO    </span> Scraping game schedule for Friday, Aug <span style=\"color: #008080; text-decoration-color: #008080; font-weight: bold\">25</span> <span style=\"color: #008080; text-decoration-color: #008080; font-weight: bold\">2023</span>                        <a href=\"file://C:\\Users\\HanifFurqonHidayat\\anaconda3\\lib\\site-packages\\soccerdata\\whoscored.py\" target=\"_blank\"><span style=\"color: #7f7f7f; text-decoration-color: #7f7f7f\">whoscored.py</span></a><span style=\"color: #7f7f7f; text-decoration-color: #7f7f7f\">:</span><a href=\"file://C:\\Users\\HanifFurqonHidayat\\anaconda3\\lib\\site-packages\\soccerdata\\whoscored.py#327\" target=\"_blank\"><span style=\"color: #7f7f7f; text-decoration-color: #7f7f7f\">327</span></a>\n",
       "</pre>\n"
      ],
      "text/plain": [
       "\u001b[2;36m                   \u001b[0m\u001b[2;36m \u001b[0m\u001b[34mINFO    \u001b[0m Scraping game schedule for Friday, Aug \u001b[1;36m25\u001b[0m \u001b[1;36m2023\u001b[0m                        \u001b]8;id=223766;file://C:\\Users\\HanifFurqonHidayat\\anaconda3\\lib\\site-packages\\soccerdata\\whoscored.py\u001b\\\u001b[2mwhoscored.py\u001b[0m\u001b]8;;\u001b\\\u001b[2m:\u001b[0m\u001b]8;id=940957;file://C:\\Users\\HanifFurqonHidayat\\anaconda3\\lib\\site-packages\\soccerdata\\whoscored.py#327\u001b\\\u001b[2m327\u001b[0m\u001b]8;;\u001b\\\n"
      ]
     },
     "metadata": {},
     "output_type": "display_data"
    },
    {
     "data": {
      "text/html": [
       "<pre style=\"white-space:pre;overflow-x:auto;line-height:normal;font-family:Menlo,'DejaVu Sans Mono',consolas,'Courier New',monospace\"><span style=\"color: #7fbfbf; text-decoration-color: #7fbfbf\">                    </span><span style=\"color: #000080; text-decoration-color: #000080\">INFO    </span> Scraping game schedule for Saturday, Aug <span style=\"color: #008080; text-decoration-color: #008080; font-weight: bold\">26</span> <span style=\"color: #008080; text-decoration-color: #008080; font-weight: bold\">2023</span>                      <a href=\"file://C:\\Users\\HanifFurqonHidayat\\anaconda3\\lib\\site-packages\\soccerdata\\whoscored.py\" target=\"_blank\"><span style=\"color: #7f7f7f; text-decoration-color: #7f7f7f\">whoscored.py</span></a><span style=\"color: #7f7f7f; text-decoration-color: #7f7f7f\">:</span><a href=\"file://C:\\Users\\HanifFurqonHidayat\\anaconda3\\lib\\site-packages\\soccerdata\\whoscored.py#327\" target=\"_blank\"><span style=\"color: #7f7f7f; text-decoration-color: #7f7f7f\">327</span></a>\n",
       "</pre>\n"
      ],
      "text/plain": [
       "\u001b[2;36m                   \u001b[0m\u001b[2;36m \u001b[0m\u001b[34mINFO    \u001b[0m Scraping game schedule for Saturday, Aug \u001b[1;36m26\u001b[0m \u001b[1;36m2023\u001b[0m                      \u001b]8;id=684579;file://C:\\Users\\HanifFurqonHidayat\\anaconda3\\lib\\site-packages\\soccerdata\\whoscored.py\u001b\\\u001b[2mwhoscored.py\u001b[0m\u001b]8;;\u001b\\\u001b[2m:\u001b[0m\u001b]8;id=470235;file://C:\\Users\\HanifFurqonHidayat\\anaconda3\\lib\\site-packages\\soccerdata\\whoscored.py#327\u001b\\\u001b[2m327\u001b[0m\u001b]8;;\u001b\\\n"
      ]
     },
     "metadata": {},
     "output_type": "display_data"
    },
    {
     "data": {
      "text/html": [
       "<pre style=\"white-space:pre;overflow-x:auto;line-height:normal;font-family:Menlo,'DejaVu Sans Mono',consolas,'Courier New',monospace\"><span style=\"color: #7fbfbf; text-decoration-color: #7fbfbf\">                    </span><span style=\"color: #000080; text-decoration-color: #000080\">INFO    </span> Scraping game schedule for Sunday, Aug <span style=\"color: #008080; text-decoration-color: #008080; font-weight: bold\">27</span> <span style=\"color: #008080; text-decoration-color: #008080; font-weight: bold\">2023</span>                        <a href=\"file://C:\\Users\\HanifFurqonHidayat\\anaconda3\\lib\\site-packages\\soccerdata\\whoscored.py\" target=\"_blank\"><span style=\"color: #7f7f7f; text-decoration-color: #7f7f7f\">whoscored.py</span></a><span style=\"color: #7f7f7f; text-decoration-color: #7f7f7f\">:</span><a href=\"file://C:\\Users\\HanifFurqonHidayat\\anaconda3\\lib\\site-packages\\soccerdata\\whoscored.py#327\" target=\"_blank\"><span style=\"color: #7f7f7f; text-decoration-color: #7f7f7f\">327</span></a>\n",
       "</pre>\n"
      ],
      "text/plain": [
       "\u001b[2;36m                   \u001b[0m\u001b[2;36m \u001b[0m\u001b[34mINFO    \u001b[0m Scraping game schedule for Sunday, Aug \u001b[1;36m27\u001b[0m \u001b[1;36m2023\u001b[0m                        \u001b]8;id=367054;file://C:\\Users\\HanifFurqonHidayat\\anaconda3\\lib\\site-packages\\soccerdata\\whoscored.py\u001b\\\u001b[2mwhoscored.py\u001b[0m\u001b]8;;\u001b\\\u001b[2m:\u001b[0m\u001b]8;id=66601;file://C:\\Users\\HanifFurqonHidayat\\anaconda3\\lib\\site-packages\\soccerdata\\whoscored.py#327\u001b\\\u001b[2m327\u001b[0m\u001b]8;;\u001b\\\n"
      ]
     },
     "metadata": {},
     "output_type": "display_data"
    },
    {
     "data": {
      "text/html": [
       "<div>\n",
       "<style scoped>\n",
       "    .dataframe tbody tr th:only-of-type {\n",
       "        vertical-align: middle;\n",
       "    }\n",
       "\n",
       "    .dataframe tbody tr th {\n",
       "        vertical-align: top;\n",
       "    }\n",
       "\n",
       "    .dataframe thead th {\n",
       "        text-align: right;\n",
       "    }\n",
       "</style>\n",
       "<table border=\"1\" class=\"dataframe\">\n",
       "  <thead>\n",
       "    <tr style=\"text-align: right;\">\n",
       "      <th></th>\n",
       "      <th></th>\n",
       "      <th></th>\n",
       "      <th>date</th>\n",
       "      <th>home_team</th>\n",
       "      <th>away_team</th>\n",
       "      <th>game_id</th>\n",
       "      <th>url</th>\n",
       "      <th>stage</th>\n",
       "    </tr>\n",
       "    <tr>\n",
       "      <th>league</th>\n",
       "      <th>season</th>\n",
       "      <th>game</th>\n",
       "      <th></th>\n",
       "      <th></th>\n",
       "      <th></th>\n",
       "      <th></th>\n",
       "      <th></th>\n",
       "      <th></th>\n",
       "    </tr>\n",
       "  </thead>\n",
       "  <tbody>\n",
       "    <tr>\n",
       "      <th rowspan=\"68\" valign=\"top\">ENG-Premier League</th>\n",
       "      <th rowspan=\"68\" valign=\"top\">2324</th>\n",
       "      <th>2023-08-11 Burnley-Manchester City</th>\n",
       "      <td>2023-08-11 20:00:00</td>\n",
       "      <td>Burnley</td>\n",
       "      <td>Manchester City</td>\n",
       "      <td>1729191</td>\n",
       "      <td>https://www.whoscored.com/Matches/1729191/Live...</td>\n",
       "      <td>None</td>\n",
       "    </tr>\n",
       "    <tr>\n",
       "      <th>2023-08-12 Arsenal-Nottingham Forest</th>\n",
       "      <td>2023-08-12 13:00:00</td>\n",
       "      <td>Arsenal</td>\n",
       "      <td>Nottingham Forest</td>\n",
       "      <td>1729190</td>\n",
       "      <td>https://www.whoscored.com/Matches/1729190/Live...</td>\n",
       "      <td>None</td>\n",
       "    </tr>\n",
       "    <tr>\n",
       "      <th>2023-08-12 Bournemouth-West Ham</th>\n",
       "      <td>2023-08-12 15:00:00</td>\n",
       "      <td>Bournemouth</td>\n",
       "      <td>West Ham</td>\n",
       "      <td>1729192</td>\n",
       "      <td>https://www.whoscored.com/Matches/1729192/Live...</td>\n",
       "      <td>None</td>\n",
       "    </tr>\n",
       "    <tr>\n",
       "      <th>2023-08-12 Brighton-Luton</th>\n",
       "      <td>2023-08-12 15:00:00</td>\n",
       "      <td>Brighton</td>\n",
       "      <td>Luton</td>\n",
       "      <td>1729193</td>\n",
       "      <td>https://www.whoscored.com/Matches/1729193/Live...</td>\n",
       "      <td>None</td>\n",
       "    </tr>\n",
       "    <tr>\n",
       "      <th>2023-08-12 Everton-Fulham</th>\n",
       "      <td>2023-08-12 15:00:00</td>\n",
       "      <td>Everton</td>\n",
       "      <td>Fulham</td>\n",
       "      <td>1729194</td>\n",
       "      <td>https://www.whoscored.com/Matches/1729194/Live...</td>\n",
       "      <td>None</td>\n",
       "    </tr>\n",
       "    <tr>\n",
       "      <th>2023-08-12 Newcastle-Aston Villa</th>\n",
       "      <td>2023-08-12 17:30:00</td>\n",
       "      <td>Newcastle</td>\n",
       "      <td>Aston Villa</td>\n",
       "      <td>1729196</td>\n",
       "      <td>https://www.whoscored.com/Matches/1729196/Live...</td>\n",
       "      <td>None</td>\n",
       "    </tr>\n",
       "    <tr>\n",
       "      <th>2023-08-12 Sheffield United-Crystal Palace</th>\n",
       "      <td>2023-08-12 15:00:00</td>\n",
       "      <td>Sheffield United</td>\n",
       "      <td>Crystal Palace</td>\n",
       "      <td>1729195</td>\n",
       "      <td>https://www.whoscored.com/Matches/1729195/Live...</td>\n",
       "      <td>None</td>\n",
       "    </tr>\n",
       "    <tr>\n",
       "      <th>2023-08-13 Brentford-Tottenham</th>\n",
       "      <td>2023-08-13 14:00:00</td>\n",
       "      <td>Brentford</td>\n",
       "      <td>Tottenham</td>\n",
       "      <td>1729197</td>\n",
       "      <td>https://www.whoscored.com/Matches/1729197/Live...</td>\n",
       "      <td>None</td>\n",
       "    </tr>\n",
       "    <tr>\n",
       "      <th>2023-08-13 Chelsea-Liverpool</th>\n",
       "      <td>2023-08-13 16:30:00</td>\n",
       "      <td>Chelsea</td>\n",
       "      <td>Liverpool</td>\n",
       "      <td>1729198</td>\n",
       "      <td>https://www.whoscored.com/Matches/1729198/Live...</td>\n",
       "      <td>None</td>\n",
       "    </tr>\n",
       "    <tr>\n",
       "      <th>2023-08-14 Manchester United-Wolves</th>\n",
       "      <td>2023-08-14 20:00:00</td>\n",
       "      <td>Manchester United</td>\n",
       "      <td>Wolves</td>\n",
       "      <td>1729199</td>\n",
       "      <td>https://www.whoscored.com/Matches/1729199/Live...</td>\n",
       "      <td>None</td>\n",
       "    </tr>\n",
       "    <tr>\n",
       "      <th>2023-08-18 Nottingham Forest-Sheffield United</th>\n",
       "      <td>2023-08-18 19:45:00</td>\n",
       "      <td>Nottingham Forest</td>\n",
       "      <td>Sheffield United</td>\n",
       "      <td>1729249</td>\n",
       "      <td>https://www.whoscored.com/Matches/1729249/Live...</td>\n",
       "      <td>None</td>\n",
       "    </tr>\n",
       "    <tr>\n",
       "      <th>2023-08-19 Fulham-Brentford</th>\n",
       "      <td>2023-08-19 15:00:00</td>\n",
       "      <td>Fulham</td>\n",
       "      <td>Brentford</td>\n",
       "      <td>1729200</td>\n",
       "      <td>https://www.whoscored.com/Matches/1729200/Live...</td>\n",
       "      <td>None</td>\n",
       "    </tr>\n",
       "    <tr>\n",
       "      <th>2023-08-19 Liverpool-Bournemouth</th>\n",
       "      <td>2023-08-19 15:00:00</td>\n",
       "      <td>Liverpool</td>\n",
       "      <td>Bournemouth</td>\n",
       "      <td>1729202</td>\n",
       "      <td>https://www.whoscored.com/Matches/1729202/Live...</td>\n",
       "      <td>None</td>\n",
       "    </tr>\n",
       "    <tr>\n",
       "      <th>2023-08-19 Luton-Burnley</th>\n",
       "      <td>2023-08-19 15:00:00</td>\n",
       "      <td>Luton</td>\n",
       "      <td>Burnley</td>\n",
       "      <td>1729201</td>\n",
       "      <td>https://www.whoscored.com/Matches/1729201/Show...</td>\n",
       "      <td>None</td>\n",
       "    </tr>\n",
       "    <tr>\n",
       "      <th>2023-08-19 Manchester City-Newcastle</th>\n",
       "      <td>2023-08-19 20:00:00</td>\n",
       "      <td>Manchester City</td>\n",
       "      <td>Newcastle</td>\n",
       "      <td>1729252</td>\n",
       "      <td>https://www.whoscored.com/Matches/1729252/Live...</td>\n",
       "      <td>None</td>\n",
       "    </tr>\n",
       "    <tr>\n",
       "      <th>2023-08-19 Tottenham-Manchester United</th>\n",
       "      <td>2023-08-19 17:30:00</td>\n",
       "      <td>Tottenham</td>\n",
       "      <td>Manchester United</td>\n",
       "      <td>1729251</td>\n",
       "      <td>https://www.whoscored.com/Matches/1729251/Live...</td>\n",
       "      <td>None</td>\n",
       "    </tr>\n",
       "    <tr>\n",
       "      <th>2023-08-19 Wolves-Brighton</th>\n",
       "      <td>2023-08-19 15:00:00</td>\n",
       "      <td>Wolves</td>\n",
       "      <td>Brighton</td>\n",
       "      <td>1729254</td>\n",
       "      <td>https://www.whoscored.com/Matches/1729254/Live...</td>\n",
       "      <td>None</td>\n",
       "    </tr>\n",
       "    <tr>\n",
       "      <th>2023-08-20 Aston Villa-Everton</th>\n",
       "      <td>2023-08-20 14:00:00</td>\n",
       "      <td>Aston Villa</td>\n",
       "      <td>Everton</td>\n",
       "      <td>1729250</td>\n",
       "      <td>https://www.whoscored.com/Matches/1729250/Live...</td>\n",
       "      <td>None</td>\n",
       "    </tr>\n",
       "    <tr>\n",
       "      <th>2023-08-20 West Ham-Chelsea</th>\n",
       "      <td>2023-08-20 16:30:00</td>\n",
       "      <td>West Ham</td>\n",
       "      <td>Chelsea</td>\n",
       "      <td>1729253</td>\n",
       "      <td>https://www.whoscored.com/Matches/1729253/Live...</td>\n",
       "      <td>None</td>\n",
       "    </tr>\n",
       "    <tr>\n",
       "      <th>2023-08-21 Crystal Palace-Arsenal</th>\n",
       "      <td>2023-08-21 20:00:00</td>\n",
       "      <td>Crystal Palace</td>\n",
       "      <td>Arsenal</td>\n",
       "      <td>1729203</td>\n",
       "      <td>https://www.whoscored.com/Matches/1729203/Live...</td>\n",
       "      <td>None</td>\n",
       "    </tr>\n",
       "    <tr>\n",
       "      <th>2023-08-25 Chelsea-Luton</th>\n",
       "      <td>2023-08-25 20:00:00</td>\n",
       "      <td>Chelsea</td>\n",
       "      <td>Luton</td>\n",
       "      <td>1729260</td>\n",
       "      <td>https://www.whoscored.com/Matches/1729260/Live...</td>\n",
       "      <td>None</td>\n",
       "    </tr>\n",
       "    <tr>\n",
       "      <th>2023-08-26 Arsenal-Fulham</th>\n",
       "      <td>2023-08-26 15:00:00</td>\n",
       "      <td>Arsenal</td>\n",
       "      <td>Fulham</td>\n",
       "      <td>1729256</td>\n",
       "      <td>https://www.whoscored.com/Matches/1729256/Live...</td>\n",
       "      <td>None</td>\n",
       "    </tr>\n",
       "    <tr>\n",
       "      <th>2023-08-26 Bournemouth-Tottenham</th>\n",
       "      <td>2023-08-26 12:30:00</td>\n",
       "      <td>Bournemouth</td>\n",
       "      <td>Tottenham</td>\n",
       "      <td>1729255</td>\n",
       "      <td>https://www.whoscored.com/Matches/1729255/Live...</td>\n",
       "      <td>None</td>\n",
       "    </tr>\n",
       "    <tr>\n",
       "      <th>2023-08-26 Brentford-Crystal Palace</th>\n",
       "      <td>2023-08-26 15:00:00</td>\n",
       "      <td>Brentford</td>\n",
       "      <td>Crystal Palace</td>\n",
       "      <td>1729257</td>\n",
       "      <td>https://www.whoscored.com/Matches/1729257/Live...</td>\n",
       "      <td>None</td>\n",
       "    </tr>\n",
       "    <tr>\n",
       "      <th>2023-08-26 Brighton-West Ham</th>\n",
       "      <td>2023-08-26 17:30:00</td>\n",
       "      <td>Brighton</td>\n",
       "      <td>West Ham</td>\n",
       "      <td>1729258</td>\n",
       "      <td>https://www.whoscored.com/Matches/1729258/Live...</td>\n",
       "      <td>None</td>\n",
       "    </tr>\n",
       "    <tr>\n",
       "      <th>2023-08-26 Everton-Wolves</th>\n",
       "      <td>2023-08-26 15:00:00</td>\n",
       "      <td>Everton</td>\n",
       "      <td>Wolves</td>\n",
       "      <td>1729261</td>\n",
       "      <td>https://www.whoscored.com/Matches/1729261/Live...</td>\n",
       "      <td>None</td>\n",
       "    </tr>\n",
       "    <tr>\n",
       "      <th>2023-08-26 Manchester United-Nottingham Forest</th>\n",
       "      <td>2023-08-26 15:00:00</td>\n",
       "      <td>Manchester United</td>\n",
       "      <td>Nottingham Forest</td>\n",
       "      <td>1729262</td>\n",
       "      <td>https://www.whoscored.com/Matches/1729262/Live...</td>\n",
       "      <td>None</td>\n",
       "    </tr>\n",
       "    <tr>\n",
       "      <th>2023-08-27 Burnley-Aston Villa</th>\n",
       "      <td>2023-08-27 14:00:00</td>\n",
       "      <td>Burnley</td>\n",
       "      <td>Aston Villa</td>\n",
       "      <td>1729259</td>\n",
       "      <td>https://www.whoscored.com/Matches/1729259/Live...</td>\n",
       "      <td>None</td>\n",
       "    </tr>\n",
       "    <tr>\n",
       "      <th>2023-08-27 Newcastle-Liverpool</th>\n",
       "      <td>2023-08-27 16:30:00</td>\n",
       "      <td>Newcastle</td>\n",
       "      <td>Liverpool</td>\n",
       "      <td>1729263</td>\n",
       "      <td>https://www.whoscored.com/Matches/1729263/Live...</td>\n",
       "      <td>None</td>\n",
       "    </tr>\n",
       "    <tr>\n",
       "      <th>2023-08-27 Sheffield United-Manchester City</th>\n",
       "      <td>2023-08-27 14:00:00</td>\n",
       "      <td>Sheffield United</td>\n",
       "      <td>Manchester City</td>\n",
       "      <td>1729264</td>\n",
       "      <td>https://www.whoscored.com/Matches/1729264/Live...</td>\n",
       "      <td>None</td>\n",
       "    </tr>\n",
       "    <tr>\n",
       "      <th>2023-09-01 Luton-West Ham</th>\n",
       "      <td>2023-09-01 20:00:00</td>\n",
       "      <td>Luton</td>\n",
       "      <td>West Ham</td>\n",
       "      <td>1729272</td>\n",
       "      <td>https://www.whoscored.com/Matches/1729272/Live...</td>\n",
       "      <td>None</td>\n",
       "    </tr>\n",
       "    <tr>\n",
       "      <th>2023-09-02 Brentford-Bournemouth</th>\n",
       "      <td>2023-09-02 15:00:00</td>\n",
       "      <td>Brentford</td>\n",
       "      <td>Bournemouth</td>\n",
       "      <td>1729266</td>\n",
       "      <td>https://www.whoscored.com/Matches/1729266/Live...</td>\n",
       "      <td>None</td>\n",
       "    </tr>\n",
       "    <tr>\n",
       "      <th>2023-09-02 Brighton-Newcastle</th>\n",
       "      <td>2023-09-02 17:30:00</td>\n",
       "      <td>Brighton</td>\n",
       "      <td>Newcastle</td>\n",
       "      <td>1729267</td>\n",
       "      <td>https://www.whoscored.com/Matches/1729267/Live...</td>\n",
       "      <td>None</td>\n",
       "    </tr>\n",
       "    <tr>\n",
       "      <th>2023-09-02 Burnley-Tottenham</th>\n",
       "      <td>2023-09-02 15:00:00</td>\n",
       "      <td>Burnley</td>\n",
       "      <td>Tottenham</td>\n",
       "      <td>1729268</td>\n",
       "      <td>https://www.whoscored.com/Matches/1729268/Live...</td>\n",
       "      <td>None</td>\n",
       "    </tr>\n",
       "    <tr>\n",
       "      <th>2023-09-02 Chelsea-Nottingham Forest</th>\n",
       "      <td>2023-09-02 15:00:00</td>\n",
       "      <td>Chelsea</td>\n",
       "      <td>Nottingham Forest</td>\n",
       "      <td>1729269</td>\n",
       "      <td>https://www.whoscored.com/Matches/1729269/Live...</td>\n",
       "      <td>None</td>\n",
       "    </tr>\n",
       "    <tr>\n",
       "      <th>2023-09-02 Manchester City-Fulham</th>\n",
       "      <td>2023-09-02 15:00:00</td>\n",
       "      <td>Manchester City</td>\n",
       "      <td>Fulham</td>\n",
       "      <td>1729273</td>\n",
       "      <td>https://www.whoscored.com/Matches/1729273/Live...</td>\n",
       "      <td>None</td>\n",
       "    </tr>\n",
       "    <tr>\n",
       "      <th>2023-09-02 Sheffield United-Everton</th>\n",
       "      <td>2023-09-02 12:30:00</td>\n",
       "      <td>Sheffield United</td>\n",
       "      <td>Everton</td>\n",
       "      <td>1729274</td>\n",
       "      <td>https://www.whoscored.com/Matches/1729274/Live...</td>\n",
       "      <td>None</td>\n",
       "    </tr>\n",
       "    <tr>\n",
       "      <th>2023-09-03 Arsenal-Manchester United</th>\n",
       "      <td>2023-09-03 16:30:00</td>\n",
       "      <td>Arsenal</td>\n",
       "      <td>Manchester United</td>\n",
       "      <td>1729265</td>\n",
       "      <td>https://www.whoscored.com/Matches/1729265/Live...</td>\n",
       "      <td>None</td>\n",
       "    </tr>\n",
       "    <tr>\n",
       "      <th>2023-09-03 Crystal Palace-Wolves</th>\n",
       "      <td>2023-09-03 14:00:00</td>\n",
       "      <td>Crystal Palace</td>\n",
       "      <td>Wolves</td>\n",
       "      <td>1729270</td>\n",
       "      <td>https://www.whoscored.com/Matches/1729270/Live...</td>\n",
       "      <td>None</td>\n",
       "    </tr>\n",
       "    <tr>\n",
       "      <th>2023-09-03 Liverpool-Aston Villa</th>\n",
       "      <td>2023-09-03 14:00:00</td>\n",
       "      <td>Liverpool</td>\n",
       "      <td>Aston Villa</td>\n",
       "      <td>1729271</td>\n",
       "      <td>https://www.whoscored.com/Matches/1729271/Live...</td>\n",
       "      <td>None</td>\n",
       "    </tr>\n",
       "    <tr>\n",
       "      <th>2023-09-16 Aston Villa-Crystal Palace</th>\n",
       "      <td>2023-09-16 15:00:00</td>\n",
       "      <td>Aston Villa</td>\n",
       "      <td>Crystal Palace</td>\n",
       "      <td>1729276</td>\n",
       "      <td>https://www.whoscored.com/Matches/1729276/Show...</td>\n",
       "      <td>None</td>\n",
       "    </tr>\n",
       "    <tr>\n",
       "      <th>2023-09-16 Fulham-Luton</th>\n",
       "      <td>2023-09-16 15:00:00</td>\n",
       "      <td>Fulham</td>\n",
       "      <td>Luton</td>\n",
       "      <td>1729278</td>\n",
       "      <td>https://www.whoscored.com/Matches/1729278/Show...</td>\n",
       "      <td>None</td>\n",
       "    </tr>\n",
       "    <tr>\n",
       "      <th>2023-09-16 Manchester United-Brighton</th>\n",
       "      <td>2023-09-16 15:00:00</td>\n",
       "      <td>Manchester United</td>\n",
       "      <td>Brighton</td>\n",
       "      <td>1729279</td>\n",
       "      <td>https://www.whoscored.com/Matches/1729279/Show...</td>\n",
       "      <td>None</td>\n",
       "    </tr>\n",
       "    <tr>\n",
       "      <th>2023-09-16 Newcastle-Brentford</th>\n",
       "      <td>2023-09-16 17:30:00</td>\n",
       "      <td>Newcastle</td>\n",
       "      <td>Brentford</td>\n",
       "      <td>1729280</td>\n",
       "      <td>https://www.whoscored.com/Matches/1729280/Show...</td>\n",
       "      <td>None</td>\n",
       "    </tr>\n",
       "    <tr>\n",
       "      <th>2023-09-16 Tottenham-Sheffield United</th>\n",
       "      <td>2023-09-16 15:00:00</td>\n",
       "      <td>Tottenham</td>\n",
       "      <td>Sheffield United</td>\n",
       "      <td>1729282</td>\n",
       "      <td>https://www.whoscored.com/Matches/1729282/Show...</td>\n",
       "      <td>None</td>\n",
       "    </tr>\n",
       "    <tr>\n",
       "      <th>2023-09-16 West Ham-Manchester City</th>\n",
       "      <td>2023-09-16 15:00:00</td>\n",
       "      <td>West Ham</td>\n",
       "      <td>Manchester City</td>\n",
       "      <td>1729283</td>\n",
       "      <td>https://www.whoscored.com/Matches/1729283/Show...</td>\n",
       "      <td>None</td>\n",
       "    </tr>\n",
       "    <tr>\n",
       "      <th>2023-09-16 Wolves-Liverpool</th>\n",
       "      <td>2023-09-16 12:30:00</td>\n",
       "      <td>Wolves</td>\n",
       "      <td>Liverpool</td>\n",
       "      <td>1729284</td>\n",
       "      <td>https://www.whoscored.com/Matches/1729284/Show...</td>\n",
       "      <td>None</td>\n",
       "    </tr>\n",
       "    <tr>\n",
       "      <th>2023-09-17 Bournemouth-Chelsea</th>\n",
       "      <td>2023-09-17 14:00:00</td>\n",
       "      <td>Bournemouth</td>\n",
       "      <td>Chelsea</td>\n",
       "      <td>1729275</td>\n",
       "      <td>https://www.whoscored.com/Matches/1729275/Show...</td>\n",
       "      <td>None</td>\n",
       "    </tr>\n",
       "    <tr>\n",
       "      <th>2023-09-17 Everton-Arsenal</th>\n",
       "      <td>2023-09-17 16:30:00</td>\n",
       "      <td>Everton</td>\n",
       "      <td>Arsenal</td>\n",
       "      <td>1729277</td>\n",
       "      <td>https://www.whoscored.com/Matches/1729277/Show...</td>\n",
       "      <td>None</td>\n",
       "    </tr>\n",
       "    <tr>\n",
       "      <th>2023-09-18 Nottingham Forest-Burnley</th>\n",
       "      <td>2023-09-18 19:45:00</td>\n",
       "      <td>Nottingham Forest</td>\n",
       "      <td>Burnley</td>\n",
       "      <td>1729281</td>\n",
       "      <td>https://www.whoscored.com/Matches/1729281/Show...</td>\n",
       "      <td>None</td>\n",
       "    </tr>\n",
       "    <tr>\n",
       "      <th>2023-09-23 Brentford-Everton</th>\n",
       "      <td>2023-09-23 17:30:00</td>\n",
       "      <td>Brentford</td>\n",
       "      <td>Everton</td>\n",
       "      <td>1729286</td>\n",
       "      <td>https://www.whoscored.com/Matches/1729286/Show...</td>\n",
       "      <td>None</td>\n",
       "    </tr>\n",
       "    <tr>\n",
       "      <th>2023-09-23 Burnley-Manchester United</th>\n",
       "      <td>2023-09-23 20:00:00</td>\n",
       "      <td>Burnley</td>\n",
       "      <td>Manchester United</td>\n",
       "      <td>1729288</td>\n",
       "      <td>https://www.whoscored.com/Matches/1729288/Show...</td>\n",
       "      <td>None</td>\n",
       "    </tr>\n",
       "    <tr>\n",
       "      <th>2023-09-23 Crystal Palace-Fulham</th>\n",
       "      <td>2023-09-23 15:00:00</td>\n",
       "      <td>Crystal Palace</td>\n",
       "      <td>Fulham</td>\n",
       "      <td>1729290</td>\n",
       "      <td>https://www.whoscored.com/Matches/1729290/Show...</td>\n",
       "      <td>None</td>\n",
       "    </tr>\n",
       "    <tr>\n",
       "      <th>2023-09-23 Luton-Wolves</th>\n",
       "      <td>2023-09-23 15:00:00</td>\n",
       "      <td>Luton</td>\n",
       "      <td>Wolves</td>\n",
       "      <td>1729292</td>\n",
       "      <td>https://www.whoscored.com/Matches/1729292/Show...</td>\n",
       "      <td>None</td>\n",
       "    </tr>\n",
       "    <tr>\n",
       "      <th>2023-09-23 Manchester City-Nottingham Forest</th>\n",
       "      <td>2023-09-23 15:00:00</td>\n",
       "      <td>Manchester City</td>\n",
       "      <td>Nottingham Forest</td>\n",
       "      <td>1729293</td>\n",
       "      <td>https://www.whoscored.com/Matches/1729293/Show...</td>\n",
       "      <td>None</td>\n",
       "    </tr>\n",
       "    <tr>\n",
       "      <th>2023-09-24 Arsenal-Tottenham</th>\n",
       "      <td>2023-09-24 14:00:00</td>\n",
       "      <td>Arsenal</td>\n",
       "      <td>Tottenham</td>\n",
       "      <td>1729285</td>\n",
       "      <td>https://www.whoscored.com/Matches/1729285/Show...</td>\n",
       "      <td>None</td>\n",
       "    </tr>\n",
       "    <tr>\n",
       "      <th>2023-09-24 Brighton-Bournemouth</th>\n",
       "      <td>2023-09-24 14:00:00</td>\n",
       "      <td>Brighton</td>\n",
       "      <td>Bournemouth</td>\n",
       "      <td>1729287</td>\n",
       "      <td>https://www.whoscored.com/Matches/1729287/Show...</td>\n",
       "      <td>None</td>\n",
       "    </tr>\n",
       "    <tr>\n",
       "      <th>2023-09-24 Chelsea-Aston Villa</th>\n",
       "      <td>2023-09-24 14:00:00</td>\n",
       "      <td>Chelsea</td>\n",
       "      <td>Aston Villa</td>\n",
       "      <td>1729289</td>\n",
       "      <td>https://www.whoscored.com/Matches/1729289/Show...</td>\n",
       "      <td>None</td>\n",
       "    </tr>\n",
       "    <tr>\n",
       "      <th>2023-09-24 Liverpool-West Ham</th>\n",
       "      <td>2023-09-24 14:00:00</td>\n",
       "      <td>Liverpool</td>\n",
       "      <td>West Ham</td>\n",
       "      <td>1729291</td>\n",
       "      <td>https://www.whoscored.com/Matches/1729291/Show...</td>\n",
       "      <td>None</td>\n",
       "    </tr>\n",
       "    <tr>\n",
       "      <th>2023-09-24 Sheffield United-Newcastle</th>\n",
       "      <td>2023-09-24 16:30:00</td>\n",
       "      <td>Sheffield United</td>\n",
       "      <td>Newcastle</td>\n",
       "      <td>1729294</td>\n",
       "      <td>https://www.whoscored.com/Matches/1729294/Show...</td>\n",
       "      <td>None</td>\n",
       "    </tr>\n",
       "    <tr>\n",
       "      <th>2023-09-30 Aston Villa-Brighton</th>\n",
       "      <td>2023-09-30 12:30:00</td>\n",
       "      <td>Aston Villa</td>\n",
       "      <td>Brighton</td>\n",
       "      <td>1729296</td>\n",
       "      <td>https://www.whoscored.com/Matches/1729296/Show...</td>\n",
       "      <td>None</td>\n",
       "    </tr>\n",
       "    <tr>\n",
       "      <th>2023-09-30 Bournemouth-Arsenal</th>\n",
       "      <td>2023-09-30 15:00:00</td>\n",
       "      <td>Bournemouth</td>\n",
       "      <td>Arsenal</td>\n",
       "      <td>1729295</td>\n",
       "      <td>https://www.whoscored.com/Matches/1729295/Show...</td>\n",
       "      <td>None</td>\n",
       "    </tr>\n",
       "    <tr>\n",
       "      <th>2023-09-30 Everton-Luton</th>\n",
       "      <td>2023-09-30 15:00:00</td>\n",
       "      <td>Everton</td>\n",
       "      <td>Luton</td>\n",
       "      <td>1729297</td>\n",
       "      <td>https://www.whoscored.com/Matches/1729297/Show...</td>\n",
       "      <td>None</td>\n",
       "    </tr>\n",
       "    <tr>\n",
       "      <th>2023-09-30 Manchester United-Crystal Palace</th>\n",
       "      <td>2023-09-30 15:00:00</td>\n",
       "      <td>Manchester United</td>\n",
       "      <td>Crystal Palace</td>\n",
       "      <td>1729299</td>\n",
       "      <td>https://www.whoscored.com/Matches/1729299/Show...</td>\n",
       "      <td>None</td>\n",
       "    </tr>\n",
       "    <tr>\n",
       "      <th>2023-09-30 Newcastle-Burnley</th>\n",
       "      <td>2023-09-30 15:00:00</td>\n",
       "      <td>Newcastle</td>\n",
       "      <td>Burnley</td>\n",
       "      <td>1729300</td>\n",
       "      <td>https://www.whoscored.com/Matches/1729300/Show...</td>\n",
       "      <td>None</td>\n",
       "    </tr>\n",
       "    <tr>\n",
       "      <th>2023-09-30 Tottenham-Liverpool</th>\n",
       "      <td>2023-09-30 17:30:00</td>\n",
       "      <td>Tottenham</td>\n",
       "      <td>Liverpool</td>\n",
       "      <td>1729302</td>\n",
       "      <td>https://www.whoscored.com/Matches/1729302/Show...</td>\n",
       "      <td>None</td>\n",
       "    </tr>\n",
       "    <tr>\n",
       "      <th>2023-09-30 West Ham-Sheffield United</th>\n",
       "      <td>2023-09-30 15:00:00</td>\n",
       "      <td>West Ham</td>\n",
       "      <td>Sheffield United</td>\n",
       "      <td>1729303</td>\n",
       "      <td>https://www.whoscored.com/Matches/1729303/Show...</td>\n",
       "      <td>None</td>\n",
       "    </tr>\n",
       "    <tr>\n",
       "      <th>2023-09-30 Wolves-Manchester City</th>\n",
       "      <td>2023-09-30 15:00:00</td>\n",
       "      <td>Wolves</td>\n",
       "      <td>Manchester City</td>\n",
       "      <td>1729304</td>\n",
       "      <td>https://www.whoscored.com/Matches/1729304/Show...</td>\n",
       "      <td>None</td>\n",
       "    </tr>\n",
       "  </tbody>\n",
       "</table>\n",
       "</div>"
      ],
      "text/plain": [
       "                                                                                        date  \\\n",
       "league             season game                                                                 \n",
       "ENG-Premier League 2324   2023-08-11 Burnley-Manchester City             2023-08-11 20:00:00   \n",
       "                          2023-08-12 Arsenal-Nottingham Forest           2023-08-12 13:00:00   \n",
       "                          2023-08-12 Bournemouth-West Ham                2023-08-12 15:00:00   \n",
       "                          2023-08-12 Brighton-Luton                      2023-08-12 15:00:00   \n",
       "                          2023-08-12 Everton-Fulham                      2023-08-12 15:00:00   \n",
       "                          2023-08-12 Newcastle-Aston Villa               2023-08-12 17:30:00   \n",
       "                          2023-08-12 Sheffield United-Crystal Palace     2023-08-12 15:00:00   \n",
       "                          2023-08-13 Brentford-Tottenham                 2023-08-13 14:00:00   \n",
       "                          2023-08-13 Chelsea-Liverpool                   2023-08-13 16:30:00   \n",
       "                          2023-08-14 Manchester United-Wolves            2023-08-14 20:00:00   \n",
       "                          2023-08-18 Nottingham Forest-Sheffield United  2023-08-18 19:45:00   \n",
       "                          2023-08-19 Fulham-Brentford                    2023-08-19 15:00:00   \n",
       "                          2023-08-19 Liverpool-Bournemouth               2023-08-19 15:00:00   \n",
       "                          2023-08-19 Luton-Burnley                       2023-08-19 15:00:00   \n",
       "                          2023-08-19 Manchester City-Newcastle           2023-08-19 20:00:00   \n",
       "                          2023-08-19 Tottenham-Manchester United         2023-08-19 17:30:00   \n",
       "                          2023-08-19 Wolves-Brighton                     2023-08-19 15:00:00   \n",
       "                          2023-08-20 Aston Villa-Everton                 2023-08-20 14:00:00   \n",
       "                          2023-08-20 West Ham-Chelsea                    2023-08-20 16:30:00   \n",
       "                          2023-08-21 Crystal Palace-Arsenal              2023-08-21 20:00:00   \n",
       "                          2023-08-25 Chelsea-Luton                       2023-08-25 20:00:00   \n",
       "                          2023-08-26 Arsenal-Fulham                      2023-08-26 15:00:00   \n",
       "                          2023-08-26 Bournemouth-Tottenham               2023-08-26 12:30:00   \n",
       "                          2023-08-26 Brentford-Crystal Palace            2023-08-26 15:00:00   \n",
       "                          2023-08-26 Brighton-West Ham                   2023-08-26 17:30:00   \n",
       "                          2023-08-26 Everton-Wolves                      2023-08-26 15:00:00   \n",
       "                          2023-08-26 Manchester United-Nottingham Forest 2023-08-26 15:00:00   \n",
       "                          2023-08-27 Burnley-Aston Villa                 2023-08-27 14:00:00   \n",
       "                          2023-08-27 Newcastle-Liverpool                 2023-08-27 16:30:00   \n",
       "                          2023-08-27 Sheffield United-Manchester City    2023-08-27 14:00:00   \n",
       "                          2023-09-01 Luton-West Ham                      2023-09-01 20:00:00   \n",
       "                          2023-09-02 Brentford-Bournemouth               2023-09-02 15:00:00   \n",
       "                          2023-09-02 Brighton-Newcastle                  2023-09-02 17:30:00   \n",
       "                          2023-09-02 Burnley-Tottenham                   2023-09-02 15:00:00   \n",
       "                          2023-09-02 Chelsea-Nottingham Forest           2023-09-02 15:00:00   \n",
       "                          2023-09-02 Manchester City-Fulham              2023-09-02 15:00:00   \n",
       "                          2023-09-02 Sheffield United-Everton            2023-09-02 12:30:00   \n",
       "                          2023-09-03 Arsenal-Manchester United           2023-09-03 16:30:00   \n",
       "                          2023-09-03 Crystal Palace-Wolves               2023-09-03 14:00:00   \n",
       "                          2023-09-03 Liverpool-Aston Villa               2023-09-03 14:00:00   \n",
       "                          2023-09-16 Aston Villa-Crystal Palace          2023-09-16 15:00:00   \n",
       "                          2023-09-16 Fulham-Luton                        2023-09-16 15:00:00   \n",
       "                          2023-09-16 Manchester United-Brighton          2023-09-16 15:00:00   \n",
       "                          2023-09-16 Newcastle-Brentford                 2023-09-16 17:30:00   \n",
       "                          2023-09-16 Tottenham-Sheffield United          2023-09-16 15:00:00   \n",
       "                          2023-09-16 West Ham-Manchester City            2023-09-16 15:00:00   \n",
       "                          2023-09-16 Wolves-Liverpool                    2023-09-16 12:30:00   \n",
       "                          2023-09-17 Bournemouth-Chelsea                 2023-09-17 14:00:00   \n",
       "                          2023-09-17 Everton-Arsenal                     2023-09-17 16:30:00   \n",
       "                          2023-09-18 Nottingham Forest-Burnley           2023-09-18 19:45:00   \n",
       "                          2023-09-23 Brentford-Everton                   2023-09-23 17:30:00   \n",
       "                          2023-09-23 Burnley-Manchester United           2023-09-23 20:00:00   \n",
       "                          2023-09-23 Crystal Palace-Fulham               2023-09-23 15:00:00   \n",
       "                          2023-09-23 Luton-Wolves                        2023-09-23 15:00:00   \n",
       "                          2023-09-23 Manchester City-Nottingham Forest   2023-09-23 15:00:00   \n",
       "                          2023-09-24 Arsenal-Tottenham                   2023-09-24 14:00:00   \n",
       "                          2023-09-24 Brighton-Bournemouth                2023-09-24 14:00:00   \n",
       "                          2023-09-24 Chelsea-Aston Villa                 2023-09-24 14:00:00   \n",
       "                          2023-09-24 Liverpool-West Ham                  2023-09-24 14:00:00   \n",
       "                          2023-09-24 Sheffield United-Newcastle          2023-09-24 16:30:00   \n",
       "                          2023-09-30 Aston Villa-Brighton                2023-09-30 12:30:00   \n",
       "                          2023-09-30 Bournemouth-Arsenal                 2023-09-30 15:00:00   \n",
       "                          2023-09-30 Everton-Luton                       2023-09-30 15:00:00   \n",
       "                          2023-09-30 Manchester United-Crystal Palace    2023-09-30 15:00:00   \n",
       "                          2023-09-30 Newcastle-Burnley                   2023-09-30 15:00:00   \n",
       "                          2023-09-30 Tottenham-Liverpool                 2023-09-30 17:30:00   \n",
       "                          2023-09-30 West Ham-Sheffield United           2023-09-30 15:00:00   \n",
       "                          2023-09-30 Wolves-Manchester City              2023-09-30 15:00:00   \n",
       "\n",
       "                                                                                  home_team  \\\n",
       "league             season game                                                                \n",
       "ENG-Premier League 2324   2023-08-11 Burnley-Manchester City                        Burnley   \n",
       "                          2023-08-12 Arsenal-Nottingham Forest                      Arsenal   \n",
       "                          2023-08-12 Bournemouth-West Ham                       Bournemouth   \n",
       "                          2023-08-12 Brighton-Luton                                Brighton   \n",
       "                          2023-08-12 Everton-Fulham                                 Everton   \n",
       "                          2023-08-12 Newcastle-Aston Villa                        Newcastle   \n",
       "                          2023-08-12 Sheffield United-Crystal Palace       Sheffield United   \n",
       "                          2023-08-13 Brentford-Tottenham                          Brentford   \n",
       "                          2023-08-13 Chelsea-Liverpool                              Chelsea   \n",
       "                          2023-08-14 Manchester United-Wolves             Manchester United   \n",
       "                          2023-08-18 Nottingham Forest-Sheffield United   Nottingham Forest   \n",
       "                          2023-08-19 Fulham-Brentford                                Fulham   \n",
       "                          2023-08-19 Liverpool-Bournemouth                        Liverpool   \n",
       "                          2023-08-19 Luton-Burnley                                    Luton   \n",
       "                          2023-08-19 Manchester City-Newcastle              Manchester City   \n",
       "                          2023-08-19 Tottenham-Manchester United                  Tottenham   \n",
       "                          2023-08-19 Wolves-Brighton                                 Wolves   \n",
       "                          2023-08-20 Aston Villa-Everton                        Aston Villa   \n",
       "                          2023-08-20 West Ham-Chelsea                              West Ham   \n",
       "                          2023-08-21 Crystal Palace-Arsenal                  Crystal Palace   \n",
       "                          2023-08-25 Chelsea-Luton                                  Chelsea   \n",
       "                          2023-08-26 Arsenal-Fulham                                 Arsenal   \n",
       "                          2023-08-26 Bournemouth-Tottenham                      Bournemouth   \n",
       "                          2023-08-26 Brentford-Crystal Palace                     Brentford   \n",
       "                          2023-08-26 Brighton-West Ham                             Brighton   \n",
       "                          2023-08-26 Everton-Wolves                                 Everton   \n",
       "                          2023-08-26 Manchester United-Nottingham Forest  Manchester United   \n",
       "                          2023-08-27 Burnley-Aston Villa                            Burnley   \n",
       "                          2023-08-27 Newcastle-Liverpool                          Newcastle   \n",
       "                          2023-08-27 Sheffield United-Manchester City      Sheffield United   \n",
       "                          2023-09-01 Luton-West Ham                                   Luton   \n",
       "                          2023-09-02 Brentford-Bournemouth                        Brentford   \n",
       "                          2023-09-02 Brighton-Newcastle                            Brighton   \n",
       "                          2023-09-02 Burnley-Tottenham                              Burnley   \n",
       "                          2023-09-02 Chelsea-Nottingham Forest                      Chelsea   \n",
       "                          2023-09-02 Manchester City-Fulham                 Manchester City   \n",
       "                          2023-09-02 Sheffield United-Everton              Sheffield United   \n",
       "                          2023-09-03 Arsenal-Manchester United                      Arsenal   \n",
       "                          2023-09-03 Crystal Palace-Wolves                   Crystal Palace   \n",
       "                          2023-09-03 Liverpool-Aston Villa                        Liverpool   \n",
       "                          2023-09-16 Aston Villa-Crystal Palace                 Aston Villa   \n",
       "                          2023-09-16 Fulham-Luton                                    Fulham   \n",
       "                          2023-09-16 Manchester United-Brighton           Manchester United   \n",
       "                          2023-09-16 Newcastle-Brentford                          Newcastle   \n",
       "                          2023-09-16 Tottenham-Sheffield United                   Tottenham   \n",
       "                          2023-09-16 West Ham-Manchester City                      West Ham   \n",
       "                          2023-09-16 Wolves-Liverpool                                Wolves   \n",
       "                          2023-09-17 Bournemouth-Chelsea                        Bournemouth   \n",
       "                          2023-09-17 Everton-Arsenal                                Everton   \n",
       "                          2023-09-18 Nottingham Forest-Burnley            Nottingham Forest   \n",
       "                          2023-09-23 Brentford-Everton                            Brentford   \n",
       "                          2023-09-23 Burnley-Manchester United                      Burnley   \n",
       "                          2023-09-23 Crystal Palace-Fulham                   Crystal Palace   \n",
       "                          2023-09-23 Luton-Wolves                                     Luton   \n",
       "                          2023-09-23 Manchester City-Nottingham Forest      Manchester City   \n",
       "                          2023-09-24 Arsenal-Tottenham                              Arsenal   \n",
       "                          2023-09-24 Brighton-Bournemouth                          Brighton   \n",
       "                          2023-09-24 Chelsea-Aston Villa                            Chelsea   \n",
       "                          2023-09-24 Liverpool-West Ham                           Liverpool   \n",
       "                          2023-09-24 Sheffield United-Newcastle            Sheffield United   \n",
       "                          2023-09-30 Aston Villa-Brighton                       Aston Villa   \n",
       "                          2023-09-30 Bournemouth-Arsenal                        Bournemouth   \n",
       "                          2023-09-30 Everton-Luton                                  Everton   \n",
       "                          2023-09-30 Manchester United-Crystal Palace     Manchester United   \n",
       "                          2023-09-30 Newcastle-Burnley                            Newcastle   \n",
       "                          2023-09-30 Tottenham-Liverpool                          Tottenham   \n",
       "                          2023-09-30 West Ham-Sheffield United                     West Ham   \n",
       "                          2023-09-30 Wolves-Manchester City                          Wolves   \n",
       "\n",
       "                                                                                  away_team  \\\n",
       "league             season game                                                                \n",
       "ENG-Premier League 2324   2023-08-11 Burnley-Manchester City                Manchester City   \n",
       "                          2023-08-12 Arsenal-Nottingham Forest            Nottingham Forest   \n",
       "                          2023-08-12 Bournemouth-West Ham                          West Ham   \n",
       "                          2023-08-12 Brighton-Luton                                   Luton   \n",
       "                          2023-08-12 Everton-Fulham                                  Fulham   \n",
       "                          2023-08-12 Newcastle-Aston Villa                      Aston Villa   \n",
       "                          2023-08-12 Sheffield United-Crystal Palace         Crystal Palace   \n",
       "                          2023-08-13 Brentford-Tottenham                          Tottenham   \n",
       "                          2023-08-13 Chelsea-Liverpool                            Liverpool   \n",
       "                          2023-08-14 Manchester United-Wolves                        Wolves   \n",
       "                          2023-08-18 Nottingham Forest-Sheffield United    Sheffield United   \n",
       "                          2023-08-19 Fulham-Brentford                             Brentford   \n",
       "                          2023-08-19 Liverpool-Bournemouth                      Bournemouth   \n",
       "                          2023-08-19 Luton-Burnley                                  Burnley   \n",
       "                          2023-08-19 Manchester City-Newcastle                    Newcastle   \n",
       "                          2023-08-19 Tottenham-Manchester United          Manchester United   \n",
       "                          2023-08-19 Wolves-Brighton                               Brighton   \n",
       "                          2023-08-20 Aston Villa-Everton                            Everton   \n",
       "                          2023-08-20 West Ham-Chelsea                               Chelsea   \n",
       "                          2023-08-21 Crystal Palace-Arsenal                         Arsenal   \n",
       "                          2023-08-25 Chelsea-Luton                                    Luton   \n",
       "                          2023-08-26 Arsenal-Fulham                                  Fulham   \n",
       "                          2023-08-26 Bournemouth-Tottenham                        Tottenham   \n",
       "                          2023-08-26 Brentford-Crystal Palace                Crystal Palace   \n",
       "                          2023-08-26 Brighton-West Ham                             West Ham   \n",
       "                          2023-08-26 Everton-Wolves                                  Wolves   \n",
       "                          2023-08-26 Manchester United-Nottingham Forest  Nottingham Forest   \n",
       "                          2023-08-27 Burnley-Aston Villa                        Aston Villa   \n",
       "                          2023-08-27 Newcastle-Liverpool                          Liverpool   \n",
       "                          2023-08-27 Sheffield United-Manchester City       Manchester City   \n",
       "                          2023-09-01 Luton-West Ham                                West Ham   \n",
       "                          2023-09-02 Brentford-Bournemouth                      Bournemouth   \n",
       "                          2023-09-02 Brighton-Newcastle                           Newcastle   \n",
       "                          2023-09-02 Burnley-Tottenham                            Tottenham   \n",
       "                          2023-09-02 Chelsea-Nottingham Forest            Nottingham Forest   \n",
       "                          2023-09-02 Manchester City-Fulham                          Fulham   \n",
       "                          2023-09-02 Sheffield United-Everton                       Everton   \n",
       "                          2023-09-03 Arsenal-Manchester United            Manchester United   \n",
       "                          2023-09-03 Crystal Palace-Wolves                           Wolves   \n",
       "                          2023-09-03 Liverpool-Aston Villa                      Aston Villa   \n",
       "                          2023-09-16 Aston Villa-Crystal Palace              Crystal Palace   \n",
       "                          2023-09-16 Fulham-Luton                                     Luton   \n",
       "                          2023-09-16 Manchester United-Brighton                    Brighton   \n",
       "                          2023-09-16 Newcastle-Brentford                          Brentford   \n",
       "                          2023-09-16 Tottenham-Sheffield United            Sheffield United   \n",
       "                          2023-09-16 West Ham-Manchester City               Manchester City   \n",
       "                          2023-09-16 Wolves-Liverpool                             Liverpool   \n",
       "                          2023-09-17 Bournemouth-Chelsea                            Chelsea   \n",
       "                          2023-09-17 Everton-Arsenal                                Arsenal   \n",
       "                          2023-09-18 Nottingham Forest-Burnley                      Burnley   \n",
       "                          2023-09-23 Brentford-Everton                              Everton   \n",
       "                          2023-09-23 Burnley-Manchester United            Manchester United   \n",
       "                          2023-09-23 Crystal Palace-Fulham                           Fulham   \n",
       "                          2023-09-23 Luton-Wolves                                    Wolves   \n",
       "                          2023-09-23 Manchester City-Nottingham Forest    Nottingham Forest   \n",
       "                          2023-09-24 Arsenal-Tottenham                            Tottenham   \n",
       "                          2023-09-24 Brighton-Bournemouth                       Bournemouth   \n",
       "                          2023-09-24 Chelsea-Aston Villa                        Aston Villa   \n",
       "                          2023-09-24 Liverpool-West Ham                            West Ham   \n",
       "                          2023-09-24 Sheffield United-Newcastle                   Newcastle   \n",
       "                          2023-09-30 Aston Villa-Brighton                          Brighton   \n",
       "                          2023-09-30 Bournemouth-Arsenal                            Arsenal   \n",
       "                          2023-09-30 Everton-Luton                                    Luton   \n",
       "                          2023-09-30 Manchester United-Crystal Palace        Crystal Palace   \n",
       "                          2023-09-30 Newcastle-Burnley                              Burnley   \n",
       "                          2023-09-30 Tottenham-Liverpool                          Liverpool   \n",
       "                          2023-09-30 West Ham-Sheffield United             Sheffield United   \n",
       "                          2023-09-30 Wolves-Manchester City                 Manchester City   \n",
       "\n",
       "                                                                          game_id  \\\n",
       "league             season game                                                      \n",
       "ENG-Premier League 2324   2023-08-11 Burnley-Manchester City              1729191   \n",
       "                          2023-08-12 Arsenal-Nottingham Forest            1729190   \n",
       "                          2023-08-12 Bournemouth-West Ham                 1729192   \n",
       "                          2023-08-12 Brighton-Luton                       1729193   \n",
       "                          2023-08-12 Everton-Fulham                       1729194   \n",
       "                          2023-08-12 Newcastle-Aston Villa                1729196   \n",
       "                          2023-08-12 Sheffield United-Crystal Palace      1729195   \n",
       "                          2023-08-13 Brentford-Tottenham                  1729197   \n",
       "                          2023-08-13 Chelsea-Liverpool                    1729198   \n",
       "                          2023-08-14 Manchester United-Wolves             1729199   \n",
       "                          2023-08-18 Nottingham Forest-Sheffield United   1729249   \n",
       "                          2023-08-19 Fulham-Brentford                     1729200   \n",
       "                          2023-08-19 Liverpool-Bournemouth                1729202   \n",
       "                          2023-08-19 Luton-Burnley                        1729201   \n",
       "                          2023-08-19 Manchester City-Newcastle            1729252   \n",
       "                          2023-08-19 Tottenham-Manchester United          1729251   \n",
       "                          2023-08-19 Wolves-Brighton                      1729254   \n",
       "                          2023-08-20 Aston Villa-Everton                  1729250   \n",
       "                          2023-08-20 West Ham-Chelsea                     1729253   \n",
       "                          2023-08-21 Crystal Palace-Arsenal               1729203   \n",
       "                          2023-08-25 Chelsea-Luton                        1729260   \n",
       "                          2023-08-26 Arsenal-Fulham                       1729256   \n",
       "                          2023-08-26 Bournemouth-Tottenham                1729255   \n",
       "                          2023-08-26 Brentford-Crystal Palace             1729257   \n",
       "                          2023-08-26 Brighton-West Ham                    1729258   \n",
       "                          2023-08-26 Everton-Wolves                       1729261   \n",
       "                          2023-08-26 Manchester United-Nottingham Forest  1729262   \n",
       "                          2023-08-27 Burnley-Aston Villa                  1729259   \n",
       "                          2023-08-27 Newcastle-Liverpool                  1729263   \n",
       "                          2023-08-27 Sheffield United-Manchester City     1729264   \n",
       "                          2023-09-01 Luton-West Ham                       1729272   \n",
       "                          2023-09-02 Brentford-Bournemouth                1729266   \n",
       "                          2023-09-02 Brighton-Newcastle                   1729267   \n",
       "                          2023-09-02 Burnley-Tottenham                    1729268   \n",
       "                          2023-09-02 Chelsea-Nottingham Forest            1729269   \n",
       "                          2023-09-02 Manchester City-Fulham               1729273   \n",
       "                          2023-09-02 Sheffield United-Everton             1729274   \n",
       "                          2023-09-03 Arsenal-Manchester United            1729265   \n",
       "                          2023-09-03 Crystal Palace-Wolves                1729270   \n",
       "                          2023-09-03 Liverpool-Aston Villa                1729271   \n",
       "                          2023-09-16 Aston Villa-Crystal Palace           1729276   \n",
       "                          2023-09-16 Fulham-Luton                         1729278   \n",
       "                          2023-09-16 Manchester United-Brighton           1729279   \n",
       "                          2023-09-16 Newcastle-Brentford                  1729280   \n",
       "                          2023-09-16 Tottenham-Sheffield United           1729282   \n",
       "                          2023-09-16 West Ham-Manchester City             1729283   \n",
       "                          2023-09-16 Wolves-Liverpool                     1729284   \n",
       "                          2023-09-17 Bournemouth-Chelsea                  1729275   \n",
       "                          2023-09-17 Everton-Arsenal                      1729277   \n",
       "                          2023-09-18 Nottingham Forest-Burnley            1729281   \n",
       "                          2023-09-23 Brentford-Everton                    1729286   \n",
       "                          2023-09-23 Burnley-Manchester United            1729288   \n",
       "                          2023-09-23 Crystal Palace-Fulham                1729290   \n",
       "                          2023-09-23 Luton-Wolves                         1729292   \n",
       "                          2023-09-23 Manchester City-Nottingham Forest    1729293   \n",
       "                          2023-09-24 Arsenal-Tottenham                    1729285   \n",
       "                          2023-09-24 Brighton-Bournemouth                 1729287   \n",
       "                          2023-09-24 Chelsea-Aston Villa                  1729289   \n",
       "                          2023-09-24 Liverpool-West Ham                   1729291   \n",
       "                          2023-09-24 Sheffield United-Newcastle           1729294   \n",
       "                          2023-09-30 Aston Villa-Brighton                 1729296   \n",
       "                          2023-09-30 Bournemouth-Arsenal                  1729295   \n",
       "                          2023-09-30 Everton-Luton                        1729297   \n",
       "                          2023-09-30 Manchester United-Crystal Palace     1729299   \n",
       "                          2023-09-30 Newcastle-Burnley                    1729300   \n",
       "                          2023-09-30 Tottenham-Liverpool                  1729302   \n",
       "                          2023-09-30 West Ham-Sheffield United            1729303   \n",
       "                          2023-09-30 Wolves-Manchester City               1729304   \n",
       "\n",
       "                                                                                                                        url  \\\n",
       "league             season game                                                                                                \n",
       "ENG-Premier League 2324   2023-08-11 Burnley-Manchester City              https://www.whoscored.com/Matches/1729191/Live...   \n",
       "                          2023-08-12 Arsenal-Nottingham Forest            https://www.whoscored.com/Matches/1729190/Live...   \n",
       "                          2023-08-12 Bournemouth-West Ham                 https://www.whoscored.com/Matches/1729192/Live...   \n",
       "                          2023-08-12 Brighton-Luton                       https://www.whoscored.com/Matches/1729193/Live...   \n",
       "                          2023-08-12 Everton-Fulham                       https://www.whoscored.com/Matches/1729194/Live...   \n",
       "                          2023-08-12 Newcastle-Aston Villa                https://www.whoscored.com/Matches/1729196/Live...   \n",
       "                          2023-08-12 Sheffield United-Crystal Palace      https://www.whoscored.com/Matches/1729195/Live...   \n",
       "                          2023-08-13 Brentford-Tottenham                  https://www.whoscored.com/Matches/1729197/Live...   \n",
       "                          2023-08-13 Chelsea-Liverpool                    https://www.whoscored.com/Matches/1729198/Live...   \n",
       "                          2023-08-14 Manchester United-Wolves             https://www.whoscored.com/Matches/1729199/Live...   \n",
       "                          2023-08-18 Nottingham Forest-Sheffield United   https://www.whoscored.com/Matches/1729249/Live...   \n",
       "                          2023-08-19 Fulham-Brentford                     https://www.whoscored.com/Matches/1729200/Live...   \n",
       "                          2023-08-19 Liverpool-Bournemouth                https://www.whoscored.com/Matches/1729202/Live...   \n",
       "                          2023-08-19 Luton-Burnley                        https://www.whoscored.com/Matches/1729201/Show...   \n",
       "                          2023-08-19 Manchester City-Newcastle            https://www.whoscored.com/Matches/1729252/Live...   \n",
       "                          2023-08-19 Tottenham-Manchester United          https://www.whoscored.com/Matches/1729251/Live...   \n",
       "                          2023-08-19 Wolves-Brighton                      https://www.whoscored.com/Matches/1729254/Live...   \n",
       "                          2023-08-20 Aston Villa-Everton                  https://www.whoscored.com/Matches/1729250/Live...   \n",
       "                          2023-08-20 West Ham-Chelsea                     https://www.whoscored.com/Matches/1729253/Live...   \n",
       "                          2023-08-21 Crystal Palace-Arsenal               https://www.whoscored.com/Matches/1729203/Live...   \n",
       "                          2023-08-25 Chelsea-Luton                        https://www.whoscored.com/Matches/1729260/Live...   \n",
       "                          2023-08-26 Arsenal-Fulham                       https://www.whoscored.com/Matches/1729256/Live...   \n",
       "                          2023-08-26 Bournemouth-Tottenham                https://www.whoscored.com/Matches/1729255/Live...   \n",
       "                          2023-08-26 Brentford-Crystal Palace             https://www.whoscored.com/Matches/1729257/Live...   \n",
       "                          2023-08-26 Brighton-West Ham                    https://www.whoscored.com/Matches/1729258/Live...   \n",
       "                          2023-08-26 Everton-Wolves                       https://www.whoscored.com/Matches/1729261/Live...   \n",
       "                          2023-08-26 Manchester United-Nottingham Forest  https://www.whoscored.com/Matches/1729262/Live...   \n",
       "                          2023-08-27 Burnley-Aston Villa                  https://www.whoscored.com/Matches/1729259/Live...   \n",
       "                          2023-08-27 Newcastle-Liverpool                  https://www.whoscored.com/Matches/1729263/Live...   \n",
       "                          2023-08-27 Sheffield United-Manchester City     https://www.whoscored.com/Matches/1729264/Live...   \n",
       "                          2023-09-01 Luton-West Ham                       https://www.whoscored.com/Matches/1729272/Live...   \n",
       "                          2023-09-02 Brentford-Bournemouth                https://www.whoscored.com/Matches/1729266/Live...   \n",
       "                          2023-09-02 Brighton-Newcastle                   https://www.whoscored.com/Matches/1729267/Live...   \n",
       "                          2023-09-02 Burnley-Tottenham                    https://www.whoscored.com/Matches/1729268/Live...   \n",
       "                          2023-09-02 Chelsea-Nottingham Forest            https://www.whoscored.com/Matches/1729269/Live...   \n",
       "                          2023-09-02 Manchester City-Fulham               https://www.whoscored.com/Matches/1729273/Live...   \n",
       "                          2023-09-02 Sheffield United-Everton             https://www.whoscored.com/Matches/1729274/Live...   \n",
       "                          2023-09-03 Arsenal-Manchester United            https://www.whoscored.com/Matches/1729265/Live...   \n",
       "                          2023-09-03 Crystal Palace-Wolves                https://www.whoscored.com/Matches/1729270/Live...   \n",
       "                          2023-09-03 Liverpool-Aston Villa                https://www.whoscored.com/Matches/1729271/Live...   \n",
       "                          2023-09-16 Aston Villa-Crystal Palace           https://www.whoscored.com/Matches/1729276/Show...   \n",
       "                          2023-09-16 Fulham-Luton                         https://www.whoscored.com/Matches/1729278/Show...   \n",
       "                          2023-09-16 Manchester United-Brighton           https://www.whoscored.com/Matches/1729279/Show...   \n",
       "                          2023-09-16 Newcastle-Brentford                  https://www.whoscored.com/Matches/1729280/Show...   \n",
       "                          2023-09-16 Tottenham-Sheffield United           https://www.whoscored.com/Matches/1729282/Show...   \n",
       "                          2023-09-16 West Ham-Manchester City             https://www.whoscored.com/Matches/1729283/Show...   \n",
       "                          2023-09-16 Wolves-Liverpool                     https://www.whoscored.com/Matches/1729284/Show...   \n",
       "                          2023-09-17 Bournemouth-Chelsea                  https://www.whoscored.com/Matches/1729275/Show...   \n",
       "                          2023-09-17 Everton-Arsenal                      https://www.whoscored.com/Matches/1729277/Show...   \n",
       "                          2023-09-18 Nottingham Forest-Burnley            https://www.whoscored.com/Matches/1729281/Show...   \n",
       "                          2023-09-23 Brentford-Everton                    https://www.whoscored.com/Matches/1729286/Show...   \n",
       "                          2023-09-23 Burnley-Manchester United            https://www.whoscored.com/Matches/1729288/Show...   \n",
       "                          2023-09-23 Crystal Palace-Fulham                https://www.whoscored.com/Matches/1729290/Show...   \n",
       "                          2023-09-23 Luton-Wolves                         https://www.whoscored.com/Matches/1729292/Show...   \n",
       "                          2023-09-23 Manchester City-Nottingham Forest    https://www.whoscored.com/Matches/1729293/Show...   \n",
       "                          2023-09-24 Arsenal-Tottenham                    https://www.whoscored.com/Matches/1729285/Show...   \n",
       "                          2023-09-24 Brighton-Bournemouth                 https://www.whoscored.com/Matches/1729287/Show...   \n",
       "                          2023-09-24 Chelsea-Aston Villa                  https://www.whoscored.com/Matches/1729289/Show...   \n",
       "                          2023-09-24 Liverpool-West Ham                   https://www.whoscored.com/Matches/1729291/Show...   \n",
       "                          2023-09-24 Sheffield United-Newcastle           https://www.whoscored.com/Matches/1729294/Show...   \n",
       "                          2023-09-30 Aston Villa-Brighton                 https://www.whoscored.com/Matches/1729296/Show...   \n",
       "                          2023-09-30 Bournemouth-Arsenal                  https://www.whoscored.com/Matches/1729295/Show...   \n",
       "                          2023-09-30 Everton-Luton                        https://www.whoscored.com/Matches/1729297/Show...   \n",
       "                          2023-09-30 Manchester United-Crystal Palace     https://www.whoscored.com/Matches/1729299/Show...   \n",
       "                          2023-09-30 Newcastle-Burnley                    https://www.whoscored.com/Matches/1729300/Show...   \n",
       "                          2023-09-30 Tottenham-Liverpool                  https://www.whoscored.com/Matches/1729302/Show...   \n",
       "                          2023-09-30 West Ham-Sheffield United            https://www.whoscored.com/Matches/1729303/Show...   \n",
       "                          2023-09-30 Wolves-Manchester City               https://www.whoscored.com/Matches/1729304/Show...   \n",
       "\n",
       "                                                                         stage  \n",
       "league             season game                                                  \n",
       "ENG-Premier League 2324   2023-08-11 Burnley-Manchester City              None  \n",
       "                          2023-08-12 Arsenal-Nottingham Forest            None  \n",
       "                          2023-08-12 Bournemouth-West Ham                 None  \n",
       "                          2023-08-12 Brighton-Luton                       None  \n",
       "                          2023-08-12 Everton-Fulham                       None  \n",
       "                          2023-08-12 Newcastle-Aston Villa                None  \n",
       "                          2023-08-12 Sheffield United-Crystal Palace      None  \n",
       "                          2023-08-13 Brentford-Tottenham                  None  \n",
       "                          2023-08-13 Chelsea-Liverpool                    None  \n",
       "                          2023-08-14 Manchester United-Wolves             None  \n",
       "                          2023-08-18 Nottingham Forest-Sheffield United   None  \n",
       "                          2023-08-19 Fulham-Brentford                     None  \n",
       "                          2023-08-19 Liverpool-Bournemouth                None  \n",
       "                          2023-08-19 Luton-Burnley                        None  \n",
       "                          2023-08-19 Manchester City-Newcastle            None  \n",
       "                          2023-08-19 Tottenham-Manchester United          None  \n",
       "                          2023-08-19 Wolves-Brighton                      None  \n",
       "                          2023-08-20 Aston Villa-Everton                  None  \n",
       "                          2023-08-20 West Ham-Chelsea                     None  \n",
       "                          2023-08-21 Crystal Palace-Arsenal               None  \n",
       "                          2023-08-25 Chelsea-Luton                        None  \n",
       "                          2023-08-26 Arsenal-Fulham                       None  \n",
       "                          2023-08-26 Bournemouth-Tottenham                None  \n",
       "                          2023-08-26 Brentford-Crystal Palace             None  \n",
       "                          2023-08-26 Brighton-West Ham                    None  \n",
       "                          2023-08-26 Everton-Wolves                       None  \n",
       "                          2023-08-26 Manchester United-Nottingham Forest  None  \n",
       "                          2023-08-27 Burnley-Aston Villa                  None  \n",
       "                          2023-08-27 Newcastle-Liverpool                  None  \n",
       "                          2023-08-27 Sheffield United-Manchester City     None  \n",
       "                          2023-09-01 Luton-West Ham                       None  \n",
       "                          2023-09-02 Brentford-Bournemouth                None  \n",
       "                          2023-09-02 Brighton-Newcastle                   None  \n",
       "                          2023-09-02 Burnley-Tottenham                    None  \n",
       "                          2023-09-02 Chelsea-Nottingham Forest            None  \n",
       "                          2023-09-02 Manchester City-Fulham               None  \n",
       "                          2023-09-02 Sheffield United-Everton             None  \n",
       "                          2023-09-03 Arsenal-Manchester United            None  \n",
       "                          2023-09-03 Crystal Palace-Wolves                None  \n",
       "                          2023-09-03 Liverpool-Aston Villa                None  \n",
       "                          2023-09-16 Aston Villa-Crystal Palace           None  \n",
       "                          2023-09-16 Fulham-Luton                         None  \n",
       "                          2023-09-16 Manchester United-Brighton           None  \n",
       "                          2023-09-16 Newcastle-Brentford                  None  \n",
       "                          2023-09-16 Tottenham-Sheffield United           None  \n",
       "                          2023-09-16 West Ham-Manchester City             None  \n",
       "                          2023-09-16 Wolves-Liverpool                     None  \n",
       "                          2023-09-17 Bournemouth-Chelsea                  None  \n",
       "                          2023-09-17 Everton-Arsenal                      None  \n",
       "                          2023-09-18 Nottingham Forest-Burnley            None  \n",
       "                          2023-09-23 Brentford-Everton                    None  \n",
       "                          2023-09-23 Burnley-Manchester United            None  \n",
       "                          2023-09-23 Crystal Palace-Fulham                None  \n",
       "                          2023-09-23 Luton-Wolves                         None  \n",
       "                          2023-09-23 Manchester City-Nottingham Forest    None  \n",
       "                          2023-09-24 Arsenal-Tottenham                    None  \n",
       "                          2023-09-24 Brighton-Bournemouth                 None  \n",
       "                          2023-09-24 Chelsea-Aston Villa                  None  \n",
       "                          2023-09-24 Liverpool-West Ham                   None  \n",
       "                          2023-09-24 Sheffield United-Newcastle           None  \n",
       "                          2023-09-30 Aston Villa-Brighton                 None  \n",
       "                          2023-09-30 Bournemouth-Arsenal                  None  \n",
       "                          2023-09-30 Everton-Luton                        None  \n",
       "                          2023-09-30 Manchester United-Crystal Palace     None  \n",
       "                          2023-09-30 Newcastle-Burnley                    None  \n",
       "                          2023-09-30 Tottenham-Liverpool                  None  \n",
       "                          2023-09-30 West Ham-Sheffield United            None  \n",
       "                          2023-09-30 Wolves-Manchester City               None  "
      ]
     },
     "execution_count": 4,
     "metadata": {},
     "output_type": "execute_result"
    }
   ],
   "source": [
    "# scrap the schedule of the season\n",
    "df_schedule = ws.read_schedule(force_cache=False)\n",
    "\n",
    "# show the schedule of the season\n",
    "df_schedule"
   ]
  },
  {
   "cell_type": "code",
   "execution_count": 5,
   "id": "6125902a",
   "metadata": {},
   "outputs": [],
   "source": [
    "# set a game id\n",
    "sel_game = 1729265"
   ]
  },
  {
   "cell_type": "code",
   "execution_count": 6,
   "id": "eaeae694",
   "metadata": {
    "scrolled": true
   },
   "outputs": [
    {
     "data": {
      "text/html": [
       "<pre style=\"white-space:pre;overflow-x:auto;line-height:normal;font-family:Menlo,'DejaVu Sans Mono',consolas,'Courier New',monospace\"><span style=\"color: #7fbfbf; text-decoration-color: #7fbfbf\">[09/04/23 10:52:22] </span><span style=\"color: #000080; text-decoration-color: #000080\">INFO    </span> Scraping game schedule from                                           <a href=\"file://C:\\Users\\HanifFurqonHidayat\\anaconda3\\lib\\site-packages\\soccerdata\\whoscored.py\" target=\"_blank\"><span style=\"color: #7f7f7f; text-decoration-color: #7f7f7f\">whoscored.py</span></a><span style=\"color: #7f7f7f; text-decoration-color: #7f7f7f\">:</span><a href=\"file://C:\\Users\\HanifFurqonHidayat\\anaconda3\\lib\\site-packages\\soccerdata\\whoscored.py#427\" target=\"_blank\"><span style=\"color: #7f7f7f; text-decoration-color: #7f7f7f\">427</span></a>\n",
       "<span style=\"color: #7fbfbf; text-decoration-color: #7fbfbf\">                    </span>         <span style=\"color: #0000ff; text-decoration-color: #0000ff; text-decoration: underline\">https://www.whoscored.com/Regions/252/Tournaments/2/Seasons/9618/Engl</span> <span style=\"color: #7f7f7f; text-decoration-color: #7f7f7f\">                </span>\n",
       "<span style=\"color: #7fbfbf; text-decoration-color: #7fbfbf\">                    </span>         <span style=\"color: #0000ff; text-decoration-color: #0000ff; text-decoration: underline\">and-Premier-League</span>                                                    <span style=\"color: #7f7f7f; text-decoration-color: #7f7f7f\">                </span>\n",
       "</pre>\n"
      ],
      "text/plain": [
       "\u001b[2;36m[09/04/23 10:52:22]\u001b[0m\u001b[2;36m \u001b[0m\u001b[34mINFO    \u001b[0m Scraping game schedule from                                           \u001b]8;id=105158;file://C:\\Users\\HanifFurqonHidayat\\anaconda3\\lib\\site-packages\\soccerdata\\whoscored.py\u001b\\\u001b[2mwhoscored.py\u001b[0m\u001b]8;;\u001b\\\u001b[2m:\u001b[0m\u001b]8;id=135542;file://C:\\Users\\HanifFurqonHidayat\\anaconda3\\lib\\site-packages\\soccerdata\\whoscored.py#427\u001b\\\u001b[2m427\u001b[0m\u001b]8;;\u001b\\\n",
       "\u001b[2;36m                    \u001b[0m         \u001b[4;94mhttps://www.whoscored.com/Regions/252/Tournaments/2/Seasons/9618/Engl\u001b[0m \u001b[2m                \u001b[0m\n",
       "\u001b[2;36m                    \u001b[0m         \u001b[4;94mand-Premier-League\u001b[0m                                                    \u001b[2m                \u001b[0m\n"
      ]
     },
     "metadata": {},
     "output_type": "display_data"
    },
    {
     "data": {
      "text/html": [
       "<pre style=\"white-space:pre;overflow-x:auto;line-height:normal;font-family:Menlo,'DejaVu Sans Mono',consolas,'Courier New',monospace\"><span style=\"color: #7fbfbf; text-decoration-color: #7fbfbf\">                    </span><span style=\"color: #000080; text-decoration-color: #000080\">INFO    </span> Scraping game schedule for Friday, Sep <span style=\"color: #008080; text-decoration-color: #008080; font-weight: bold\">1</span> <span style=\"color: #008080; text-decoration-color: #008080; font-weight: bold\">2023</span>                         <a href=\"file://C:\\Users\\HanifFurqonHidayat\\anaconda3\\lib\\site-packages\\soccerdata\\whoscored.py\" target=\"_blank\"><span style=\"color: #7f7f7f; text-decoration-color: #7f7f7f\">whoscored.py</span></a><span style=\"color: #7f7f7f; text-decoration-color: #7f7f7f\">:</span><a href=\"file://C:\\Users\\HanifFurqonHidayat\\anaconda3\\lib\\site-packages\\soccerdata\\whoscored.py#327\" target=\"_blank\"><span style=\"color: #7f7f7f; text-decoration-color: #7f7f7f\">327</span></a>\n",
       "</pre>\n"
      ],
      "text/plain": [
       "\u001b[2;36m                   \u001b[0m\u001b[2;36m \u001b[0m\u001b[34mINFO    \u001b[0m Scraping game schedule for Friday, Sep \u001b[1;36m1\u001b[0m \u001b[1;36m2023\u001b[0m                         \u001b]8;id=488087;file://C:\\Users\\HanifFurqonHidayat\\anaconda3\\lib\\site-packages\\soccerdata\\whoscored.py\u001b\\\u001b[2mwhoscored.py\u001b[0m\u001b]8;;\u001b\\\u001b[2m:\u001b[0m\u001b]8;id=466565;file://C:\\Users\\HanifFurqonHidayat\\anaconda3\\lib\\site-packages\\soccerdata\\whoscored.py#327\u001b\\\u001b[2m327\u001b[0m\u001b]8;;\u001b\\\n"
      ]
     },
     "metadata": {},
     "output_type": "display_data"
    },
    {
     "data": {
      "text/html": [
       "<pre style=\"white-space:pre;overflow-x:auto;line-height:normal;font-family:Menlo,'DejaVu Sans Mono',consolas,'Courier New',monospace\"><span style=\"color: #7fbfbf; text-decoration-color: #7fbfbf\">                    </span><span style=\"color: #000080; text-decoration-color: #000080\">INFO    </span> Scraping game schedule for Saturday, Sep <span style=\"color: #008080; text-decoration-color: #008080; font-weight: bold\">2</span> <span style=\"color: #008080; text-decoration-color: #008080; font-weight: bold\">2023</span>                       <a href=\"file://C:\\Users\\HanifFurqonHidayat\\anaconda3\\lib\\site-packages\\soccerdata\\whoscored.py\" target=\"_blank\"><span style=\"color: #7f7f7f; text-decoration-color: #7f7f7f\">whoscored.py</span></a><span style=\"color: #7f7f7f; text-decoration-color: #7f7f7f\">:</span><a href=\"file://C:\\Users\\HanifFurqonHidayat\\anaconda3\\lib\\site-packages\\soccerdata\\whoscored.py#327\" target=\"_blank\"><span style=\"color: #7f7f7f; text-decoration-color: #7f7f7f\">327</span></a>\n",
       "</pre>\n"
      ],
      "text/plain": [
       "\u001b[2;36m                   \u001b[0m\u001b[2;36m \u001b[0m\u001b[34mINFO    \u001b[0m Scraping game schedule for Saturday, Sep \u001b[1;36m2\u001b[0m \u001b[1;36m2023\u001b[0m                       \u001b]8;id=310149;file://C:\\Users\\HanifFurqonHidayat\\anaconda3\\lib\\site-packages\\soccerdata\\whoscored.py\u001b\\\u001b[2mwhoscored.py\u001b[0m\u001b]8;;\u001b\\\u001b[2m:\u001b[0m\u001b]8;id=476314;file://C:\\Users\\HanifFurqonHidayat\\anaconda3\\lib\\site-packages\\soccerdata\\whoscored.py#327\u001b\\\u001b[2m327\u001b[0m\u001b]8;;\u001b\\\n"
      ]
     },
     "metadata": {},
     "output_type": "display_data"
    },
    {
     "data": {
      "text/html": [
       "<pre style=\"white-space:pre;overflow-x:auto;line-height:normal;font-family:Menlo,'DejaVu Sans Mono',consolas,'Courier New',monospace\"><span style=\"color: #7fbfbf; text-decoration-color: #7fbfbf\">                    </span><span style=\"color: #000080; text-decoration-color: #000080\">INFO    </span> Scraping game schedule for Sunday, Sep <span style=\"color: #008080; text-decoration-color: #008080; font-weight: bold\">3</span> <span style=\"color: #008080; text-decoration-color: #008080; font-weight: bold\">2023</span>                         <a href=\"file://C:\\Users\\HanifFurqonHidayat\\anaconda3\\lib\\site-packages\\soccerdata\\whoscored.py\" target=\"_blank\"><span style=\"color: #7f7f7f; text-decoration-color: #7f7f7f\">whoscored.py</span></a><span style=\"color: #7f7f7f; text-decoration-color: #7f7f7f\">:</span><a href=\"file://C:\\Users\\HanifFurqonHidayat\\anaconda3\\lib\\site-packages\\soccerdata\\whoscored.py#327\" target=\"_blank\"><span style=\"color: #7f7f7f; text-decoration-color: #7f7f7f\">327</span></a>\n",
       "</pre>\n"
      ],
      "text/plain": [
       "\u001b[2;36m                   \u001b[0m\u001b[2;36m \u001b[0m\u001b[34mINFO    \u001b[0m Scraping game schedule for Sunday, Sep \u001b[1;36m3\u001b[0m \u001b[1;36m2023\u001b[0m                         \u001b]8;id=955228;file://C:\\Users\\HanifFurqonHidayat\\anaconda3\\lib\\site-packages\\soccerdata\\whoscored.py\u001b\\\u001b[2mwhoscored.py\u001b[0m\u001b]8;;\u001b\\\u001b[2m:\u001b[0m\u001b]8;id=386331;file://C:\\Users\\HanifFurqonHidayat\\anaconda3\\lib\\site-packages\\soccerdata\\whoscored.py#327\u001b\\\u001b[2m327\u001b[0m\u001b]8;;\u001b\\\n"
      ]
     },
     "metadata": {},
     "output_type": "display_data"
    },
    {
     "data": {
      "text/html": [
       "<pre style=\"white-space:pre;overflow-x:auto;line-height:normal;font-family:Menlo,'DejaVu Sans Mono',consolas,'Courier New',monospace\"><span style=\"color: #7fbfbf; text-decoration-color: #7fbfbf\">[09/04/23 10:52:23] </span><span style=\"color: #000080; text-decoration-color: #000080\">INFO    </span> Scraping game schedule for Saturday, Sep <span style=\"color: #008080; text-decoration-color: #008080; font-weight: bold\">16</span> <span style=\"color: #008080; text-decoration-color: #008080; font-weight: bold\">2023</span>                      <a href=\"file://C:\\Users\\HanifFurqonHidayat\\anaconda3\\lib\\site-packages\\soccerdata\\whoscored.py\" target=\"_blank\"><span style=\"color: #7f7f7f; text-decoration-color: #7f7f7f\">whoscored.py</span></a><span style=\"color: #7f7f7f; text-decoration-color: #7f7f7f\">:</span><a href=\"file://C:\\Users\\HanifFurqonHidayat\\anaconda3\\lib\\site-packages\\soccerdata\\whoscored.py#327\" target=\"_blank\"><span style=\"color: #7f7f7f; text-decoration-color: #7f7f7f\">327</span></a>\n",
       "</pre>\n"
      ],
      "text/plain": [
       "\u001b[2;36m[09/04/23 10:52:23]\u001b[0m\u001b[2;36m \u001b[0m\u001b[34mINFO    \u001b[0m Scraping game schedule for Saturday, Sep \u001b[1;36m16\u001b[0m \u001b[1;36m2023\u001b[0m                      \u001b]8;id=826728;file://C:\\Users\\HanifFurqonHidayat\\anaconda3\\lib\\site-packages\\soccerdata\\whoscored.py\u001b\\\u001b[2mwhoscored.py\u001b[0m\u001b]8;;\u001b\\\u001b[2m:\u001b[0m\u001b]8;id=512836;file://C:\\Users\\HanifFurqonHidayat\\anaconda3\\lib\\site-packages\\soccerdata\\whoscored.py#327\u001b\\\u001b[2m327\u001b[0m\u001b]8;;\u001b\\\n"
      ]
     },
     "metadata": {},
     "output_type": "display_data"
    },
    {
     "data": {
      "text/html": [
       "<pre style=\"white-space:pre;overflow-x:auto;line-height:normal;font-family:Menlo,'DejaVu Sans Mono',consolas,'Courier New',monospace\"><span style=\"color: #7fbfbf; text-decoration-color: #7fbfbf\">                    </span><span style=\"color: #000080; text-decoration-color: #000080\">INFO    </span> Scraping game schedule for Sunday, Sep <span style=\"color: #008080; text-decoration-color: #008080; font-weight: bold\">17</span> <span style=\"color: #008080; text-decoration-color: #008080; font-weight: bold\">2023</span>                        <a href=\"file://C:\\Users\\HanifFurqonHidayat\\anaconda3\\lib\\site-packages\\soccerdata\\whoscored.py\" target=\"_blank\"><span style=\"color: #7f7f7f; text-decoration-color: #7f7f7f\">whoscored.py</span></a><span style=\"color: #7f7f7f; text-decoration-color: #7f7f7f\">:</span><a href=\"file://C:\\Users\\HanifFurqonHidayat\\anaconda3\\lib\\site-packages\\soccerdata\\whoscored.py#327\" target=\"_blank\"><span style=\"color: #7f7f7f; text-decoration-color: #7f7f7f\">327</span></a>\n",
       "</pre>\n"
      ],
      "text/plain": [
       "\u001b[2;36m                   \u001b[0m\u001b[2;36m \u001b[0m\u001b[34mINFO    \u001b[0m Scraping game schedule for Sunday, Sep \u001b[1;36m17\u001b[0m \u001b[1;36m2023\u001b[0m                        \u001b]8;id=785203;file://C:\\Users\\HanifFurqonHidayat\\anaconda3\\lib\\site-packages\\soccerdata\\whoscored.py\u001b\\\u001b[2mwhoscored.py\u001b[0m\u001b]8;;\u001b\\\u001b[2m:\u001b[0m\u001b]8;id=379548;file://C:\\Users\\HanifFurqonHidayat\\anaconda3\\lib\\site-packages\\soccerdata\\whoscored.py#327\u001b\\\u001b[2m327\u001b[0m\u001b]8;;\u001b\\\n"
      ]
     },
     "metadata": {},
     "output_type": "display_data"
    },
    {
     "data": {
      "text/html": [
       "<pre style=\"white-space:pre;overflow-x:auto;line-height:normal;font-family:Menlo,'DejaVu Sans Mono',consolas,'Courier New',monospace\"><span style=\"color: #7fbfbf; text-decoration-color: #7fbfbf\">                    </span><span style=\"color: #000080; text-decoration-color: #000080\">INFO    </span> Scraping game schedule for Monday, Sep <span style=\"color: #008080; text-decoration-color: #008080; font-weight: bold\">18</span> <span style=\"color: #008080; text-decoration-color: #008080; font-weight: bold\">2023</span>                        <a href=\"file://C:\\Users\\HanifFurqonHidayat\\anaconda3\\lib\\site-packages\\soccerdata\\whoscored.py\" target=\"_blank\"><span style=\"color: #7f7f7f; text-decoration-color: #7f7f7f\">whoscored.py</span></a><span style=\"color: #7f7f7f; text-decoration-color: #7f7f7f\">:</span><a href=\"file://C:\\Users\\HanifFurqonHidayat\\anaconda3\\lib\\site-packages\\soccerdata\\whoscored.py#327\" target=\"_blank\"><span style=\"color: #7f7f7f; text-decoration-color: #7f7f7f\">327</span></a>\n",
       "</pre>\n"
      ],
      "text/plain": [
       "\u001b[2;36m                   \u001b[0m\u001b[2;36m \u001b[0m\u001b[34mINFO    \u001b[0m Scraping game schedule for Monday, Sep \u001b[1;36m18\u001b[0m \u001b[1;36m2023\u001b[0m                        \u001b]8;id=541481;file://C:\\Users\\HanifFurqonHidayat\\anaconda3\\lib\\site-packages\\soccerdata\\whoscored.py\u001b\\\u001b[2mwhoscored.py\u001b[0m\u001b]8;;\u001b\\\u001b[2m:\u001b[0m\u001b]8;id=873918;file://C:\\Users\\HanifFurqonHidayat\\anaconda3\\lib\\site-packages\\soccerdata\\whoscored.py#327\u001b\\\u001b[2m327\u001b[0m\u001b]8;;\u001b\\\n"
      ]
     },
     "metadata": {},
     "output_type": "display_data"
    },
    {
     "data": {
      "text/html": [
       "<pre style=\"white-space:pre;overflow-x:auto;line-height:normal;font-family:Menlo,'DejaVu Sans Mono',consolas,'Courier New',monospace\"><span style=\"color: #7fbfbf; text-decoration-color: #7fbfbf\">                    </span><span style=\"color: #000080; text-decoration-color: #000080\">INFO    </span> Scraping game schedule for Saturday, Sep <span style=\"color: #008080; text-decoration-color: #008080; font-weight: bold\">23</span> <span style=\"color: #008080; text-decoration-color: #008080; font-weight: bold\">2023</span>                      <a href=\"file://C:\\Users\\HanifFurqonHidayat\\anaconda3\\lib\\site-packages\\soccerdata\\whoscored.py\" target=\"_blank\"><span style=\"color: #7f7f7f; text-decoration-color: #7f7f7f\">whoscored.py</span></a><span style=\"color: #7f7f7f; text-decoration-color: #7f7f7f\">:</span><a href=\"file://C:\\Users\\HanifFurqonHidayat\\anaconda3\\lib\\site-packages\\soccerdata\\whoscored.py#327\" target=\"_blank\"><span style=\"color: #7f7f7f; text-decoration-color: #7f7f7f\">327</span></a>\n",
       "</pre>\n"
      ],
      "text/plain": [
       "\u001b[2;36m                   \u001b[0m\u001b[2;36m \u001b[0m\u001b[34mINFO    \u001b[0m Scraping game schedule for Saturday, Sep \u001b[1;36m23\u001b[0m \u001b[1;36m2023\u001b[0m                      \u001b]8;id=130276;file://C:\\Users\\HanifFurqonHidayat\\anaconda3\\lib\\site-packages\\soccerdata\\whoscored.py\u001b\\\u001b[2mwhoscored.py\u001b[0m\u001b]8;;\u001b\\\u001b[2m:\u001b[0m\u001b]8;id=918540;file://C:\\Users\\HanifFurqonHidayat\\anaconda3\\lib\\site-packages\\soccerdata\\whoscored.py#327\u001b\\\u001b[2m327\u001b[0m\u001b]8;;\u001b\\\n"
      ]
     },
     "metadata": {},
     "output_type": "display_data"
    },
    {
     "data": {
      "text/html": [
       "<pre style=\"white-space:pre;overflow-x:auto;line-height:normal;font-family:Menlo,'DejaVu Sans Mono',consolas,'Courier New',monospace\"><span style=\"color: #7fbfbf; text-decoration-color: #7fbfbf\">[09/04/23 10:52:24] </span><span style=\"color: #000080; text-decoration-color: #000080\">INFO    </span> Scraping game schedule for Sunday, Sep <span style=\"color: #008080; text-decoration-color: #008080; font-weight: bold\">24</span> <span style=\"color: #008080; text-decoration-color: #008080; font-weight: bold\">2023</span>                        <a href=\"file://C:\\Users\\HanifFurqonHidayat\\anaconda3\\lib\\site-packages\\soccerdata\\whoscored.py\" target=\"_blank\"><span style=\"color: #7f7f7f; text-decoration-color: #7f7f7f\">whoscored.py</span></a><span style=\"color: #7f7f7f; text-decoration-color: #7f7f7f\">:</span><a href=\"file://C:\\Users\\HanifFurqonHidayat\\anaconda3\\lib\\site-packages\\soccerdata\\whoscored.py#327\" target=\"_blank\"><span style=\"color: #7f7f7f; text-decoration-color: #7f7f7f\">327</span></a>\n",
       "</pre>\n"
      ],
      "text/plain": [
       "\u001b[2;36m[09/04/23 10:52:24]\u001b[0m\u001b[2;36m \u001b[0m\u001b[34mINFO    \u001b[0m Scraping game schedule for Sunday, Sep \u001b[1;36m24\u001b[0m \u001b[1;36m2023\u001b[0m                        \u001b]8;id=537556;file://C:\\Users\\HanifFurqonHidayat\\anaconda3\\lib\\site-packages\\soccerdata\\whoscored.py\u001b\\\u001b[2mwhoscored.py\u001b[0m\u001b]8;;\u001b\\\u001b[2m:\u001b[0m\u001b]8;id=903330;file://C:\\Users\\HanifFurqonHidayat\\anaconda3\\lib\\site-packages\\soccerdata\\whoscored.py#327\u001b\\\u001b[2m327\u001b[0m\u001b]8;;\u001b\\\n"
      ]
     },
     "metadata": {},
     "output_type": "display_data"
    },
    {
     "data": {
      "text/html": [
       "<pre style=\"white-space:pre;overflow-x:auto;line-height:normal;font-family:Menlo,'DejaVu Sans Mono',consolas,'Courier New',monospace\"><span style=\"color: #7fbfbf; text-decoration-color: #7fbfbf\">                    </span><span style=\"color: #000080; text-decoration-color: #000080\">INFO    </span> Scraping game schedule for Saturday, Sep <span style=\"color: #008080; text-decoration-color: #008080; font-weight: bold\">30</span> <span style=\"color: #008080; text-decoration-color: #008080; font-weight: bold\">2023</span>                      <a href=\"file://C:\\Users\\HanifFurqonHidayat\\anaconda3\\lib\\site-packages\\soccerdata\\whoscored.py\" target=\"_blank\"><span style=\"color: #7f7f7f; text-decoration-color: #7f7f7f\">whoscored.py</span></a><span style=\"color: #7f7f7f; text-decoration-color: #7f7f7f\">:</span><a href=\"file://C:\\Users\\HanifFurqonHidayat\\anaconda3\\lib\\site-packages\\soccerdata\\whoscored.py#327\" target=\"_blank\"><span style=\"color: #7f7f7f; text-decoration-color: #7f7f7f\">327</span></a>\n",
       "</pre>\n"
      ],
      "text/plain": [
       "\u001b[2;36m                   \u001b[0m\u001b[2;36m \u001b[0m\u001b[34mINFO    \u001b[0m Scraping game schedule for Saturday, Sep \u001b[1;36m30\u001b[0m \u001b[1;36m2023\u001b[0m                      \u001b]8;id=546140;file://C:\\Users\\HanifFurqonHidayat\\anaconda3\\lib\\site-packages\\soccerdata\\whoscored.py\u001b\\\u001b[2mwhoscored.py\u001b[0m\u001b]8;;\u001b\\\u001b[2m:\u001b[0m\u001b]8;id=481842;file://C:\\Users\\HanifFurqonHidayat\\anaconda3\\lib\\site-packages\\soccerdata\\whoscored.py#327\u001b\\\u001b[2m327\u001b[0m\u001b]8;;\u001b\\\n"
      ]
     },
     "metadata": {},
     "output_type": "display_data"
    },
    {
     "data": {
      "text/html": [
       "<pre style=\"white-space:pre;overflow-x:auto;line-height:normal;font-family:Menlo,'DejaVu Sans Mono',consolas,'Courier New',monospace\"><span style=\"color: #7fbfbf; text-decoration-color: #7fbfbf\">[09/04/23 10:52:30] </span><span style=\"color: #000080; text-decoration-color: #000080\">INFO    </span> Scraping game schedule for Friday, Aug <span style=\"color: #008080; text-decoration-color: #008080; font-weight: bold\">11</span> <span style=\"color: #008080; text-decoration-color: #008080; font-weight: bold\">2023</span>                        <a href=\"file://C:\\Users\\HanifFurqonHidayat\\anaconda3\\lib\\site-packages\\soccerdata\\whoscored.py\" target=\"_blank\"><span style=\"color: #7f7f7f; text-decoration-color: #7f7f7f\">whoscored.py</span></a><span style=\"color: #7f7f7f; text-decoration-color: #7f7f7f\">:</span><a href=\"file://C:\\Users\\HanifFurqonHidayat\\anaconda3\\lib\\site-packages\\soccerdata\\whoscored.py#327\" target=\"_blank\"><span style=\"color: #7f7f7f; text-decoration-color: #7f7f7f\">327</span></a>\n",
       "</pre>\n"
      ],
      "text/plain": [
       "\u001b[2;36m[09/04/23 10:52:30]\u001b[0m\u001b[2;36m \u001b[0m\u001b[34mINFO    \u001b[0m Scraping game schedule for Friday, Aug \u001b[1;36m11\u001b[0m \u001b[1;36m2023\u001b[0m                        \u001b]8;id=492303;file://C:\\Users\\HanifFurqonHidayat\\anaconda3\\lib\\site-packages\\soccerdata\\whoscored.py\u001b\\\u001b[2mwhoscored.py\u001b[0m\u001b]8;;\u001b\\\u001b[2m:\u001b[0m\u001b]8;id=437757;file://C:\\Users\\HanifFurqonHidayat\\anaconda3\\lib\\site-packages\\soccerdata\\whoscored.py#327\u001b\\\u001b[2m327\u001b[0m\u001b]8;;\u001b\\\n"
      ]
     },
     "metadata": {},
     "output_type": "display_data"
    },
    {
     "data": {
      "text/html": [
       "<pre style=\"white-space:pre;overflow-x:auto;line-height:normal;font-family:Menlo,'DejaVu Sans Mono',consolas,'Courier New',monospace\"><span style=\"color: #7fbfbf; text-decoration-color: #7fbfbf\">                    </span><span style=\"color: #000080; text-decoration-color: #000080\">INFO    </span> Scraping game schedule for Saturday, Aug <span style=\"color: #008080; text-decoration-color: #008080; font-weight: bold\">12</span> <span style=\"color: #008080; text-decoration-color: #008080; font-weight: bold\">2023</span>                      <a href=\"file://C:\\Users\\HanifFurqonHidayat\\anaconda3\\lib\\site-packages\\soccerdata\\whoscored.py\" target=\"_blank\"><span style=\"color: #7f7f7f; text-decoration-color: #7f7f7f\">whoscored.py</span></a><span style=\"color: #7f7f7f; text-decoration-color: #7f7f7f\">:</span><a href=\"file://C:\\Users\\HanifFurqonHidayat\\anaconda3\\lib\\site-packages\\soccerdata\\whoscored.py#327\" target=\"_blank\"><span style=\"color: #7f7f7f; text-decoration-color: #7f7f7f\">327</span></a>\n",
       "</pre>\n"
      ],
      "text/plain": [
       "\u001b[2;36m                   \u001b[0m\u001b[2;36m \u001b[0m\u001b[34mINFO    \u001b[0m Scraping game schedule for Saturday, Aug \u001b[1;36m12\u001b[0m \u001b[1;36m2023\u001b[0m                      \u001b]8;id=752559;file://C:\\Users\\HanifFurqonHidayat\\anaconda3\\lib\\site-packages\\soccerdata\\whoscored.py\u001b\\\u001b[2mwhoscored.py\u001b[0m\u001b]8;;\u001b\\\u001b[2m:\u001b[0m\u001b]8;id=267608;file://C:\\Users\\HanifFurqonHidayat\\anaconda3\\lib\\site-packages\\soccerdata\\whoscored.py#327\u001b\\\u001b[2m327\u001b[0m\u001b]8;;\u001b\\\n"
      ]
     },
     "metadata": {},
     "output_type": "display_data"
    },
    {
     "data": {
      "text/html": [
       "<pre style=\"white-space:pre;overflow-x:auto;line-height:normal;font-family:Menlo,'DejaVu Sans Mono',consolas,'Courier New',monospace\"><span style=\"color: #7fbfbf; text-decoration-color: #7fbfbf\">                    </span><span style=\"color: #000080; text-decoration-color: #000080\">INFO    </span> Scraping game schedule for Sunday, Aug <span style=\"color: #008080; text-decoration-color: #008080; font-weight: bold\">13</span> <span style=\"color: #008080; text-decoration-color: #008080; font-weight: bold\">2023</span>                        <a href=\"file://C:\\Users\\HanifFurqonHidayat\\anaconda3\\lib\\site-packages\\soccerdata\\whoscored.py\" target=\"_blank\"><span style=\"color: #7f7f7f; text-decoration-color: #7f7f7f\">whoscored.py</span></a><span style=\"color: #7f7f7f; text-decoration-color: #7f7f7f\">:</span><a href=\"file://C:\\Users\\HanifFurqonHidayat\\anaconda3\\lib\\site-packages\\soccerdata\\whoscored.py#327\" target=\"_blank\"><span style=\"color: #7f7f7f; text-decoration-color: #7f7f7f\">327</span></a>\n",
       "</pre>\n"
      ],
      "text/plain": [
       "\u001b[2;36m                   \u001b[0m\u001b[2;36m \u001b[0m\u001b[34mINFO    \u001b[0m Scraping game schedule for Sunday, Aug \u001b[1;36m13\u001b[0m \u001b[1;36m2023\u001b[0m                        \u001b]8;id=565953;file://C:\\Users\\HanifFurqonHidayat\\anaconda3\\lib\\site-packages\\soccerdata\\whoscored.py\u001b\\\u001b[2mwhoscored.py\u001b[0m\u001b]8;;\u001b\\\u001b[2m:\u001b[0m\u001b]8;id=25604;file://C:\\Users\\HanifFurqonHidayat\\anaconda3\\lib\\site-packages\\soccerdata\\whoscored.py#327\u001b\\\u001b[2m327\u001b[0m\u001b]8;;\u001b\\\n"
      ]
     },
     "metadata": {},
     "output_type": "display_data"
    },
    {
     "data": {
      "text/html": [
       "<pre style=\"white-space:pre;overflow-x:auto;line-height:normal;font-family:Menlo,'DejaVu Sans Mono',consolas,'Courier New',monospace\"><span style=\"color: #7fbfbf; text-decoration-color: #7fbfbf\">                    </span><span style=\"color: #000080; text-decoration-color: #000080\">INFO    </span> Scraping game schedule for Monday, Aug <span style=\"color: #008080; text-decoration-color: #008080; font-weight: bold\">14</span> <span style=\"color: #008080; text-decoration-color: #008080; font-weight: bold\">2023</span>                        <a href=\"file://C:\\Users\\HanifFurqonHidayat\\anaconda3\\lib\\site-packages\\soccerdata\\whoscored.py\" target=\"_blank\"><span style=\"color: #7f7f7f; text-decoration-color: #7f7f7f\">whoscored.py</span></a><span style=\"color: #7f7f7f; text-decoration-color: #7f7f7f\">:</span><a href=\"file://C:\\Users\\HanifFurqonHidayat\\anaconda3\\lib\\site-packages\\soccerdata\\whoscored.py#327\" target=\"_blank\"><span style=\"color: #7f7f7f; text-decoration-color: #7f7f7f\">327</span></a>\n",
       "</pre>\n"
      ],
      "text/plain": [
       "\u001b[2;36m                   \u001b[0m\u001b[2;36m \u001b[0m\u001b[34mINFO    \u001b[0m Scraping game schedule for Monday, Aug \u001b[1;36m14\u001b[0m \u001b[1;36m2023\u001b[0m                        \u001b]8;id=535883;file://C:\\Users\\HanifFurqonHidayat\\anaconda3\\lib\\site-packages\\soccerdata\\whoscored.py\u001b\\\u001b[2mwhoscored.py\u001b[0m\u001b]8;;\u001b\\\u001b[2m:\u001b[0m\u001b]8;id=850579;file://C:\\Users\\HanifFurqonHidayat\\anaconda3\\lib\\site-packages\\soccerdata\\whoscored.py#327\u001b\\\u001b[2m327\u001b[0m\u001b]8;;\u001b\\\n"
      ]
     },
     "metadata": {},
     "output_type": "display_data"
    },
    {
     "data": {
      "text/html": [
       "<pre style=\"white-space:pre;overflow-x:auto;line-height:normal;font-family:Menlo,'DejaVu Sans Mono',consolas,'Courier New',monospace\"><span style=\"color: #7fbfbf; text-decoration-color: #7fbfbf\">                    </span><span style=\"color: #000080; text-decoration-color: #000080\">INFO    </span> Scraping game schedule for Friday, Aug <span style=\"color: #008080; text-decoration-color: #008080; font-weight: bold\">18</span> <span style=\"color: #008080; text-decoration-color: #008080; font-weight: bold\">2023</span>                        <a href=\"file://C:\\Users\\HanifFurqonHidayat\\anaconda3\\lib\\site-packages\\soccerdata\\whoscored.py\" target=\"_blank\"><span style=\"color: #7f7f7f; text-decoration-color: #7f7f7f\">whoscored.py</span></a><span style=\"color: #7f7f7f; text-decoration-color: #7f7f7f\">:</span><a href=\"file://C:\\Users\\HanifFurqonHidayat\\anaconda3\\lib\\site-packages\\soccerdata\\whoscored.py#327\" target=\"_blank\"><span style=\"color: #7f7f7f; text-decoration-color: #7f7f7f\">327</span></a>\n",
       "</pre>\n"
      ],
      "text/plain": [
       "\u001b[2;36m                   \u001b[0m\u001b[2;36m \u001b[0m\u001b[34mINFO    \u001b[0m Scraping game schedule for Friday, Aug \u001b[1;36m18\u001b[0m \u001b[1;36m2023\u001b[0m                        \u001b]8;id=734623;file://C:\\Users\\HanifFurqonHidayat\\anaconda3\\lib\\site-packages\\soccerdata\\whoscored.py\u001b\\\u001b[2mwhoscored.py\u001b[0m\u001b]8;;\u001b\\\u001b[2m:\u001b[0m\u001b]8;id=860689;file://C:\\Users\\HanifFurqonHidayat\\anaconda3\\lib\\site-packages\\soccerdata\\whoscored.py#327\u001b\\\u001b[2m327\u001b[0m\u001b]8;;\u001b\\\n"
      ]
     },
     "metadata": {},
     "output_type": "display_data"
    },
    {
     "data": {
      "text/html": [
       "<pre style=\"white-space:pre;overflow-x:auto;line-height:normal;font-family:Menlo,'DejaVu Sans Mono',consolas,'Courier New',monospace\"><span style=\"color: #7fbfbf; text-decoration-color: #7fbfbf\">                    </span><span style=\"color: #000080; text-decoration-color: #000080\">INFO    </span> Scraping game schedule for Saturday, Aug <span style=\"color: #008080; text-decoration-color: #008080; font-weight: bold\">19</span> <span style=\"color: #008080; text-decoration-color: #008080; font-weight: bold\">2023</span>                      <a href=\"file://C:\\Users\\HanifFurqonHidayat\\anaconda3\\lib\\site-packages\\soccerdata\\whoscored.py\" target=\"_blank\"><span style=\"color: #7f7f7f; text-decoration-color: #7f7f7f\">whoscored.py</span></a><span style=\"color: #7f7f7f; text-decoration-color: #7f7f7f\">:</span><a href=\"file://C:\\Users\\HanifFurqonHidayat\\anaconda3\\lib\\site-packages\\soccerdata\\whoscored.py#327\" target=\"_blank\"><span style=\"color: #7f7f7f; text-decoration-color: #7f7f7f\">327</span></a>\n",
       "</pre>\n"
      ],
      "text/plain": [
       "\u001b[2;36m                   \u001b[0m\u001b[2;36m \u001b[0m\u001b[34mINFO    \u001b[0m Scraping game schedule for Saturday, Aug \u001b[1;36m19\u001b[0m \u001b[1;36m2023\u001b[0m                      \u001b]8;id=46344;file://C:\\Users\\HanifFurqonHidayat\\anaconda3\\lib\\site-packages\\soccerdata\\whoscored.py\u001b\\\u001b[2mwhoscored.py\u001b[0m\u001b]8;;\u001b\\\u001b[2m:\u001b[0m\u001b]8;id=817796;file://C:\\Users\\HanifFurqonHidayat\\anaconda3\\lib\\site-packages\\soccerdata\\whoscored.py#327\u001b\\\u001b[2m327\u001b[0m\u001b]8;;\u001b\\\n"
      ]
     },
     "metadata": {},
     "output_type": "display_data"
    },
    {
     "data": {
      "text/html": [
       "<pre style=\"white-space:pre;overflow-x:auto;line-height:normal;font-family:Menlo,'DejaVu Sans Mono',consolas,'Courier New',monospace\"><span style=\"color: #7fbfbf; text-decoration-color: #7fbfbf\">[09/04/23 10:52:31] </span><span style=\"color: #000080; text-decoration-color: #000080\">INFO    </span> Scraping game schedule for Sunday, Aug <span style=\"color: #008080; text-decoration-color: #008080; font-weight: bold\">20</span> <span style=\"color: #008080; text-decoration-color: #008080; font-weight: bold\">2023</span>                        <a href=\"file://C:\\Users\\HanifFurqonHidayat\\anaconda3\\lib\\site-packages\\soccerdata\\whoscored.py\" target=\"_blank\"><span style=\"color: #7f7f7f; text-decoration-color: #7f7f7f\">whoscored.py</span></a><span style=\"color: #7f7f7f; text-decoration-color: #7f7f7f\">:</span><a href=\"file://C:\\Users\\HanifFurqonHidayat\\anaconda3\\lib\\site-packages\\soccerdata\\whoscored.py#327\" target=\"_blank\"><span style=\"color: #7f7f7f; text-decoration-color: #7f7f7f\">327</span></a>\n",
       "</pre>\n"
      ],
      "text/plain": [
       "\u001b[2;36m[09/04/23 10:52:31]\u001b[0m\u001b[2;36m \u001b[0m\u001b[34mINFO    \u001b[0m Scraping game schedule for Sunday, Aug \u001b[1;36m20\u001b[0m \u001b[1;36m2023\u001b[0m                        \u001b]8;id=224306;file://C:\\Users\\HanifFurqonHidayat\\anaconda3\\lib\\site-packages\\soccerdata\\whoscored.py\u001b\\\u001b[2mwhoscored.py\u001b[0m\u001b]8;;\u001b\\\u001b[2m:\u001b[0m\u001b]8;id=908964;file://C:\\Users\\HanifFurqonHidayat\\anaconda3\\lib\\site-packages\\soccerdata\\whoscored.py#327\u001b\\\u001b[2m327\u001b[0m\u001b]8;;\u001b\\\n"
      ]
     },
     "metadata": {},
     "output_type": "display_data"
    },
    {
     "data": {
      "text/html": [
       "<pre style=\"white-space:pre;overflow-x:auto;line-height:normal;font-family:Menlo,'DejaVu Sans Mono',consolas,'Courier New',monospace\"><span style=\"color: #7fbfbf; text-decoration-color: #7fbfbf\">                    </span><span style=\"color: #000080; text-decoration-color: #000080\">INFO    </span> Scraping game schedule for Monday, Aug <span style=\"color: #008080; text-decoration-color: #008080; font-weight: bold\">21</span> <span style=\"color: #008080; text-decoration-color: #008080; font-weight: bold\">2023</span>                        <a href=\"file://C:\\Users\\HanifFurqonHidayat\\anaconda3\\lib\\site-packages\\soccerdata\\whoscored.py\" target=\"_blank\"><span style=\"color: #7f7f7f; text-decoration-color: #7f7f7f\">whoscored.py</span></a><span style=\"color: #7f7f7f; text-decoration-color: #7f7f7f\">:</span><a href=\"file://C:\\Users\\HanifFurqonHidayat\\anaconda3\\lib\\site-packages\\soccerdata\\whoscored.py#327\" target=\"_blank\"><span style=\"color: #7f7f7f; text-decoration-color: #7f7f7f\">327</span></a>\n",
       "</pre>\n"
      ],
      "text/plain": [
       "\u001b[2;36m                   \u001b[0m\u001b[2;36m \u001b[0m\u001b[34mINFO    \u001b[0m Scraping game schedule for Monday, Aug \u001b[1;36m21\u001b[0m \u001b[1;36m2023\u001b[0m                        \u001b]8;id=473437;file://C:\\Users\\HanifFurqonHidayat\\anaconda3\\lib\\site-packages\\soccerdata\\whoscored.py\u001b\\\u001b[2mwhoscored.py\u001b[0m\u001b]8;;\u001b\\\u001b[2m:\u001b[0m\u001b]8;id=810129;file://C:\\Users\\HanifFurqonHidayat\\anaconda3\\lib\\site-packages\\soccerdata\\whoscored.py#327\u001b\\\u001b[2m327\u001b[0m\u001b]8;;\u001b\\\n"
      ]
     },
     "metadata": {},
     "output_type": "display_data"
    },
    {
     "data": {
      "text/html": [
       "<pre style=\"white-space:pre;overflow-x:auto;line-height:normal;font-family:Menlo,'DejaVu Sans Mono',consolas,'Courier New',monospace\"><span style=\"color: #7fbfbf; text-decoration-color: #7fbfbf\">                    </span><span style=\"color: #000080; text-decoration-color: #000080\">INFO    </span> Scraping game schedule for Friday, Aug <span style=\"color: #008080; text-decoration-color: #008080; font-weight: bold\">25</span> <span style=\"color: #008080; text-decoration-color: #008080; font-weight: bold\">2023</span>                        <a href=\"file://C:\\Users\\HanifFurqonHidayat\\anaconda3\\lib\\site-packages\\soccerdata\\whoscored.py\" target=\"_blank\"><span style=\"color: #7f7f7f; text-decoration-color: #7f7f7f\">whoscored.py</span></a><span style=\"color: #7f7f7f; text-decoration-color: #7f7f7f\">:</span><a href=\"file://C:\\Users\\HanifFurqonHidayat\\anaconda3\\lib\\site-packages\\soccerdata\\whoscored.py#327\" target=\"_blank\"><span style=\"color: #7f7f7f; text-decoration-color: #7f7f7f\">327</span></a>\n",
       "</pre>\n"
      ],
      "text/plain": [
       "\u001b[2;36m                   \u001b[0m\u001b[2;36m \u001b[0m\u001b[34mINFO    \u001b[0m Scraping game schedule for Friday, Aug \u001b[1;36m25\u001b[0m \u001b[1;36m2023\u001b[0m                        \u001b]8;id=359020;file://C:\\Users\\HanifFurqonHidayat\\anaconda3\\lib\\site-packages\\soccerdata\\whoscored.py\u001b\\\u001b[2mwhoscored.py\u001b[0m\u001b]8;;\u001b\\\u001b[2m:\u001b[0m\u001b]8;id=687484;file://C:\\Users\\HanifFurqonHidayat\\anaconda3\\lib\\site-packages\\soccerdata\\whoscored.py#327\u001b\\\u001b[2m327\u001b[0m\u001b]8;;\u001b\\\n"
      ]
     },
     "metadata": {},
     "output_type": "display_data"
    },
    {
     "data": {
      "text/html": [
       "<pre style=\"white-space:pre;overflow-x:auto;line-height:normal;font-family:Menlo,'DejaVu Sans Mono',consolas,'Courier New',monospace\"><span style=\"color: #7fbfbf; text-decoration-color: #7fbfbf\">                    </span><span style=\"color: #000080; text-decoration-color: #000080\">INFO    </span> Scraping game schedule for Saturday, Aug <span style=\"color: #008080; text-decoration-color: #008080; font-weight: bold\">26</span> <span style=\"color: #008080; text-decoration-color: #008080; font-weight: bold\">2023</span>                      <a href=\"file://C:\\Users\\HanifFurqonHidayat\\anaconda3\\lib\\site-packages\\soccerdata\\whoscored.py\" target=\"_blank\"><span style=\"color: #7f7f7f; text-decoration-color: #7f7f7f\">whoscored.py</span></a><span style=\"color: #7f7f7f; text-decoration-color: #7f7f7f\">:</span><a href=\"file://C:\\Users\\HanifFurqonHidayat\\anaconda3\\lib\\site-packages\\soccerdata\\whoscored.py#327\" target=\"_blank\"><span style=\"color: #7f7f7f; text-decoration-color: #7f7f7f\">327</span></a>\n",
       "</pre>\n"
      ],
      "text/plain": [
       "\u001b[2;36m                   \u001b[0m\u001b[2;36m \u001b[0m\u001b[34mINFO    \u001b[0m Scraping game schedule for Saturday, Aug \u001b[1;36m26\u001b[0m \u001b[1;36m2023\u001b[0m                      \u001b]8;id=272502;file://C:\\Users\\HanifFurqonHidayat\\anaconda3\\lib\\site-packages\\soccerdata\\whoscored.py\u001b\\\u001b[2mwhoscored.py\u001b[0m\u001b]8;;\u001b\\\u001b[2m:\u001b[0m\u001b]8;id=256331;file://C:\\Users\\HanifFurqonHidayat\\anaconda3\\lib\\site-packages\\soccerdata\\whoscored.py#327\u001b\\\u001b[2m327\u001b[0m\u001b]8;;\u001b\\\n"
      ]
     },
     "metadata": {},
     "output_type": "display_data"
    },
    {
     "data": {
      "text/html": [
       "<pre style=\"white-space:pre;overflow-x:auto;line-height:normal;font-family:Menlo,'DejaVu Sans Mono',consolas,'Courier New',monospace\"><span style=\"color: #7fbfbf; text-decoration-color: #7fbfbf\">[09/04/23 10:52:32] </span><span style=\"color: #000080; text-decoration-color: #000080\">INFO    </span> Scraping game schedule for Sunday, Aug <span style=\"color: #008080; text-decoration-color: #008080; font-weight: bold\">27</span> <span style=\"color: #008080; text-decoration-color: #008080; font-weight: bold\">2023</span>                        <a href=\"file://C:\\Users\\HanifFurqonHidayat\\anaconda3\\lib\\site-packages\\soccerdata\\whoscored.py\" target=\"_blank\"><span style=\"color: #7f7f7f; text-decoration-color: #7f7f7f\">whoscored.py</span></a><span style=\"color: #7f7f7f; text-decoration-color: #7f7f7f\">:</span><a href=\"file://C:\\Users\\HanifFurqonHidayat\\anaconda3\\lib\\site-packages\\soccerdata\\whoscored.py#327\" target=\"_blank\"><span style=\"color: #7f7f7f; text-decoration-color: #7f7f7f\">327</span></a>\n",
       "</pre>\n"
      ],
      "text/plain": [
       "\u001b[2;36m[09/04/23 10:52:32]\u001b[0m\u001b[2;36m \u001b[0m\u001b[34mINFO    \u001b[0m Scraping game schedule for Sunday, Aug \u001b[1;36m27\u001b[0m \u001b[1;36m2023\u001b[0m                        \u001b]8;id=353270;file://C:\\Users\\HanifFurqonHidayat\\anaconda3\\lib\\site-packages\\soccerdata\\whoscored.py\u001b\\\u001b[2mwhoscored.py\u001b[0m\u001b]8;;\u001b\\\u001b[2m:\u001b[0m\u001b]8;id=476738;file://C:\\Users\\HanifFurqonHidayat\\anaconda3\\lib\\site-packages\\soccerdata\\whoscored.py#327\u001b\\\u001b[2m327\u001b[0m\u001b]8;;\u001b\\\n"
      ]
     },
     "metadata": {},
     "output_type": "display_data"
    },
    {
     "data": {
      "text/html": [
       "<pre style=\"white-space:pre;overflow-x:auto;line-height:normal;font-family:Menlo,'DejaVu Sans Mono',consolas,'Courier New',monospace\"><span style=\"color: #7fbfbf; text-decoration-color: #7fbfbf\">                    </span><span style=\"color: #000080; text-decoration-color: #000080\">INFO    </span> <span style=\"font-weight: bold\">[</span><span style=\"color: #008080; text-decoration-color: #008080; font-weight: bold\">1</span>/<span style=\"color: #008080; text-decoration-color: #008080; font-weight: bold\">1</span><span style=\"font-weight: bold\">]</span> Retrieving game with <span style=\"color: #808000; text-decoration-color: #808000\">id</span>=<span style=\"color: #008080; text-decoration-color: #008080; font-weight: bold\">1729265</span>                                 <a href=\"file://C:\\Users\\HanifFurqonHidayat\\anaconda3\\lib\\site-packages\\soccerdata\\whoscored.py\" target=\"_blank\"><span style=\"color: #7f7f7f; text-decoration-color: #7f7f7f\">whoscored.py</span></a><span style=\"color: #7f7f7f; text-decoration-color: #7f7f7f\">:</span><a href=\"file://C:\\Users\\HanifFurqonHidayat\\anaconda3\\lib\\site-packages\\soccerdata\\whoscored.py#693\" target=\"_blank\"><span style=\"color: #7f7f7f; text-decoration-color: #7f7f7f\">693</span></a>\n",
       "</pre>\n"
      ],
      "text/plain": [
       "\u001b[2;36m                   \u001b[0m\u001b[2;36m \u001b[0m\u001b[34mINFO    \u001b[0m \u001b[1m[\u001b[0m\u001b[1;36m1\u001b[0m/\u001b[1;36m1\u001b[0m\u001b[1m]\u001b[0m Retrieving game with \u001b[33mid\u001b[0m=\u001b[1;36m1729265\u001b[0m                                 \u001b]8;id=755227;file://C:\\Users\\HanifFurqonHidayat\\anaconda3\\lib\\site-packages\\soccerdata\\whoscored.py\u001b\\\u001b[2mwhoscored.py\u001b[0m\u001b]8;;\u001b\\\u001b[2m:\u001b[0m\u001b]8;id=398769;file://C:\\Users\\HanifFurqonHidayat\\anaconda3\\lib\\site-packages\\soccerdata\\whoscored.py#693\u001b\\\u001b[2m693\u001b[0m\u001b]8;;\u001b\\\n"
      ]
     },
     "metadata": {},
     "output_type": "display_data"
    }
   ],
   "source": [
    "# set a loader\n",
    "loader = ws.read_events(match_id=sel_game, output_fmt='loader')"
   ]
  },
  {
   "cell_type": "code",
   "execution_count": 7,
   "id": "3ad1046e",
   "metadata": {},
   "outputs": [],
   "source": [
    "# extract teams in a game\n",
    "df_teams = loader.teams(game_id=sel_game)\n",
    "\n",
    "# set home and away team\n",
    "home_team = df_teams['team_name'][0]\n",
    "away_team = df_teams['team_name'][1]"
   ]
  },
  {
   "cell_type": "code",
   "execution_count": 8,
   "id": "6b7b427a",
   "metadata": {
    "scrolled": true
   },
   "outputs": [
    {
     "data": {
      "text/html": [
       "<div>\n",
       "<style scoped>\n",
       "    .dataframe tbody tr th:only-of-type {\n",
       "        vertical-align: middle;\n",
       "    }\n",
       "\n",
       "    .dataframe tbody tr th {\n",
       "        vertical-align: top;\n",
       "    }\n",
       "\n",
       "    .dataframe thead th {\n",
       "        text-align: right;\n",
       "    }\n",
       "</style>\n",
       "<table border=\"1\" class=\"dataframe\">\n",
       "  <thead>\n",
       "    <tr style=\"text-align: right;\">\n",
       "      <th></th>\n",
       "      <th>game_id</th>\n",
       "      <th>team_id</th>\n",
       "      <th>player_id</th>\n",
       "      <th>player_name</th>\n",
       "      <th>is_starter</th>\n",
       "      <th>minutes_played</th>\n",
       "      <th>jersey_number</th>\n",
       "      <th>starting_position</th>\n",
       "    </tr>\n",
       "  </thead>\n",
       "  <tbody>\n",
       "    <tr>\n",
       "      <th>0</th>\n",
       "      <td>1729265</td>\n",
       "      <td>13</td>\n",
       "      <td>316858</td>\n",
       "      <td>Aaron Ramsdale</td>\n",
       "      <td>True</td>\n",
       "      <td>106</td>\n",
       "      <td>1</td>\n",
       "      <td>GK</td>\n",
       "    </tr>\n",
       "    <tr>\n",
       "      <th>1</th>\n",
       "      <td>1729265</td>\n",
       "      <td>13</td>\n",
       "      <td>322036</td>\n",
       "      <td>Ben White</td>\n",
       "      <td>True</td>\n",
       "      <td>106</td>\n",
       "      <td>4</td>\n",
       "      <td>DR</td>\n",
       "    </tr>\n",
       "    <tr>\n",
       "      <th>2</th>\n",
       "      <td>1729265</td>\n",
       "      <td>13</td>\n",
       "      <td>334087</td>\n",
       "      <td>Gabriel Magalhães</td>\n",
       "      <td>True</td>\n",
       "      <td>106</td>\n",
       "      <td>6</td>\n",
       "      <td>DC</td>\n",
       "    </tr>\n",
       "    <tr>\n",
       "      <th>3</th>\n",
       "      <td>1729265</td>\n",
       "      <td>13</td>\n",
       "      <td>361822</td>\n",
       "      <td>William Saliba</td>\n",
       "      <td>True</td>\n",
       "      <td>106</td>\n",
       "      <td>2</td>\n",
       "      <td>DC</td>\n",
       "    </tr>\n",
       "    <tr>\n",
       "      <th>4</th>\n",
       "      <td>1729265</td>\n",
       "      <td>13</td>\n",
       "      <td>273257</td>\n",
       "      <td>Oleksandr Zinchenko</td>\n",
       "      <td>True</td>\n",
       "      <td>79</td>\n",
       "      <td>35</td>\n",
       "      <td>DL</td>\n",
       "    </tr>\n",
       "    <tr>\n",
       "      <th>5</th>\n",
       "      <td>1729265</td>\n",
       "      <td>13</td>\n",
       "      <td>326413</td>\n",
       "      <td>Kai Havertz</td>\n",
       "      <td>True</td>\n",
       "      <td>80</td>\n",
       "      <td>29</td>\n",
       "      <td>MC</td>\n",
       "    </tr>\n",
       "    <tr>\n",
       "      <th>6</th>\n",
       "      <td>1729265</td>\n",
       "      <td>13</td>\n",
       "      <td>247454</td>\n",
       "      <td>Martin Ødegaard</td>\n",
       "      <td>True</td>\n",
       "      <td>102</td>\n",
       "      <td>8</td>\n",
       "      <td>MC</td>\n",
       "    </tr>\n",
       "    <tr>\n",
       "      <th>7</th>\n",
       "      <td>1729265</td>\n",
       "      <td>13</td>\n",
       "      <td>332325</td>\n",
       "      <td>Declan Rice</td>\n",
       "      <td>True</td>\n",
       "      <td>106</td>\n",
       "      <td>41</td>\n",
       "      <td>MC</td>\n",
       "    </tr>\n",
       "    <tr>\n",
       "      <th>8</th>\n",
       "      <td>1729265</td>\n",
       "      <td>13</td>\n",
       "      <td>367185</td>\n",
       "      <td>Bukayo Saka</td>\n",
       "      <td>True</td>\n",
       "      <td>106</td>\n",
       "      <td>7</td>\n",
       "      <td>FWR</td>\n",
       "    </tr>\n",
       "    <tr>\n",
       "      <th>9</th>\n",
       "      <td>1729265</td>\n",
       "      <td>13</td>\n",
       "      <td>345845</td>\n",
       "      <td>Eddie Nketiah</td>\n",
       "      <td>True</td>\n",
       "      <td>79</td>\n",
       "      <td>14</td>\n",
       "      <td>FW</td>\n",
       "    </tr>\n",
       "    <tr>\n",
       "      <th>10</th>\n",
       "      <td>1729265</td>\n",
       "      <td>13</td>\n",
       "      <td>380706</td>\n",
       "      <td>Gabriel Martinelli</td>\n",
       "      <td>True</td>\n",
       "      <td>93</td>\n",
       "      <td>11</td>\n",
       "      <td>FWL</td>\n",
       "    </tr>\n",
       "    <tr>\n",
       "      <th>11</th>\n",
       "      <td>1729265</td>\n",
       "      <td>13</td>\n",
       "      <td>279379</td>\n",
       "      <td>Gabriel Jesus</td>\n",
       "      <td>False</td>\n",
       "      <td>27</td>\n",
       "      <td>9</td>\n",
       "      <td>Sub</td>\n",
       "    </tr>\n",
       "    <tr>\n",
       "      <th>12</th>\n",
       "      <td>1729265</td>\n",
       "      <td>13</td>\n",
       "      <td>106968</td>\n",
       "      <td>Jorginho</td>\n",
       "      <td>False</td>\n",
       "      <td>4</td>\n",
       "      <td>20</td>\n",
       "      <td>Sub</td>\n",
       "    </tr>\n",
       "    <tr>\n",
       "      <th>13</th>\n",
       "      <td>1729265</td>\n",
       "      <td>13</td>\n",
       "      <td>377283</td>\n",
       "      <td>Takehiro Tomiyasu</td>\n",
       "      <td>False</td>\n",
       "      <td>27</td>\n",
       "      <td>18</td>\n",
       "      <td>Sub</td>\n",
       "    </tr>\n",
       "    <tr>\n",
       "      <th>14</th>\n",
       "      <td>1729265</td>\n",
       "      <td>13</td>\n",
       "      <td>394924</td>\n",
       "      <td>Fábio Vieira</td>\n",
       "      <td>False</td>\n",
       "      <td>26</td>\n",
       "      <td>21</td>\n",
       "      <td>Sub</td>\n",
       "    </tr>\n",
       "    <tr>\n",
       "      <th>15</th>\n",
       "      <td>1729265</td>\n",
       "      <td>13</td>\n",
       "      <td>342564</td>\n",
       "      <td>Reiss Nelson</td>\n",
       "      <td>False</td>\n",
       "      <td>13</td>\n",
       "      <td>24</td>\n",
       "      <td>Sub</td>\n",
       "    </tr>\n",
       "    <tr>\n",
       "      <th>16</th>\n",
       "      <td>1729265</td>\n",
       "      <td>13</td>\n",
       "      <td>113994</td>\n",
       "      <td>Leandro Trossard</td>\n",
       "      <td>False</td>\n",
       "      <td>0</td>\n",
       "      <td>19</td>\n",
       "      <td>Sub</td>\n",
       "    </tr>\n",
       "    <tr>\n",
       "      <th>17</th>\n",
       "      <td>1729265</td>\n",
       "      <td>13</td>\n",
       "      <td>424462</td>\n",
       "      <td>Jakub Kiwior</td>\n",
       "      <td>False</td>\n",
       "      <td>0</td>\n",
       "      <td>15</td>\n",
       "      <td>Sub</td>\n",
       "    </tr>\n",
       "    <tr>\n",
       "      <th>18</th>\n",
       "      <td>1729265</td>\n",
       "      <td>13</td>\n",
       "      <td>276366</td>\n",
       "      <td>David Raya</td>\n",
       "      <td>False</td>\n",
       "      <td>0</td>\n",
       "      <td>22</td>\n",
       "      <td>Sub</td>\n",
       "    </tr>\n",
       "    <tr>\n",
       "      <th>19</th>\n",
       "      <td>1729265</td>\n",
       "      <td>13</td>\n",
       "      <td>363686</td>\n",
       "      <td>Emile Smith Rowe</td>\n",
       "      <td>False</td>\n",
       "      <td>0</td>\n",
       "      <td>10</td>\n",
       "      <td>Sub</td>\n",
       "    </tr>\n",
       "    <tr>\n",
       "      <th>20</th>\n",
       "      <td>1729265</td>\n",
       "      <td>32</td>\n",
       "      <td>260843</td>\n",
       "      <td>André Onana</td>\n",
       "      <td>True</td>\n",
       "      <td>106</td>\n",
       "      <td>24</td>\n",
       "      <td>GK</td>\n",
       "    </tr>\n",
       "    <tr>\n",
       "      <th>21</th>\n",
       "      <td>1729265</td>\n",
       "      <td>32</td>\n",
       "      <td>331924</td>\n",
       "      <td>Aaron Wan-Bissaka</td>\n",
       "      <td>True</td>\n",
       "      <td>106</td>\n",
       "      <td>29</td>\n",
       "      <td>DR</td>\n",
       "    </tr>\n",
       "    <tr>\n",
       "      <th>22</th>\n",
       "      <td>1729265</td>\n",
       "      <td>32</td>\n",
       "      <td>340105</td>\n",
       "      <td>Lisandro Martínez</td>\n",
       "      <td>True</td>\n",
       "      <td>70</td>\n",
       "      <td>6</td>\n",
       "      <td>DC</td>\n",
       "    </tr>\n",
       "    <tr>\n",
       "      <th>23</th>\n",
       "      <td>1729265</td>\n",
       "      <td>32</td>\n",
       "      <td>100008</td>\n",
       "      <td>Victor Lindelöf</td>\n",
       "      <td>True</td>\n",
       "      <td>87</td>\n",
       "      <td>2</td>\n",
       "      <td>DC</td>\n",
       "    </tr>\n",
       "    <tr>\n",
       "      <th>24</th>\n",
       "      <td>1729265</td>\n",
       "      <td>32</td>\n",
       "      <td>353418</td>\n",
       "      <td>Diogo Dalot</td>\n",
       "      <td>True</td>\n",
       "      <td>106</td>\n",
       "      <td>20</td>\n",
       "      <td>DL</td>\n",
       "    </tr>\n",
       "    <tr>\n",
       "      <th>25</th>\n",
       "      <td>1729265</td>\n",
       "      <td>32</td>\n",
       "      <td>88526</td>\n",
       "      <td>Casemiro</td>\n",
       "      <td>True</td>\n",
       "      <td>106</td>\n",
       "      <td>18</td>\n",
       "      <td>DMC</td>\n",
       "    </tr>\n",
       "    <tr>\n",
       "      <th>26</th>\n",
       "      <td>1729265</td>\n",
       "      <td>32</td>\n",
       "      <td>69344</td>\n",
       "      <td>Christian Eriksen</td>\n",
       "      <td>True</td>\n",
       "      <td>106</td>\n",
       "      <td>14</td>\n",
       "      <td>DMC</td>\n",
       "    </tr>\n",
       "    <tr>\n",
       "      <th>27</th>\n",
       "      <td>1729265</td>\n",
       "      <td>32</td>\n",
       "      <td>364315</td>\n",
       "      <td>Antony</td>\n",
       "      <td>True</td>\n",
       "      <td>87</td>\n",
       "      <td>21</td>\n",
       "      <td>AMR</td>\n",
       "    </tr>\n",
       "    <tr>\n",
       "      <th>28</th>\n",
       "      <td>1729265</td>\n",
       "      <td>32</td>\n",
       "      <td>123761</td>\n",
       "      <td>Bruno Fernandes</td>\n",
       "      <td>True</td>\n",
       "      <td>106</td>\n",
       "      <td>8</td>\n",
       "      <td>AMC</td>\n",
       "    </tr>\n",
       "    <tr>\n",
       "      <th>29</th>\n",
       "      <td>1729265</td>\n",
       "      <td>32</td>\n",
       "      <td>300299</td>\n",
       "      <td>Marcus Rashford</td>\n",
       "      <td>True</td>\n",
       "      <td>106</td>\n",
       "      <td>10</td>\n",
       "      <td>AML</td>\n",
       "    </tr>\n",
       "    <tr>\n",
       "      <th>30</th>\n",
       "      <td>1729265</td>\n",
       "      <td>32</td>\n",
       "      <td>122366</td>\n",
       "      <td>Anthony Martial</td>\n",
       "      <td>True</td>\n",
       "      <td>70</td>\n",
       "      <td>9</td>\n",
       "      <td>FW</td>\n",
       "    </tr>\n",
       "    <tr>\n",
       "      <th>31</th>\n",
       "      <td>1729265</td>\n",
       "      <td>32</td>\n",
       "      <td>437022</td>\n",
       "      <td>Alejandro Garnacho</td>\n",
       "      <td>False</td>\n",
       "      <td>19</td>\n",
       "      <td>17</td>\n",
       "      <td>Sub</td>\n",
       "    </tr>\n",
       "    <tr>\n",
       "      <th>32</th>\n",
       "      <td>1729265</td>\n",
       "      <td>32</td>\n",
       "      <td>439584</td>\n",
       "      <td>Rasmus Højlund</td>\n",
       "      <td>False</td>\n",
       "      <td>36</td>\n",
       "      <td>11</td>\n",
       "      <td>Sub</td>\n",
       "    </tr>\n",
       "    <tr>\n",
       "      <th>33</th>\n",
       "      <td>1729265</td>\n",
       "      <td>32</td>\n",
       "      <td>99487</td>\n",
       "      <td>Harry Maguire</td>\n",
       "      <td>False</td>\n",
       "      <td>36</td>\n",
       "      <td>5</td>\n",
       "      <td>Sub</td>\n",
       "    </tr>\n",
       "    <tr>\n",
       "      <th>34</th>\n",
       "      <td>1729265</td>\n",
       "      <td>32</td>\n",
       "      <td>22079</td>\n",
       "      <td>Jonny Evans</td>\n",
       "      <td>False</td>\n",
       "      <td>19</td>\n",
       "      <td>35</td>\n",
       "      <td>Sub</td>\n",
       "    </tr>\n",
       "    <tr>\n",
       "      <th>35</th>\n",
       "      <td>1729265</td>\n",
       "      <td>32</td>\n",
       "      <td>362275</td>\n",
       "      <td>Sergio Reguilón</td>\n",
       "      <td>False</td>\n",
       "      <td>0</td>\n",
       "      <td>15</td>\n",
       "      <td>Sub</td>\n",
       "    </tr>\n",
       "    <tr>\n",
       "      <th>36</th>\n",
       "      <td>1729265</td>\n",
       "      <td>32</td>\n",
       "      <td>416207</td>\n",
       "      <td>Hannibal Mejbri</td>\n",
       "      <td>False</td>\n",
       "      <td>0</td>\n",
       "      <td>46</td>\n",
       "      <td>Sub</td>\n",
       "    </tr>\n",
       "    <tr>\n",
       "      <th>37</th>\n",
       "      <td>1729265</td>\n",
       "      <td>32</td>\n",
       "      <td>361707</td>\n",
       "      <td>Altay Bayindir</td>\n",
       "      <td>False</td>\n",
       "      <td>0</td>\n",
       "      <td>1</td>\n",
       "      <td>Sub</td>\n",
       "    </tr>\n",
       "    <tr>\n",
       "      <th>38</th>\n",
       "      <td>1729265</td>\n",
       "      <td>32</td>\n",
       "      <td>404086</td>\n",
       "      <td>Facundo Pellistri</td>\n",
       "      <td>False</td>\n",
       "      <td>0</td>\n",
       "      <td>28</td>\n",
       "      <td>Sub</td>\n",
       "    </tr>\n",
       "    <tr>\n",
       "      <th>39</th>\n",
       "      <td>1729265</td>\n",
       "      <td>32</td>\n",
       "      <td>467768</td>\n",
       "      <td>Daniel Gore</td>\n",
       "      <td>False</td>\n",
       "      <td>0</td>\n",
       "      <td>44</td>\n",
       "      <td>Sub</td>\n",
       "    </tr>\n",
       "  </tbody>\n",
       "</table>\n",
       "</div>"
      ],
      "text/plain": [
       "    game_id  team_id  player_id          player_name  is_starter  \\\n",
       "0   1729265       13     316858       Aaron Ramsdale        True   \n",
       "1   1729265       13     322036            Ben White        True   \n",
       "2   1729265       13     334087    Gabriel Magalhães        True   \n",
       "3   1729265       13     361822       William Saliba        True   \n",
       "4   1729265       13     273257  Oleksandr Zinchenko        True   \n",
       "5   1729265       13     326413          Kai Havertz        True   \n",
       "6   1729265       13     247454      Martin Ødegaard        True   \n",
       "7   1729265       13     332325          Declan Rice        True   \n",
       "8   1729265       13     367185          Bukayo Saka        True   \n",
       "9   1729265       13     345845        Eddie Nketiah        True   \n",
       "10  1729265       13     380706   Gabriel Martinelli        True   \n",
       "11  1729265       13     279379        Gabriel Jesus       False   \n",
       "12  1729265       13     106968             Jorginho       False   \n",
       "13  1729265       13     377283    Takehiro Tomiyasu       False   \n",
       "14  1729265       13     394924         Fábio Vieira       False   \n",
       "15  1729265       13     342564         Reiss Nelson       False   \n",
       "16  1729265       13     113994     Leandro Trossard       False   \n",
       "17  1729265       13     424462         Jakub Kiwior       False   \n",
       "18  1729265       13     276366           David Raya       False   \n",
       "19  1729265       13     363686     Emile Smith Rowe       False   \n",
       "20  1729265       32     260843          André Onana        True   \n",
       "21  1729265       32     331924    Aaron Wan-Bissaka        True   \n",
       "22  1729265       32     340105    Lisandro Martínez        True   \n",
       "23  1729265       32     100008      Victor Lindelöf        True   \n",
       "24  1729265       32     353418          Diogo Dalot        True   \n",
       "25  1729265       32      88526             Casemiro        True   \n",
       "26  1729265       32      69344    Christian Eriksen        True   \n",
       "27  1729265       32     364315               Antony        True   \n",
       "28  1729265       32     123761      Bruno Fernandes        True   \n",
       "29  1729265       32     300299      Marcus Rashford        True   \n",
       "30  1729265       32     122366      Anthony Martial        True   \n",
       "31  1729265       32     437022   Alejandro Garnacho       False   \n",
       "32  1729265       32     439584       Rasmus Højlund       False   \n",
       "33  1729265       32      99487        Harry Maguire       False   \n",
       "34  1729265       32      22079          Jonny Evans       False   \n",
       "35  1729265       32     362275      Sergio Reguilón       False   \n",
       "36  1729265       32     416207      Hannibal Mejbri       False   \n",
       "37  1729265       32     361707       Altay Bayindir       False   \n",
       "38  1729265       32     404086    Facundo Pellistri       False   \n",
       "39  1729265       32     467768          Daniel Gore       False   \n",
       "\n",
       "    minutes_played  jersey_number starting_position  \n",
       "0              106              1                GK  \n",
       "1              106              4                DR  \n",
       "2              106              6                DC  \n",
       "3              106              2                DC  \n",
       "4               79             35                DL  \n",
       "5               80             29                MC  \n",
       "6              102              8                MC  \n",
       "7              106             41                MC  \n",
       "8              106              7               FWR  \n",
       "9               79             14                FW  \n",
       "10              93             11               FWL  \n",
       "11              27              9               Sub  \n",
       "12               4             20               Sub  \n",
       "13              27             18               Sub  \n",
       "14              26             21               Sub  \n",
       "15              13             24               Sub  \n",
       "16               0             19               Sub  \n",
       "17               0             15               Sub  \n",
       "18               0             22               Sub  \n",
       "19               0             10               Sub  \n",
       "20             106             24                GK  \n",
       "21             106             29                DR  \n",
       "22              70              6                DC  \n",
       "23              87              2                DC  \n",
       "24             106             20                DL  \n",
       "25             106             18               DMC  \n",
       "26             106             14               DMC  \n",
       "27              87             21               AMR  \n",
       "28             106              8               AMC  \n",
       "29             106             10               AML  \n",
       "30              70              9                FW  \n",
       "31              19             17               Sub  \n",
       "32              36             11               Sub  \n",
       "33              36              5               Sub  \n",
       "34              19             35               Sub  \n",
       "35               0             15               Sub  \n",
       "36               0             46               Sub  \n",
       "37               0              1               Sub  \n",
       "38               0             28               Sub  \n",
       "39               0             44               Sub  "
      ]
     },
     "execution_count": 8,
     "metadata": {},
     "output_type": "execute_result"
    }
   ],
   "source": [
    "# show players in a game\n",
    "df_players = loader.players(game_id=sel_game)\n",
    "\n",
    "df_players"
   ]
  },
  {
   "cell_type": "code",
   "execution_count": 9,
   "id": "5b6f9255",
   "metadata": {
    "scrolled": true
   },
   "outputs": [
    {
     "data": {
      "text/html": [
       "<pre style=\"white-space:pre;overflow-x:auto;line-height:normal;font-family:Menlo,'DejaVu Sans Mono',consolas,'Courier New',monospace\"><span style=\"color: #7fbfbf; text-decoration-color: #7fbfbf\">[09/04/23 10:53:07] </span><span style=\"color: #000080; text-decoration-color: #000080\">INFO    </span> Scraping game schedule from                                           <a href=\"file://C:\\Users\\HanifFurqonHidayat\\anaconda3\\lib\\site-packages\\soccerdata\\whoscored.py\" target=\"_blank\"><span style=\"color: #7f7f7f; text-decoration-color: #7f7f7f\">whoscored.py</span></a><span style=\"color: #7f7f7f; text-decoration-color: #7f7f7f\">:</span><a href=\"file://C:\\Users\\HanifFurqonHidayat\\anaconda3\\lib\\site-packages\\soccerdata\\whoscored.py#427\" target=\"_blank\"><span style=\"color: #7f7f7f; text-decoration-color: #7f7f7f\">427</span></a>\n",
       "<span style=\"color: #7fbfbf; text-decoration-color: #7fbfbf\">                    </span>         <span style=\"color: #0000ff; text-decoration-color: #0000ff; text-decoration: underline\">https://www.whoscored.com/Regions/252/Tournaments/2/Seasons/9618/Engl</span> <span style=\"color: #7f7f7f; text-decoration-color: #7f7f7f\">                </span>\n",
       "<span style=\"color: #7fbfbf; text-decoration-color: #7fbfbf\">                    </span>         <span style=\"color: #0000ff; text-decoration-color: #0000ff; text-decoration: underline\">and-Premier-League</span>                                                    <span style=\"color: #7f7f7f; text-decoration-color: #7f7f7f\">                </span>\n",
       "</pre>\n"
      ],
      "text/plain": [
       "\u001b[2;36m[09/04/23 10:53:07]\u001b[0m\u001b[2;36m \u001b[0m\u001b[34mINFO    \u001b[0m Scraping game schedule from                                           \u001b]8;id=483464;file://C:\\Users\\HanifFurqonHidayat\\anaconda3\\lib\\site-packages\\soccerdata\\whoscored.py\u001b\\\u001b[2mwhoscored.py\u001b[0m\u001b]8;;\u001b\\\u001b[2m:\u001b[0m\u001b]8;id=685685;file://C:\\Users\\HanifFurqonHidayat\\anaconda3\\lib\\site-packages\\soccerdata\\whoscored.py#427\u001b\\\u001b[2m427\u001b[0m\u001b]8;;\u001b\\\n",
       "\u001b[2;36m                    \u001b[0m         \u001b[4;94mhttps://www.whoscored.com/Regions/252/Tournaments/2/Seasons/9618/Engl\u001b[0m \u001b[2m                \u001b[0m\n",
       "\u001b[2;36m                    \u001b[0m         \u001b[4;94mand-Premier-League\u001b[0m                                                    \u001b[2m                \u001b[0m\n"
      ]
     },
     "metadata": {},
     "output_type": "display_data"
    },
    {
     "data": {
      "text/html": [
       "<pre style=\"white-space:pre;overflow-x:auto;line-height:normal;font-family:Menlo,'DejaVu Sans Mono',consolas,'Courier New',monospace\"><span style=\"color: #7fbfbf; text-decoration-color: #7fbfbf\">                    </span><span style=\"color: #000080; text-decoration-color: #000080\">INFO    </span> Scraping game schedule for Friday, Sep <span style=\"color: #008080; text-decoration-color: #008080; font-weight: bold\">1</span> <span style=\"color: #008080; text-decoration-color: #008080; font-weight: bold\">2023</span>                         <a href=\"file://C:\\Users\\HanifFurqonHidayat\\anaconda3\\lib\\site-packages\\soccerdata\\whoscored.py\" target=\"_blank\"><span style=\"color: #7f7f7f; text-decoration-color: #7f7f7f\">whoscored.py</span></a><span style=\"color: #7f7f7f; text-decoration-color: #7f7f7f\">:</span><a href=\"file://C:\\Users\\HanifFurqonHidayat\\anaconda3\\lib\\site-packages\\soccerdata\\whoscored.py#327\" target=\"_blank\"><span style=\"color: #7f7f7f; text-decoration-color: #7f7f7f\">327</span></a>\n",
       "</pre>\n"
      ],
      "text/plain": [
       "\u001b[2;36m                   \u001b[0m\u001b[2;36m \u001b[0m\u001b[34mINFO    \u001b[0m Scraping game schedule for Friday, Sep \u001b[1;36m1\u001b[0m \u001b[1;36m2023\u001b[0m                         \u001b]8;id=889492;file://C:\\Users\\HanifFurqonHidayat\\anaconda3\\lib\\site-packages\\soccerdata\\whoscored.py\u001b\\\u001b[2mwhoscored.py\u001b[0m\u001b]8;;\u001b\\\u001b[2m:\u001b[0m\u001b]8;id=192236;file://C:\\Users\\HanifFurqonHidayat\\anaconda3\\lib\\site-packages\\soccerdata\\whoscored.py#327\u001b\\\u001b[2m327\u001b[0m\u001b]8;;\u001b\\\n"
      ]
     },
     "metadata": {},
     "output_type": "display_data"
    },
    {
     "data": {
      "text/html": [
       "<pre style=\"white-space:pre;overflow-x:auto;line-height:normal;font-family:Menlo,'DejaVu Sans Mono',consolas,'Courier New',monospace\"><span style=\"color: #7fbfbf; text-decoration-color: #7fbfbf\">                    </span><span style=\"color: #000080; text-decoration-color: #000080\">INFO    </span> Scraping game schedule for Saturday, Sep <span style=\"color: #008080; text-decoration-color: #008080; font-weight: bold\">2</span> <span style=\"color: #008080; text-decoration-color: #008080; font-weight: bold\">2023</span>                       <a href=\"file://C:\\Users\\HanifFurqonHidayat\\anaconda3\\lib\\site-packages\\soccerdata\\whoscored.py\" target=\"_blank\"><span style=\"color: #7f7f7f; text-decoration-color: #7f7f7f\">whoscored.py</span></a><span style=\"color: #7f7f7f; text-decoration-color: #7f7f7f\">:</span><a href=\"file://C:\\Users\\HanifFurqonHidayat\\anaconda3\\lib\\site-packages\\soccerdata\\whoscored.py#327\" target=\"_blank\"><span style=\"color: #7f7f7f; text-decoration-color: #7f7f7f\">327</span></a>\n",
       "</pre>\n"
      ],
      "text/plain": [
       "\u001b[2;36m                   \u001b[0m\u001b[2;36m \u001b[0m\u001b[34mINFO    \u001b[0m Scraping game schedule for Saturday, Sep \u001b[1;36m2\u001b[0m \u001b[1;36m2023\u001b[0m                       \u001b]8;id=964243;file://C:\\Users\\HanifFurqonHidayat\\anaconda3\\lib\\site-packages\\soccerdata\\whoscored.py\u001b\\\u001b[2mwhoscored.py\u001b[0m\u001b]8;;\u001b\\\u001b[2m:\u001b[0m\u001b]8;id=711410;file://C:\\Users\\HanifFurqonHidayat\\anaconda3\\lib\\site-packages\\soccerdata\\whoscored.py#327\u001b\\\u001b[2m327\u001b[0m\u001b]8;;\u001b\\\n"
      ]
     },
     "metadata": {},
     "output_type": "display_data"
    },
    {
     "data": {
      "text/html": [
       "<pre style=\"white-space:pre;overflow-x:auto;line-height:normal;font-family:Menlo,'DejaVu Sans Mono',consolas,'Courier New',monospace\"><span style=\"color: #7fbfbf; text-decoration-color: #7fbfbf\">[09/04/23 10:53:08] </span><span style=\"color: #000080; text-decoration-color: #000080\">INFO    </span> Scraping game schedule for Sunday, Sep <span style=\"color: #008080; text-decoration-color: #008080; font-weight: bold\">3</span> <span style=\"color: #008080; text-decoration-color: #008080; font-weight: bold\">2023</span>                         <a href=\"file://C:\\Users\\HanifFurqonHidayat\\anaconda3\\lib\\site-packages\\soccerdata\\whoscored.py\" target=\"_blank\"><span style=\"color: #7f7f7f; text-decoration-color: #7f7f7f\">whoscored.py</span></a><span style=\"color: #7f7f7f; text-decoration-color: #7f7f7f\">:</span><a href=\"file://C:\\Users\\HanifFurqonHidayat\\anaconda3\\lib\\site-packages\\soccerdata\\whoscored.py#327\" target=\"_blank\"><span style=\"color: #7f7f7f; text-decoration-color: #7f7f7f\">327</span></a>\n",
       "</pre>\n"
      ],
      "text/plain": [
       "\u001b[2;36m[09/04/23 10:53:08]\u001b[0m\u001b[2;36m \u001b[0m\u001b[34mINFO    \u001b[0m Scraping game schedule for Sunday, Sep \u001b[1;36m3\u001b[0m \u001b[1;36m2023\u001b[0m                         \u001b]8;id=217782;file://C:\\Users\\HanifFurqonHidayat\\anaconda3\\lib\\site-packages\\soccerdata\\whoscored.py\u001b\\\u001b[2mwhoscored.py\u001b[0m\u001b]8;;\u001b\\\u001b[2m:\u001b[0m\u001b]8;id=875204;file://C:\\Users\\HanifFurqonHidayat\\anaconda3\\lib\\site-packages\\soccerdata\\whoscored.py#327\u001b\\\u001b[2m327\u001b[0m\u001b]8;;\u001b\\\n"
      ]
     },
     "metadata": {},
     "output_type": "display_data"
    },
    {
     "data": {
      "text/html": [
       "<pre style=\"white-space:pre;overflow-x:auto;line-height:normal;font-family:Menlo,'DejaVu Sans Mono',consolas,'Courier New',monospace\"><span style=\"color: #7fbfbf; text-decoration-color: #7fbfbf\">                    </span><span style=\"color: #000080; text-decoration-color: #000080\">INFO    </span> Scraping game schedule for Saturday, Sep <span style=\"color: #008080; text-decoration-color: #008080; font-weight: bold\">16</span> <span style=\"color: #008080; text-decoration-color: #008080; font-weight: bold\">2023</span>                      <a href=\"file://C:\\Users\\HanifFurqonHidayat\\anaconda3\\lib\\site-packages\\soccerdata\\whoscored.py\" target=\"_blank\"><span style=\"color: #7f7f7f; text-decoration-color: #7f7f7f\">whoscored.py</span></a><span style=\"color: #7f7f7f; text-decoration-color: #7f7f7f\">:</span><a href=\"file://C:\\Users\\HanifFurqonHidayat\\anaconda3\\lib\\site-packages\\soccerdata\\whoscored.py#327\" target=\"_blank\"><span style=\"color: #7f7f7f; text-decoration-color: #7f7f7f\">327</span></a>\n",
       "</pre>\n"
      ],
      "text/plain": [
       "\u001b[2;36m                   \u001b[0m\u001b[2;36m \u001b[0m\u001b[34mINFO    \u001b[0m Scraping game schedule for Saturday, Sep \u001b[1;36m16\u001b[0m \u001b[1;36m2023\u001b[0m                      \u001b]8;id=842328;file://C:\\Users\\HanifFurqonHidayat\\anaconda3\\lib\\site-packages\\soccerdata\\whoscored.py\u001b\\\u001b[2mwhoscored.py\u001b[0m\u001b]8;;\u001b\\\u001b[2m:\u001b[0m\u001b]8;id=829045;file://C:\\Users\\HanifFurqonHidayat\\anaconda3\\lib\\site-packages\\soccerdata\\whoscored.py#327\u001b\\\u001b[2m327\u001b[0m\u001b]8;;\u001b\\\n"
      ]
     },
     "metadata": {},
     "output_type": "display_data"
    },
    {
     "data": {
      "text/html": [
       "<pre style=\"white-space:pre;overflow-x:auto;line-height:normal;font-family:Menlo,'DejaVu Sans Mono',consolas,'Courier New',monospace\"><span style=\"color: #7fbfbf; text-decoration-color: #7fbfbf\">                    </span><span style=\"color: #000080; text-decoration-color: #000080\">INFO    </span> Scraping game schedule for Sunday, Sep <span style=\"color: #008080; text-decoration-color: #008080; font-weight: bold\">17</span> <span style=\"color: #008080; text-decoration-color: #008080; font-weight: bold\">2023</span>                        <a href=\"file://C:\\Users\\HanifFurqonHidayat\\anaconda3\\lib\\site-packages\\soccerdata\\whoscored.py\" target=\"_blank\"><span style=\"color: #7f7f7f; text-decoration-color: #7f7f7f\">whoscored.py</span></a><span style=\"color: #7f7f7f; text-decoration-color: #7f7f7f\">:</span><a href=\"file://C:\\Users\\HanifFurqonHidayat\\anaconda3\\lib\\site-packages\\soccerdata\\whoscored.py#327\" target=\"_blank\"><span style=\"color: #7f7f7f; text-decoration-color: #7f7f7f\">327</span></a>\n",
       "</pre>\n"
      ],
      "text/plain": [
       "\u001b[2;36m                   \u001b[0m\u001b[2;36m \u001b[0m\u001b[34mINFO    \u001b[0m Scraping game schedule for Sunday, Sep \u001b[1;36m17\u001b[0m \u001b[1;36m2023\u001b[0m                        \u001b]8;id=32380;file://C:\\Users\\HanifFurqonHidayat\\anaconda3\\lib\\site-packages\\soccerdata\\whoscored.py\u001b\\\u001b[2mwhoscored.py\u001b[0m\u001b]8;;\u001b\\\u001b[2m:\u001b[0m\u001b]8;id=512915;file://C:\\Users\\HanifFurqonHidayat\\anaconda3\\lib\\site-packages\\soccerdata\\whoscored.py#327\u001b\\\u001b[2m327\u001b[0m\u001b]8;;\u001b\\\n"
      ]
     },
     "metadata": {},
     "output_type": "display_data"
    },
    {
     "data": {
      "text/html": [
       "<pre style=\"white-space:pre;overflow-x:auto;line-height:normal;font-family:Menlo,'DejaVu Sans Mono',consolas,'Courier New',monospace\"><span style=\"color: #7fbfbf; text-decoration-color: #7fbfbf\">                    </span><span style=\"color: #000080; text-decoration-color: #000080\">INFO    </span> Scraping game schedule for Monday, Sep <span style=\"color: #008080; text-decoration-color: #008080; font-weight: bold\">18</span> <span style=\"color: #008080; text-decoration-color: #008080; font-weight: bold\">2023</span>                        <a href=\"file://C:\\Users\\HanifFurqonHidayat\\anaconda3\\lib\\site-packages\\soccerdata\\whoscored.py\" target=\"_blank\"><span style=\"color: #7f7f7f; text-decoration-color: #7f7f7f\">whoscored.py</span></a><span style=\"color: #7f7f7f; text-decoration-color: #7f7f7f\">:</span><a href=\"file://C:\\Users\\HanifFurqonHidayat\\anaconda3\\lib\\site-packages\\soccerdata\\whoscored.py#327\" target=\"_blank\"><span style=\"color: #7f7f7f; text-decoration-color: #7f7f7f\">327</span></a>\n",
       "</pre>\n"
      ],
      "text/plain": [
       "\u001b[2;36m                   \u001b[0m\u001b[2;36m \u001b[0m\u001b[34mINFO    \u001b[0m Scraping game schedule for Monday, Sep \u001b[1;36m18\u001b[0m \u001b[1;36m2023\u001b[0m                        \u001b]8;id=543014;file://C:\\Users\\HanifFurqonHidayat\\anaconda3\\lib\\site-packages\\soccerdata\\whoscored.py\u001b\\\u001b[2mwhoscored.py\u001b[0m\u001b]8;;\u001b\\\u001b[2m:\u001b[0m\u001b]8;id=858990;file://C:\\Users\\HanifFurqonHidayat\\anaconda3\\lib\\site-packages\\soccerdata\\whoscored.py#327\u001b\\\u001b[2m327\u001b[0m\u001b]8;;\u001b\\\n"
      ]
     },
     "metadata": {},
     "output_type": "display_data"
    },
    {
     "data": {
      "text/html": [
       "<pre style=\"white-space:pre;overflow-x:auto;line-height:normal;font-family:Menlo,'DejaVu Sans Mono',consolas,'Courier New',monospace\"><span style=\"color: #7fbfbf; text-decoration-color: #7fbfbf\">                    </span><span style=\"color: #000080; text-decoration-color: #000080\">INFO    </span> Scraping game schedule for Saturday, Sep <span style=\"color: #008080; text-decoration-color: #008080; font-weight: bold\">23</span> <span style=\"color: #008080; text-decoration-color: #008080; font-weight: bold\">2023</span>                      <a href=\"file://C:\\Users\\HanifFurqonHidayat\\anaconda3\\lib\\site-packages\\soccerdata\\whoscored.py\" target=\"_blank\"><span style=\"color: #7f7f7f; text-decoration-color: #7f7f7f\">whoscored.py</span></a><span style=\"color: #7f7f7f; text-decoration-color: #7f7f7f\">:</span><a href=\"file://C:\\Users\\HanifFurqonHidayat\\anaconda3\\lib\\site-packages\\soccerdata\\whoscored.py#327\" target=\"_blank\"><span style=\"color: #7f7f7f; text-decoration-color: #7f7f7f\">327</span></a>\n",
       "</pre>\n"
      ],
      "text/plain": [
       "\u001b[2;36m                   \u001b[0m\u001b[2;36m \u001b[0m\u001b[34mINFO    \u001b[0m Scraping game schedule for Saturday, Sep \u001b[1;36m23\u001b[0m \u001b[1;36m2023\u001b[0m                      \u001b]8;id=679087;file://C:\\Users\\HanifFurqonHidayat\\anaconda3\\lib\\site-packages\\soccerdata\\whoscored.py\u001b\\\u001b[2mwhoscored.py\u001b[0m\u001b]8;;\u001b\\\u001b[2m:\u001b[0m\u001b]8;id=795388;file://C:\\Users\\HanifFurqonHidayat\\anaconda3\\lib\\site-packages\\soccerdata\\whoscored.py#327\u001b\\\u001b[2m327\u001b[0m\u001b]8;;\u001b\\\n"
      ]
     },
     "metadata": {},
     "output_type": "display_data"
    },
    {
     "data": {
      "text/html": [
       "<pre style=\"white-space:pre;overflow-x:auto;line-height:normal;font-family:Menlo,'DejaVu Sans Mono',consolas,'Courier New',monospace\"><span style=\"color: #7fbfbf; text-decoration-color: #7fbfbf\">[09/04/23 10:53:09] </span><span style=\"color: #000080; text-decoration-color: #000080\">INFO    </span> Scraping game schedule for Sunday, Sep <span style=\"color: #008080; text-decoration-color: #008080; font-weight: bold\">24</span> <span style=\"color: #008080; text-decoration-color: #008080; font-weight: bold\">2023</span>                        <a href=\"file://C:\\Users\\HanifFurqonHidayat\\anaconda3\\lib\\site-packages\\soccerdata\\whoscored.py\" target=\"_blank\"><span style=\"color: #7f7f7f; text-decoration-color: #7f7f7f\">whoscored.py</span></a><span style=\"color: #7f7f7f; text-decoration-color: #7f7f7f\">:</span><a href=\"file://C:\\Users\\HanifFurqonHidayat\\anaconda3\\lib\\site-packages\\soccerdata\\whoscored.py#327\" target=\"_blank\"><span style=\"color: #7f7f7f; text-decoration-color: #7f7f7f\">327</span></a>\n",
       "</pre>\n"
      ],
      "text/plain": [
       "\u001b[2;36m[09/04/23 10:53:09]\u001b[0m\u001b[2;36m \u001b[0m\u001b[34mINFO    \u001b[0m Scraping game schedule for Sunday, Sep \u001b[1;36m24\u001b[0m \u001b[1;36m2023\u001b[0m                        \u001b]8;id=390095;file://C:\\Users\\HanifFurqonHidayat\\anaconda3\\lib\\site-packages\\soccerdata\\whoscored.py\u001b\\\u001b[2mwhoscored.py\u001b[0m\u001b]8;;\u001b\\\u001b[2m:\u001b[0m\u001b]8;id=325660;file://C:\\Users\\HanifFurqonHidayat\\anaconda3\\lib\\site-packages\\soccerdata\\whoscored.py#327\u001b\\\u001b[2m327\u001b[0m\u001b]8;;\u001b\\\n"
      ]
     },
     "metadata": {},
     "output_type": "display_data"
    },
    {
     "data": {
      "text/html": [
       "<pre style=\"white-space:pre;overflow-x:auto;line-height:normal;font-family:Menlo,'DejaVu Sans Mono',consolas,'Courier New',monospace\"><span style=\"color: #7fbfbf; text-decoration-color: #7fbfbf\">                    </span><span style=\"color: #000080; text-decoration-color: #000080\">INFO    </span> Scraping game schedule for Saturday, Sep <span style=\"color: #008080; text-decoration-color: #008080; font-weight: bold\">30</span> <span style=\"color: #008080; text-decoration-color: #008080; font-weight: bold\">2023</span>                      <a href=\"file://C:\\Users\\HanifFurqonHidayat\\anaconda3\\lib\\site-packages\\soccerdata\\whoscored.py\" target=\"_blank\"><span style=\"color: #7f7f7f; text-decoration-color: #7f7f7f\">whoscored.py</span></a><span style=\"color: #7f7f7f; text-decoration-color: #7f7f7f\">:</span><a href=\"file://C:\\Users\\HanifFurqonHidayat\\anaconda3\\lib\\site-packages\\soccerdata\\whoscored.py#327\" target=\"_blank\"><span style=\"color: #7f7f7f; text-decoration-color: #7f7f7f\">327</span></a>\n",
       "</pre>\n"
      ],
      "text/plain": [
       "\u001b[2;36m                   \u001b[0m\u001b[2;36m \u001b[0m\u001b[34mINFO    \u001b[0m Scraping game schedule for Saturday, Sep \u001b[1;36m30\u001b[0m \u001b[1;36m2023\u001b[0m                      \u001b]8;id=403375;file://C:\\Users\\HanifFurqonHidayat\\anaconda3\\lib\\site-packages\\soccerdata\\whoscored.py\u001b\\\u001b[2mwhoscored.py\u001b[0m\u001b]8;;\u001b\\\u001b[2m:\u001b[0m\u001b]8;id=534789;file://C:\\Users\\HanifFurqonHidayat\\anaconda3\\lib\\site-packages\\soccerdata\\whoscored.py#327\u001b\\\u001b[2m327\u001b[0m\u001b]8;;\u001b\\\n"
      ]
     },
     "metadata": {},
     "output_type": "display_data"
    },
    {
     "data": {
      "text/html": [
       "<pre style=\"white-space:pre;overflow-x:auto;line-height:normal;font-family:Menlo,'DejaVu Sans Mono',consolas,'Courier New',monospace\"><span style=\"color: #7fbfbf; text-decoration-color: #7fbfbf\">[09/04/23 10:53:15] </span><span style=\"color: #000080; text-decoration-color: #000080\">INFO    </span> Scraping game schedule for Friday, Aug <span style=\"color: #008080; text-decoration-color: #008080; font-weight: bold\">11</span> <span style=\"color: #008080; text-decoration-color: #008080; font-weight: bold\">2023</span>                        <a href=\"file://C:\\Users\\HanifFurqonHidayat\\anaconda3\\lib\\site-packages\\soccerdata\\whoscored.py\" target=\"_blank\"><span style=\"color: #7f7f7f; text-decoration-color: #7f7f7f\">whoscored.py</span></a><span style=\"color: #7f7f7f; text-decoration-color: #7f7f7f\">:</span><a href=\"file://C:\\Users\\HanifFurqonHidayat\\anaconda3\\lib\\site-packages\\soccerdata\\whoscored.py#327\" target=\"_blank\"><span style=\"color: #7f7f7f; text-decoration-color: #7f7f7f\">327</span></a>\n",
       "</pre>\n"
      ],
      "text/plain": [
       "\u001b[2;36m[09/04/23 10:53:15]\u001b[0m\u001b[2;36m \u001b[0m\u001b[34mINFO    \u001b[0m Scraping game schedule for Friday, Aug \u001b[1;36m11\u001b[0m \u001b[1;36m2023\u001b[0m                        \u001b]8;id=928828;file://C:\\Users\\HanifFurqonHidayat\\anaconda3\\lib\\site-packages\\soccerdata\\whoscored.py\u001b\\\u001b[2mwhoscored.py\u001b[0m\u001b]8;;\u001b\\\u001b[2m:\u001b[0m\u001b]8;id=735058;file://C:\\Users\\HanifFurqonHidayat\\anaconda3\\lib\\site-packages\\soccerdata\\whoscored.py#327\u001b\\\u001b[2m327\u001b[0m\u001b]8;;\u001b\\\n"
      ]
     },
     "metadata": {},
     "output_type": "display_data"
    },
    {
     "data": {
      "text/html": [
       "<pre style=\"white-space:pre;overflow-x:auto;line-height:normal;font-family:Menlo,'DejaVu Sans Mono',consolas,'Courier New',monospace\"><span style=\"color: #7fbfbf; text-decoration-color: #7fbfbf\">                    </span><span style=\"color: #000080; text-decoration-color: #000080\">INFO    </span> Scraping game schedule for Saturday, Aug <span style=\"color: #008080; text-decoration-color: #008080; font-weight: bold\">12</span> <span style=\"color: #008080; text-decoration-color: #008080; font-weight: bold\">2023</span>                      <a href=\"file://C:\\Users\\HanifFurqonHidayat\\anaconda3\\lib\\site-packages\\soccerdata\\whoscored.py\" target=\"_blank\"><span style=\"color: #7f7f7f; text-decoration-color: #7f7f7f\">whoscored.py</span></a><span style=\"color: #7f7f7f; text-decoration-color: #7f7f7f\">:</span><a href=\"file://C:\\Users\\HanifFurqonHidayat\\anaconda3\\lib\\site-packages\\soccerdata\\whoscored.py#327\" target=\"_blank\"><span style=\"color: #7f7f7f; text-decoration-color: #7f7f7f\">327</span></a>\n",
       "</pre>\n"
      ],
      "text/plain": [
       "\u001b[2;36m                   \u001b[0m\u001b[2;36m \u001b[0m\u001b[34mINFO    \u001b[0m Scraping game schedule for Saturday, Aug \u001b[1;36m12\u001b[0m \u001b[1;36m2023\u001b[0m                      \u001b]8;id=81005;file://C:\\Users\\HanifFurqonHidayat\\anaconda3\\lib\\site-packages\\soccerdata\\whoscored.py\u001b\\\u001b[2mwhoscored.py\u001b[0m\u001b]8;;\u001b\\\u001b[2m:\u001b[0m\u001b]8;id=454432;file://C:\\Users\\HanifFurqonHidayat\\anaconda3\\lib\\site-packages\\soccerdata\\whoscored.py#327\u001b\\\u001b[2m327\u001b[0m\u001b]8;;\u001b\\\n"
      ]
     },
     "metadata": {},
     "output_type": "display_data"
    },
    {
     "data": {
      "text/html": [
       "<pre style=\"white-space:pre;overflow-x:auto;line-height:normal;font-family:Menlo,'DejaVu Sans Mono',consolas,'Courier New',monospace\"><span style=\"color: #7fbfbf; text-decoration-color: #7fbfbf\">                    </span><span style=\"color: #000080; text-decoration-color: #000080\">INFO    </span> Scraping game schedule for Sunday, Aug <span style=\"color: #008080; text-decoration-color: #008080; font-weight: bold\">13</span> <span style=\"color: #008080; text-decoration-color: #008080; font-weight: bold\">2023</span>                        <a href=\"file://C:\\Users\\HanifFurqonHidayat\\anaconda3\\lib\\site-packages\\soccerdata\\whoscored.py\" target=\"_blank\"><span style=\"color: #7f7f7f; text-decoration-color: #7f7f7f\">whoscored.py</span></a><span style=\"color: #7f7f7f; text-decoration-color: #7f7f7f\">:</span><a href=\"file://C:\\Users\\HanifFurqonHidayat\\anaconda3\\lib\\site-packages\\soccerdata\\whoscored.py#327\" target=\"_blank\"><span style=\"color: #7f7f7f; text-decoration-color: #7f7f7f\">327</span></a>\n",
       "</pre>\n"
      ],
      "text/plain": [
       "\u001b[2;36m                   \u001b[0m\u001b[2;36m \u001b[0m\u001b[34mINFO    \u001b[0m Scraping game schedule for Sunday, Aug \u001b[1;36m13\u001b[0m \u001b[1;36m2023\u001b[0m                        \u001b]8;id=740637;file://C:\\Users\\HanifFurqonHidayat\\anaconda3\\lib\\site-packages\\soccerdata\\whoscored.py\u001b\\\u001b[2mwhoscored.py\u001b[0m\u001b]8;;\u001b\\\u001b[2m:\u001b[0m\u001b]8;id=854366;file://C:\\Users\\HanifFurqonHidayat\\anaconda3\\lib\\site-packages\\soccerdata\\whoscored.py#327\u001b\\\u001b[2m327\u001b[0m\u001b]8;;\u001b\\\n"
      ]
     },
     "metadata": {},
     "output_type": "display_data"
    },
    {
     "data": {
      "text/html": [
       "<pre style=\"white-space:pre;overflow-x:auto;line-height:normal;font-family:Menlo,'DejaVu Sans Mono',consolas,'Courier New',monospace\"><span style=\"color: #7fbfbf; text-decoration-color: #7fbfbf\">                    </span><span style=\"color: #000080; text-decoration-color: #000080\">INFO    </span> Scraping game schedule for Monday, Aug <span style=\"color: #008080; text-decoration-color: #008080; font-weight: bold\">14</span> <span style=\"color: #008080; text-decoration-color: #008080; font-weight: bold\">2023</span>                        <a href=\"file://C:\\Users\\HanifFurqonHidayat\\anaconda3\\lib\\site-packages\\soccerdata\\whoscored.py\" target=\"_blank\"><span style=\"color: #7f7f7f; text-decoration-color: #7f7f7f\">whoscored.py</span></a><span style=\"color: #7f7f7f; text-decoration-color: #7f7f7f\">:</span><a href=\"file://C:\\Users\\HanifFurqonHidayat\\anaconda3\\lib\\site-packages\\soccerdata\\whoscored.py#327\" target=\"_blank\"><span style=\"color: #7f7f7f; text-decoration-color: #7f7f7f\">327</span></a>\n",
       "</pre>\n"
      ],
      "text/plain": [
       "\u001b[2;36m                   \u001b[0m\u001b[2;36m \u001b[0m\u001b[34mINFO    \u001b[0m Scraping game schedule for Monday, Aug \u001b[1;36m14\u001b[0m \u001b[1;36m2023\u001b[0m                        \u001b]8;id=742855;file://C:\\Users\\HanifFurqonHidayat\\anaconda3\\lib\\site-packages\\soccerdata\\whoscored.py\u001b\\\u001b[2mwhoscored.py\u001b[0m\u001b]8;;\u001b\\\u001b[2m:\u001b[0m\u001b]8;id=738556;file://C:\\Users\\HanifFurqonHidayat\\anaconda3\\lib\\site-packages\\soccerdata\\whoscored.py#327\u001b\\\u001b[2m327\u001b[0m\u001b]8;;\u001b\\\n"
      ]
     },
     "metadata": {},
     "output_type": "display_data"
    },
    {
     "data": {
      "text/html": [
       "<pre style=\"white-space:pre;overflow-x:auto;line-height:normal;font-family:Menlo,'DejaVu Sans Mono',consolas,'Courier New',monospace\"><span style=\"color: #7fbfbf; text-decoration-color: #7fbfbf\">                    </span><span style=\"color: #000080; text-decoration-color: #000080\">INFO    </span> Scraping game schedule for Friday, Aug <span style=\"color: #008080; text-decoration-color: #008080; font-weight: bold\">18</span> <span style=\"color: #008080; text-decoration-color: #008080; font-weight: bold\">2023</span>                        <a href=\"file://C:\\Users\\HanifFurqonHidayat\\anaconda3\\lib\\site-packages\\soccerdata\\whoscored.py\" target=\"_blank\"><span style=\"color: #7f7f7f; text-decoration-color: #7f7f7f\">whoscored.py</span></a><span style=\"color: #7f7f7f; text-decoration-color: #7f7f7f\">:</span><a href=\"file://C:\\Users\\HanifFurqonHidayat\\anaconda3\\lib\\site-packages\\soccerdata\\whoscored.py#327\" target=\"_blank\"><span style=\"color: #7f7f7f; text-decoration-color: #7f7f7f\">327</span></a>\n",
       "</pre>\n"
      ],
      "text/plain": [
       "\u001b[2;36m                   \u001b[0m\u001b[2;36m \u001b[0m\u001b[34mINFO    \u001b[0m Scraping game schedule for Friday, Aug \u001b[1;36m18\u001b[0m \u001b[1;36m2023\u001b[0m                        \u001b]8;id=736864;file://C:\\Users\\HanifFurqonHidayat\\anaconda3\\lib\\site-packages\\soccerdata\\whoscored.py\u001b\\\u001b[2mwhoscored.py\u001b[0m\u001b]8;;\u001b\\\u001b[2m:\u001b[0m\u001b]8;id=261309;file://C:\\Users\\HanifFurqonHidayat\\anaconda3\\lib\\site-packages\\soccerdata\\whoscored.py#327\u001b\\\u001b[2m327\u001b[0m\u001b]8;;\u001b\\\n"
      ]
     },
     "metadata": {},
     "output_type": "display_data"
    },
    {
     "data": {
      "text/html": [
       "<pre style=\"white-space:pre;overflow-x:auto;line-height:normal;font-family:Menlo,'DejaVu Sans Mono',consolas,'Courier New',monospace\"><span style=\"color: #7fbfbf; text-decoration-color: #7fbfbf\">                    </span><span style=\"color: #000080; text-decoration-color: #000080\">INFO    </span> Scraping game schedule for Saturday, Aug <span style=\"color: #008080; text-decoration-color: #008080; font-weight: bold\">19</span> <span style=\"color: #008080; text-decoration-color: #008080; font-weight: bold\">2023</span>                      <a href=\"file://C:\\Users\\HanifFurqonHidayat\\anaconda3\\lib\\site-packages\\soccerdata\\whoscored.py\" target=\"_blank\"><span style=\"color: #7f7f7f; text-decoration-color: #7f7f7f\">whoscored.py</span></a><span style=\"color: #7f7f7f; text-decoration-color: #7f7f7f\">:</span><a href=\"file://C:\\Users\\HanifFurqonHidayat\\anaconda3\\lib\\site-packages\\soccerdata\\whoscored.py#327\" target=\"_blank\"><span style=\"color: #7f7f7f; text-decoration-color: #7f7f7f\">327</span></a>\n",
       "</pre>\n"
      ],
      "text/plain": [
       "\u001b[2;36m                   \u001b[0m\u001b[2;36m \u001b[0m\u001b[34mINFO    \u001b[0m Scraping game schedule for Saturday, Aug \u001b[1;36m19\u001b[0m \u001b[1;36m2023\u001b[0m                      \u001b]8;id=88275;file://C:\\Users\\HanifFurqonHidayat\\anaconda3\\lib\\site-packages\\soccerdata\\whoscored.py\u001b\\\u001b[2mwhoscored.py\u001b[0m\u001b]8;;\u001b\\\u001b[2m:\u001b[0m\u001b]8;id=565953;file://C:\\Users\\HanifFurqonHidayat\\anaconda3\\lib\\site-packages\\soccerdata\\whoscored.py#327\u001b\\\u001b[2m327\u001b[0m\u001b]8;;\u001b\\\n"
      ]
     },
     "metadata": {},
     "output_type": "display_data"
    },
    {
     "data": {
      "text/html": [
       "<pre style=\"white-space:pre;overflow-x:auto;line-height:normal;font-family:Menlo,'DejaVu Sans Mono',consolas,'Courier New',monospace\"><span style=\"color: #7fbfbf; text-decoration-color: #7fbfbf\">[09/04/23 10:53:16] </span><span style=\"color: #000080; text-decoration-color: #000080\">INFO    </span> Scraping game schedule for Sunday, Aug <span style=\"color: #008080; text-decoration-color: #008080; font-weight: bold\">20</span> <span style=\"color: #008080; text-decoration-color: #008080; font-weight: bold\">2023</span>                        <a href=\"file://C:\\Users\\HanifFurqonHidayat\\anaconda3\\lib\\site-packages\\soccerdata\\whoscored.py\" target=\"_blank\"><span style=\"color: #7f7f7f; text-decoration-color: #7f7f7f\">whoscored.py</span></a><span style=\"color: #7f7f7f; text-decoration-color: #7f7f7f\">:</span><a href=\"file://C:\\Users\\HanifFurqonHidayat\\anaconda3\\lib\\site-packages\\soccerdata\\whoscored.py#327\" target=\"_blank\"><span style=\"color: #7f7f7f; text-decoration-color: #7f7f7f\">327</span></a>\n",
       "</pre>\n"
      ],
      "text/plain": [
       "\u001b[2;36m[09/04/23 10:53:16]\u001b[0m\u001b[2;36m \u001b[0m\u001b[34mINFO    \u001b[0m Scraping game schedule for Sunday, Aug \u001b[1;36m20\u001b[0m \u001b[1;36m2023\u001b[0m                        \u001b]8;id=742856;file://C:\\Users\\HanifFurqonHidayat\\anaconda3\\lib\\site-packages\\soccerdata\\whoscored.py\u001b\\\u001b[2mwhoscored.py\u001b[0m\u001b]8;;\u001b\\\u001b[2m:\u001b[0m\u001b]8;id=629709;file://C:\\Users\\HanifFurqonHidayat\\anaconda3\\lib\\site-packages\\soccerdata\\whoscored.py#327\u001b\\\u001b[2m327\u001b[0m\u001b]8;;\u001b\\\n"
      ]
     },
     "metadata": {},
     "output_type": "display_data"
    },
    {
     "data": {
      "text/html": [
       "<pre style=\"white-space:pre;overflow-x:auto;line-height:normal;font-family:Menlo,'DejaVu Sans Mono',consolas,'Courier New',monospace\"><span style=\"color: #7fbfbf; text-decoration-color: #7fbfbf\">                    </span><span style=\"color: #000080; text-decoration-color: #000080\">INFO    </span> Scraping game schedule for Monday, Aug <span style=\"color: #008080; text-decoration-color: #008080; font-weight: bold\">21</span> <span style=\"color: #008080; text-decoration-color: #008080; font-weight: bold\">2023</span>                        <a href=\"file://C:\\Users\\HanifFurqonHidayat\\anaconda3\\lib\\site-packages\\soccerdata\\whoscored.py\" target=\"_blank\"><span style=\"color: #7f7f7f; text-decoration-color: #7f7f7f\">whoscored.py</span></a><span style=\"color: #7f7f7f; text-decoration-color: #7f7f7f\">:</span><a href=\"file://C:\\Users\\HanifFurqonHidayat\\anaconda3\\lib\\site-packages\\soccerdata\\whoscored.py#327\" target=\"_blank\"><span style=\"color: #7f7f7f; text-decoration-color: #7f7f7f\">327</span></a>\n",
       "</pre>\n"
      ],
      "text/plain": [
       "\u001b[2;36m                   \u001b[0m\u001b[2;36m \u001b[0m\u001b[34mINFO    \u001b[0m Scraping game schedule for Monday, Aug \u001b[1;36m21\u001b[0m \u001b[1;36m2023\u001b[0m                        \u001b]8;id=587997;file://C:\\Users\\HanifFurqonHidayat\\anaconda3\\lib\\site-packages\\soccerdata\\whoscored.py\u001b\\\u001b[2mwhoscored.py\u001b[0m\u001b]8;;\u001b\\\u001b[2m:\u001b[0m\u001b]8;id=489637;file://C:\\Users\\HanifFurqonHidayat\\anaconda3\\lib\\site-packages\\soccerdata\\whoscored.py#327\u001b\\\u001b[2m327\u001b[0m\u001b]8;;\u001b\\\n"
      ]
     },
     "metadata": {},
     "output_type": "display_data"
    },
    {
     "data": {
      "text/html": [
       "<pre style=\"white-space:pre;overflow-x:auto;line-height:normal;font-family:Menlo,'DejaVu Sans Mono',consolas,'Courier New',monospace\"><span style=\"color: #7fbfbf; text-decoration-color: #7fbfbf\">                    </span><span style=\"color: #000080; text-decoration-color: #000080\">INFO    </span> Scraping game schedule for Friday, Aug <span style=\"color: #008080; text-decoration-color: #008080; font-weight: bold\">25</span> <span style=\"color: #008080; text-decoration-color: #008080; font-weight: bold\">2023</span>                        <a href=\"file://C:\\Users\\HanifFurqonHidayat\\anaconda3\\lib\\site-packages\\soccerdata\\whoscored.py\" target=\"_blank\"><span style=\"color: #7f7f7f; text-decoration-color: #7f7f7f\">whoscored.py</span></a><span style=\"color: #7f7f7f; text-decoration-color: #7f7f7f\">:</span><a href=\"file://C:\\Users\\HanifFurqonHidayat\\anaconda3\\lib\\site-packages\\soccerdata\\whoscored.py#327\" target=\"_blank\"><span style=\"color: #7f7f7f; text-decoration-color: #7f7f7f\">327</span></a>\n",
       "</pre>\n"
      ],
      "text/plain": [
       "\u001b[2;36m                   \u001b[0m\u001b[2;36m \u001b[0m\u001b[34mINFO    \u001b[0m Scraping game schedule for Friday, Aug \u001b[1;36m25\u001b[0m \u001b[1;36m2023\u001b[0m                        \u001b]8;id=592374;file://C:\\Users\\HanifFurqonHidayat\\anaconda3\\lib\\site-packages\\soccerdata\\whoscored.py\u001b\\\u001b[2mwhoscored.py\u001b[0m\u001b]8;;\u001b\\\u001b[2m:\u001b[0m\u001b]8;id=725337;file://C:\\Users\\HanifFurqonHidayat\\anaconda3\\lib\\site-packages\\soccerdata\\whoscored.py#327\u001b\\\u001b[2m327\u001b[0m\u001b]8;;\u001b\\\n"
      ]
     },
     "metadata": {},
     "output_type": "display_data"
    },
    {
     "data": {
      "text/html": [
       "<pre style=\"white-space:pre;overflow-x:auto;line-height:normal;font-family:Menlo,'DejaVu Sans Mono',consolas,'Courier New',monospace\"><span style=\"color: #7fbfbf; text-decoration-color: #7fbfbf\">                    </span><span style=\"color: #000080; text-decoration-color: #000080\">INFO    </span> Scraping game schedule for Saturday, Aug <span style=\"color: #008080; text-decoration-color: #008080; font-weight: bold\">26</span> <span style=\"color: #008080; text-decoration-color: #008080; font-weight: bold\">2023</span>                      <a href=\"file://C:\\Users\\HanifFurqonHidayat\\anaconda3\\lib\\site-packages\\soccerdata\\whoscored.py\" target=\"_blank\"><span style=\"color: #7f7f7f; text-decoration-color: #7f7f7f\">whoscored.py</span></a><span style=\"color: #7f7f7f; text-decoration-color: #7f7f7f\">:</span><a href=\"file://C:\\Users\\HanifFurqonHidayat\\anaconda3\\lib\\site-packages\\soccerdata\\whoscored.py#327\" target=\"_blank\"><span style=\"color: #7f7f7f; text-decoration-color: #7f7f7f\">327</span></a>\n",
       "</pre>\n"
      ],
      "text/plain": [
       "\u001b[2;36m                   \u001b[0m\u001b[2;36m \u001b[0m\u001b[34mINFO    \u001b[0m Scraping game schedule for Saturday, Aug \u001b[1;36m26\u001b[0m \u001b[1;36m2023\u001b[0m                      \u001b]8;id=402463;file://C:\\Users\\HanifFurqonHidayat\\anaconda3\\lib\\site-packages\\soccerdata\\whoscored.py\u001b\\\u001b[2mwhoscored.py\u001b[0m\u001b]8;;\u001b\\\u001b[2m:\u001b[0m\u001b]8;id=338455;file://C:\\Users\\HanifFurqonHidayat\\anaconda3\\lib\\site-packages\\soccerdata\\whoscored.py#327\u001b\\\u001b[2m327\u001b[0m\u001b]8;;\u001b\\\n"
      ]
     },
     "metadata": {},
     "output_type": "display_data"
    },
    {
     "data": {
      "text/html": [
       "<pre style=\"white-space:pre;overflow-x:auto;line-height:normal;font-family:Menlo,'DejaVu Sans Mono',consolas,'Courier New',monospace\"><span style=\"color: #7fbfbf; text-decoration-color: #7fbfbf\">[09/04/23 10:53:17] </span><span style=\"color: #000080; text-decoration-color: #000080\">INFO    </span> Scraping game schedule for Sunday, Aug <span style=\"color: #008080; text-decoration-color: #008080; font-weight: bold\">27</span> <span style=\"color: #008080; text-decoration-color: #008080; font-weight: bold\">2023</span>                        <a href=\"file://C:\\Users\\HanifFurqonHidayat\\anaconda3\\lib\\site-packages\\soccerdata\\whoscored.py\" target=\"_blank\"><span style=\"color: #7f7f7f; text-decoration-color: #7f7f7f\">whoscored.py</span></a><span style=\"color: #7f7f7f; text-decoration-color: #7f7f7f\">:</span><a href=\"file://C:\\Users\\HanifFurqonHidayat\\anaconda3\\lib\\site-packages\\soccerdata\\whoscored.py#327\" target=\"_blank\"><span style=\"color: #7f7f7f; text-decoration-color: #7f7f7f\">327</span></a>\n",
       "</pre>\n"
      ],
      "text/plain": [
       "\u001b[2;36m[09/04/23 10:53:17]\u001b[0m\u001b[2;36m \u001b[0m\u001b[34mINFO    \u001b[0m Scraping game schedule for Sunday, Aug \u001b[1;36m27\u001b[0m \u001b[1;36m2023\u001b[0m                        \u001b]8;id=271942;file://C:\\Users\\HanifFurqonHidayat\\anaconda3\\lib\\site-packages\\soccerdata\\whoscored.py\u001b\\\u001b[2mwhoscored.py\u001b[0m\u001b]8;;\u001b\\\u001b[2m:\u001b[0m\u001b]8;id=234748;file://C:\\Users\\HanifFurqonHidayat\\anaconda3\\lib\\site-packages\\soccerdata\\whoscored.py#327\u001b\\\u001b[2m327\u001b[0m\u001b]8;;\u001b\\\n"
      ]
     },
     "metadata": {},
     "output_type": "display_data"
    },
    {
     "data": {
      "text/html": [
       "<pre style=\"white-space:pre;overflow-x:auto;line-height:normal;font-family:Menlo,'DejaVu Sans Mono',consolas,'Courier New',monospace\"><span style=\"color: #7fbfbf; text-decoration-color: #7fbfbf\">                    </span><span style=\"color: #000080; text-decoration-color: #000080\">INFO    </span> <span style=\"font-weight: bold\">[</span><span style=\"color: #008080; text-decoration-color: #008080; font-weight: bold\">1</span>/<span style=\"color: #008080; text-decoration-color: #008080; font-weight: bold\">1</span><span style=\"font-weight: bold\">]</span> Retrieving game with <span style=\"color: #808000; text-decoration-color: #808000\">id</span>=<span style=\"color: #008080; text-decoration-color: #008080; font-weight: bold\">1729265</span>                                 <a href=\"file://C:\\Users\\HanifFurqonHidayat\\anaconda3\\lib\\site-packages\\soccerdata\\whoscored.py\" target=\"_blank\"><span style=\"color: #7f7f7f; text-decoration-color: #7f7f7f\">whoscored.py</span></a><span style=\"color: #7f7f7f; text-decoration-color: #7f7f7f\">:</span><a href=\"file://C:\\Users\\HanifFurqonHidayat\\anaconda3\\lib\\site-packages\\soccerdata\\whoscored.py#693\" target=\"_blank\"><span style=\"color: #7f7f7f; text-decoration-color: #7f7f7f\">693</span></a>\n",
       "</pre>\n"
      ],
      "text/plain": [
       "\u001b[2;36m                   \u001b[0m\u001b[2;36m \u001b[0m\u001b[34mINFO    \u001b[0m \u001b[1m[\u001b[0m\u001b[1;36m1\u001b[0m/\u001b[1;36m1\u001b[0m\u001b[1m]\u001b[0m Retrieving game with \u001b[33mid\u001b[0m=\u001b[1;36m1729265\u001b[0m                                 \u001b]8;id=330143;file://C:\\Users\\HanifFurqonHidayat\\anaconda3\\lib\\site-packages\\soccerdata\\whoscored.py\u001b\\\u001b[2mwhoscored.py\u001b[0m\u001b]8;;\u001b\\\u001b[2m:\u001b[0m\u001b]8;id=16749;file://C:\\Users\\HanifFurqonHidayat\\anaconda3\\lib\\site-packages\\soccerdata\\whoscored.py#693\u001b\\\u001b[2m693\u001b[0m\u001b]8;;\u001b\\\n"
      ]
     },
     "metadata": {},
     "output_type": "display_data"
    }
   ],
   "source": [
    "# extract events in a game\n",
    "df_events = ws.read_events(match_id=sel_game, output_fmt='events')\n",
    "df_events = df_events.fillna(value=0)\n",
    "df_events = df_events.astype({'player_id': 'int64'})"
   ]
  },
  {
   "cell_type": "code",
   "execution_count": 10,
   "id": "d6620cad",
   "metadata": {},
   "outputs": [],
   "source": [
    "home_goals = len(df_events.loc[(df_events['type']=='Goal') & (df_events['team']==home_team)])\n",
    "away_goals = len(df_events.loc[(df_events['type']=='Goal') & (df_events['team']==away_team)])\n",
    "scoreboard = '{} {}-{} {}'.format(home_team, home_goals, away_goals, away_team)"
   ]
  },
  {
   "cell_type": "markdown",
   "id": "43c80372",
   "metadata": {},
   "source": [
    "# Processing Substitutions"
   ]
  },
  {
   "cell_type": "code",
   "execution_count": 13,
   "id": "7d30b36f",
   "metadata": {},
   "outputs": [],
   "source": [
    "# extract substitution events\n",
    "df_subs = df_events.loc[(df_events['type'] == 'SubstitutionOff') | (df_events['card_type'] == 'Red')]\n",
    "\n",
    "df_subs_home = df_subs[df_subs['team'] == home_team]\n",
    "df_subs_away = df_subs[df_subs['team'] == away_team]"
   ]
  },
  {
   "cell_type": "code",
   "execution_count": 14,
   "id": "b1837263",
   "metadata": {},
   "outputs": [],
   "source": [
    "# create array of subs minutes\n",
    "start_min = df_events.expanded_minute.min()\n",
    "end_min = df_events.expanded_minute.max()\n",
    "subs_home_min = df_subs_home.expanded_minute.unique()\n",
    "subs_away_min = df_subs_away.expanded_minute.unique()"
   ]
  },
  {
   "cell_type": "code",
   "execution_count": 15,
   "id": "49175efd",
   "metadata": {},
   "outputs": [],
   "source": [
    "# create dataframe for home subs timeline\n",
    "if len(subs_home_min) == 0:\n",
    "    subs_home_array = np.array([[start_min, end_min, end_min-start_min]])\n",
    "    df_home_min = pd.DataFrame(data=subs_home_array, columns=['min1', 'min2', 'dur'])\n",
    "    \n",
    "else:\n",
    "    for i in range(len(subs_home_min)+1):\n",
    "        if i == 0:\n",
    "            subs_home_array = np.array([[start_min, subs_home_min[i], subs_home_min[i]-start_min]])\n",
    "        elif i in range(1, len(subs_home_min)):\n",
    "            subs_home_array = np.append(subs_home_array, \n",
    "                                        [[subs_home_min[i-1], subs_home_min[i], subs_home_min[i]-subs_home_min[i-1]]], \n",
    "                                        axis=0)\n",
    "        elif i == len(subs_home_min):\n",
    "            subs_home_array = np.append(subs_home_array, \n",
    "                                        [[subs_home_min[i-1], end_min, end_min-subs_home_min[i-1]]], \n",
    "                                        axis=0)\n",
    "    df_home_min = pd.DataFrame(data=subs_home_array, columns=['min1', 'min2', 'dur'])\n",
    "            \n",
    "# create dataframe for away subs timeline\n",
    "if len(subs_away_min) == 0:\n",
    "    subs_away_array = np.array([[start_min, end_min, end_min-start_min]])\n",
    "    df_away_min = pd.DataFrame(data=subs_away_array, columns=['min1', 'min2', 'dur'])\n",
    "    \n",
    "else:\n",
    "    for i in range(len(subs_away_min)+1):\n",
    "        if i == 0:\n",
    "            subs_away_array = np.array([[start_min, subs_away_min[i], subs_away_min[i]-start_min]])\n",
    "        elif i in range(1, len(subs_away_min)):\n",
    "            subs_away_array = np.append(subs_away_array, \n",
    "                                        [[subs_away_min[i-1], subs_away_min[i], subs_away_min[i]-subs_away_min[i-1]]], \n",
    "                                        axis=0)\n",
    "        elif i == len(subs_away_min):\n",
    "            subs_away_array = np.append(subs_away_array, \n",
    "                                        [[subs_away_min[i-1], end_min, end_min-subs_away_min[i-1]]], \n",
    "                                        axis=0)\n",
    "    df_away_min = pd.DataFrame(data=subs_away_array, columns=['min1', 'min2', 'dur'])"
   ]
  },
  {
   "cell_type": "code",
   "execution_count": 16,
   "id": "131f2d1d",
   "metadata": {},
   "outputs": [],
   "source": [
    "# determine longest duration without subs for home team\n",
    "home_idx = df_home_min.dur.idxmax()\n",
    "home_min1 = df_home_min.min1[home_idx]\n",
    "home_min2 = df_home_min.min2[home_idx]\n",
    "\n",
    "# determine longest duration without subs for away team\n",
    "away_idx = df_away_min.dur.idxmax()\n",
    "away_min1 = df_away_min.min1[away_idx]\n",
    "away_min2 = df_away_min.min2[away_idx]"
   ]
  },
  {
   "cell_type": "markdown",
   "id": "b5046653",
   "metadata": {},
   "source": [
    "# Processing Pass Network Data"
   ]
  },
  {
   "cell_type": "code",
   "execution_count": 17,
   "id": "25c2cfd8",
   "metadata": {},
   "outputs": [],
   "source": [
    "# filter events to home team\n",
    "df_events_home = df_events.loc[(df_events['team']==home_team) & (df_events['x']!=0) &\n",
    "                               (df_events['expanded_minute']>home_min1) & (df_events['expanded_minute']<home_min2)]\n",
    "df_events_home = df_events_home.sort_values(by=['expanded_minute', 'second'], ignore_index=True)\n",
    "\n",
    "# filter events to away team\n",
    "df_events_away = df_events.loc[(df_events['team']==away_team) & (df_events['x']!=0) &\n",
    "                               (df_events['expanded_minute']>away_min1) & (df_events['expanded_minute']<away_min2)]\n",
    "df_events_away = df_events_away.sort_values(by=['expanded_minute', 'second'], ignore_index=True)"
   ]
  },
  {
   "cell_type": "code",
   "execution_count": 18,
   "id": "ca52bf0f",
   "metadata": {},
   "outputs": [],
   "source": [
    "# filter pass data for home team and sort by minutes\n",
    "df_pass_home = df_events.loc[(df_events['team']==home_team) & (df_events['type']=='Pass') \n",
    "                             & (df_events['expanded_minute']>=home_min1) & (df_events['expanded_minute']<=home_min2)]\n",
    "df_pass_home = df_pass_home.sort_values(by=['expanded_minute', 'second'], ignore_index=True)\n",
    "\n",
    "# filter pass data for away team and sort by minutes\n",
    "df_pass_away = df_events.loc[(df_events['team']==away_team) & (df_events['type']=='Pass') \n",
    "                             & (df_events['expanded_minute']>=away_min1) & (df_events['expanded_minute']<=away_min2)]\n",
    "df_pass_away = df_pass_away.sort_values(by=['expanded_minute', 'second'], ignore_index=True)"
   ]
  },
  {
   "cell_type": "code",
   "execution_count": 19,
   "id": "f3660212",
   "metadata": {},
   "outputs": [],
   "source": [
    "# add pass recipient for home team\n",
    "for i in range(len(df_pass_home)):\n",
    "    \n",
    "    if i == 0:\n",
    "        if df_pass_home.outcome_type[i] == 'Unsuccessful':\n",
    "            recipient_home = np.array([[0, 'None']])\n",
    "        if df_pass_home.outcome_type[i] == 'Successful':\n",
    "            recipient_home = np.array([[df_pass_home.player_id[i+1], df_pass_home.player[i+1]]])\n",
    "    \n",
    "    elif i < len(df_pass_home)-1:\n",
    "        if df_pass_home.outcome_type[i] == 'Unsuccessful':\n",
    "            recipient_home = np.append(recipient_home, [[0, 'None']], axis=0)\n",
    "        if df_pass_home.outcome_type[i] == 'Successful':\n",
    "            recipient_home = np.append(recipient_home, [[df_pass_home.player_id[i+1], df_pass_home.player[i+1]]], axis=0)\n",
    "            \n",
    "    elif i == len(df_pass_home)-1:\n",
    "        recipient_home = np.append(recipient_home, [[0, 'None']], axis=0)\n",
    "        \n",
    "df_pass_home_recipient = pd.DataFrame(recipient_home, columns=['recipient_id', 'recipient'])\n",
    "df_pass_home = pd.concat([df_pass_home, df_pass_home_recipient], axis=1)\n",
    "df_pass_home = df_pass_home.astype({'recipient_id': 'int64'})\n",
    "\n",
    "# add pass recipient for away team\n",
    "for i in range(len(df_pass_away)):\n",
    "    \n",
    "    if i == 0:\n",
    "        if df_pass_away.outcome_type[i] == 'Unsuccessful':\n",
    "            recipient_away = np.array([[0, 'None']])\n",
    "        if df_pass_away.outcome_type[i] == 'Successful':\n",
    "            recipient_away = np.array([[df_pass_away.player_id[i+1], df_pass_away.player[i+1]]])\n",
    "    \n",
    "    elif i < len(df_pass_away)-1:\n",
    "        if df_pass_away.outcome_type[i] == 'Unsuccessful':\n",
    "            recipient_away = np.append(recipient_away, [[0, 'None']], axis=0)\n",
    "        if df_pass_away.outcome_type[i] == 'Successful':\n",
    "            recipient_away = np.append(recipient_away, [[df_pass_away.player_id[i+1], df_pass_away.player[i+1]]], axis=0)\n",
    "            \n",
    "    elif i == len(df_pass_away)-1:\n",
    "        recipient_away = np.append(recipient_away, [[0, 'None']], axis=0)\n",
    "        \n",
    "df_pass_away_recipient = pd.DataFrame(recipient_away, columns=['recipient_id', 'recipient'])\n",
    "df_pass_away = pd.concat([df_pass_away, df_pass_away_recipient], axis=1)\n",
    "df_pass_away = df_pass_away.astype({'recipient_id': 'int64'})"
   ]
  },
  {
   "cell_type": "code",
   "execution_count": 20,
   "id": "362b7518",
   "metadata": {},
   "outputs": [],
   "source": [
    "# filter only successful passes by home team\n",
    "df_pass_complete_home = df_pass_home.loc[(df_pass_home['recipient']!='None')]\n",
    "\n",
    "# filter only successful passes by away team\n",
    "df_pass_complete_away = df_pass_away.loc[(df_pass_away['recipient']!='None')]"
   ]
  },
  {
   "cell_type": "code",
   "execution_count": 21,
   "id": "bbf60636",
   "metadata": {},
   "outputs": [],
   "source": [
    "# calculate average position of home team\n",
    "df_avg_home = df_events_home.groupby('player_id').agg({'x':['mean'], 'y':['mean', 'count']})\n",
    "df_avg_home.columns = ['x', 'y', 'count']\n",
    "df_avg_home = df_avg_home.reset_index()\n",
    "\n",
    "# calculate average position of away team\n",
    "df_avg_away = df_events_away.groupby('player_id').agg({'x':['mean'], 'y':['mean', 'count']})\n",
    "df_avg_away.columns = ['x', 'y', 'count']\n",
    "df_avg_away = df_avg_away.reset_index()"
   ]
  },
  {
   "cell_type": "code",
   "execution_count": 22,
   "id": "ea5bc59b",
   "metadata": {},
   "outputs": [],
   "source": [
    "# calculate pass route counts of home team\n",
    "df_pass_route_home = df_pass_complete_home.groupby(['player_id', 'recipient_id']).minute.count().reset_index()\n",
    "df_pass_route_home = df_pass_route_home.rename(columns = {'minute': 'count'})\n",
    "\n",
    "# calculate pass route counts of away team\n",
    "df_pass_route_away = df_pass_complete_away.groupby(['player_id', 'recipient_id']).minute.count().reset_index()\n",
    "df_pass_route_away = df_pass_route_away.rename(columns = {'minute': 'count'})"
   ]
  },
  {
   "cell_type": "code",
   "execution_count": 23,
   "id": "47862dda",
   "metadata": {},
   "outputs": [],
   "source": [
    "# create pass networks of home team\n",
    "df_pass_net_home = pd.merge(df_pass_route_home, df_avg_home, on='player_id', how='inner')\n",
    "df_pass_net_home = df_pass_net_home[['player_id', 'recipient_id', 'count_x', 'x', 'y']]\n",
    "df_pass_net_home.columns = ['player_id', 'recipient_id', 'count', 'start_x', 'start_y']\n",
    "df_pass_net_home = pd.merge(df_pass_net_home, df_avg_home, left_on='recipient_id', right_on='player_id', how='inner')\n",
    "df_pass_net_home = df_pass_net_home[['player_id_x', 'recipient_id', 'count_x', 'start_x', 'start_y', 'x', 'y']]\n",
    "df_pass_net_home.columns = ['player_id', 'recipient_id', 'count', 'start_x', 'start_y', 'end_x', 'end_y']\n",
    "\n",
    "# create pass networks of away team\n",
    "df_pass_net_away = pd.merge(df_pass_route_away, df_avg_away, on='player_id', how='inner')\n",
    "df_pass_net_away = df_pass_net_away[['player_id', 'recipient_id', 'count_x', 'x', 'y']]\n",
    "df_pass_net_away.columns = ['player_id', 'recipient_id', 'count', 'start_x', 'start_y']\n",
    "df_pass_net_away = pd.merge(df_pass_net_away, df_avg_away, left_on='recipient_id', right_on='player_id', how='inner')\n",
    "df_pass_net_away = df_pass_net_away[['player_id_x', 'recipient_id', 'count_x', 'start_x', 'start_y', 'x', 'y']]\n",
    "df_pass_net_away.columns = ['player_id', 'recipient_id', 'count', 'start_x', 'start_y', 'end_x', 'end_y']"
   ]
  },
  {
   "cell_type": "code",
   "execution_count": 24,
   "id": "bbdf7897",
   "metadata": {},
   "outputs": [],
   "source": [
    "# create player name and jersey no. dataframe\n",
    "df_players_no = df_players[['player_id', 'player_name', 'jersey_number']]\n",
    "\n",
    "# create player name and jersey no. average position of home team\n",
    "df_pos_home = pd.merge(df_avg_home, df_players_no, on='player_id', how='inner')\n",
    "df_pos_home = df_pos_home.sort_values(by=['jersey_number'], ignore_index=True)\n",
    "\n",
    "# create player name and jersey no. average position of away team\n",
    "df_pos_away = pd.merge(df_avg_away, df_players_no, on='player_id', how='inner')\n",
    "df_pos_away = df_pos_away.sort_values(by=['jersey_number'], ignore_index=True)"
   ]
  },
  {
   "cell_type": "markdown",
   "id": "270f51e0",
   "metadata": {},
   "source": [
    "# Plotting Pass Network"
   ]
  },
  {
   "cell_type": "code",
   "execution_count": 25,
   "id": "202dfbaf",
   "metadata": {},
   "outputs": [],
   "source": [
    "# set filter to show passes more than specified quantile\n",
    "qmin_home = df_pass_net_home['count'].quantile(.5)\n",
    "qmin_away = df_pass_net_away['count'].quantile(.5)\n",
    "\n",
    "# create a dataframe from the specified quantile\n",
    "df_filtered_home = df_pass_net_home.loc[(df_pass_net_home['count']>qmin_home)]\n",
    "df_filtered_away = df_pass_net_away.loc[(df_pass_net_away['count']>qmin_away)]"
   ]
  },
  {
   "cell_type": "code",
   "execution_count": 26,
   "id": "4752002a",
   "metadata": {},
   "outputs": [],
   "source": [
    "# define ttf url\n",
    "russo_url = \"http://themes.googleusercontent.com/static/fonts/russoone/v1/RO6e96EC9m6OLO0tr7J3z6CWcynf_cDxXwCLxiixG1c.ttf\"\n",
    "opensans_url = \"http://themes.googleusercontent.com/static/fonts/opensans/v6/cJZKeOuBrn4kERxqtaUH3aCWcynf_cDxXwCLxiixG1c.ttf\"\n",
    "\n",
    "# load font\n",
    "russo = FontManager(russo_url)\n",
    "opensans = FontManager(opensans_url)"
   ]
  },
  {
   "cell_type": "code",
   "execution_count": 56,
   "id": "9b185005",
   "metadata": {
    "scrolled": true
   },
   "outputs": [
    {
     "data": {
      "image/png": "[encoded data removed]",
      "text/plain": [
       "<Figure size 1162.07x1000 with 5 Axes>"
      ]
     },
     "metadata": {},
     "output_type": "display_data"
    }
   ],
   "source": [
    "# set up the pitch\n",
    "pitch = VerticalPitch(pitch_type='opta', \n",
    "                      pitch_color='white', \n",
    "                      line_color='lightgrey')\n",
    "\n",
    "# set up the plot grid\n",
    "fig, axs = pitch.grid(ncols=2, \n",
    "                      figheight=10, \n",
    "                      title_height=.15, \n",
    "                      grid_height=.8, \n",
    "                      endnote_height=.05, \n",
    "                      title_space=0, \n",
    "                      endnote_space=0, \n",
    "                      axis=False)\n",
    "\n",
    "# set up the color\n",
    "fig.set_facecolor('white')\n",
    "\n",
    "# plot passing lines for home team\n",
    "lines = pitch.lines(df_filtered_home.start_x, \n",
    "                    df_filtered_home.start_y, \n",
    "                    df_filtered_home.end_x, \n",
    "                    df_filtered_home.end_y, \n",
    "                    lw=df_filtered_home['count']/df_filtered_home['count'].max()*9, \n",
    "                    color='darkgrey', \n",
    "                    ax=axs['pitch'][0], \n",
    "                    zorder=1)\n",
    "\n",
    "# plot player positions for home team\n",
    "scatter = pitch.scatter(df_pos_home.x, \n",
    "                        df_pos_home.y, \n",
    "                        s=400, \n",
    "                        color='white',\n",
    "                        edgecolor='tab:blue',\n",
    "                        linewidths=3,\n",
    "                        ax=axs['pitch'][0],\n",
    "                        zorder=2)\n",
    "\n",
    "# plot player numbers for home team\n",
    "for index, row in df_pos_home.iterrows():\n",
    "    pitch.annotate(row.jersey_number, \n",
    "                   xy=(row.x, row.y), \n",
    "                   va='center', \n",
    "                   ha='center', \n",
    "                   size=10, \n",
    "                   fontproperties='DejaVu Sans', \n",
    "                   ax=axs['pitch'][0])\n",
    "\n",
    "# plot passing lines for away team\n",
    "lines = pitch.lines(df_filtered_away.start_x, \n",
    "                    df_filtered_away.start_y, \n",
    "                    df_filtered_away.end_x, \n",
    "                    df_filtered_away.end_y, \n",
    "                    lw=df_filtered_away['count']/df_filtered_away['count'].max()*9, \n",
    "                    color='darkgrey', \n",
    "                    ax=axs['pitch'][1], \n",
    "                    zorder=1)\n",
    "\n",
    "# plot player positions for away team\n",
    "scatter = pitch.scatter(df_pos_away.x, \n",
    "                        df_pos_away.y, \n",
    "                        s=400, \n",
    "                        color='white',\n",
    "                        edgecolor='tab:orange',\n",
    "                        linewidths=3,\n",
    "                        ax=axs['pitch'][1],\n",
    "                        zorder=2)\n",
    "\n",
    "# plot player numbers for away team\n",
    "for index, row in df_pos_away.iterrows():\n",
    "    pitch.annotate(row.jersey_number, \n",
    "                   xy=(row.x, row.y), \n",
    "                   va='center', \n",
    "                   ha='center', \n",
    "                   size=10, \n",
    "                   ax=axs['pitch'][1])\n",
    "    \n",
    "# set up the title\n",
    "axs['title'].text(0, .4, \n",
    "                  'Passing Network', \n",
    "                  va='bottom', \n",
    "                  ha='left', \n",
    "                  weight='bold',\n",
    "                  fontsize=30)\n",
    "\n",
    "axs['title'].text(0, .23, \n",
    "                  '{} | Data by Opta'.format(scoreboard), \n",
    "                  color='grey',\n",
    "                  va='bottom', \n",
    "                  ha='left', \n",
    "                  fontsize=15)\n",
    "\n",
    "# set up the plot title\n",
    "axs['title'].text(.23, -0.05, \n",
    "                     \"{} (minutes {}-{})\".format(home_team, home_min1, home_min2), \n",
    "                     va='center', \n",
    "                     ha='center', \n",
    "                     fontsize=12)\n",
    "\n",
    "axs['title'].text(.77, -0.05, \n",
    "                     \"{} (minutes {}-{})\".format(away_team, away_min1, away_min2), \n",
    "                     va='center', \n",
    "                     ha='center', \n",
    "                     fontsize=12)\n",
    "\n",
    "logo = Image.open(r\"Logos\\premier-league.png\")\n",
    "\n",
    "axs['title'] = add_image(logo, \n",
    "                         fig, \n",
    "                         left=0.85, \n",
    "                         bottom=0.87, \n",
    "                         width=0.11)\n",
    "\n",
    "# plot player names of home team\n",
    "player_home1 = '#'+str(df_pos_home['jersey_number'][0])+' '+df_pos_home['player_name'][0]+'\\n'\n",
    "player_home2 = '#'+str(df_pos_home['jersey_number'][6])+' '+df_pos_home['player_name'][6]+'\\n'\n",
    "\n",
    "for i in range(1, 6):\n",
    "  player_home1 += '#'+str(df_pos_home['jersey_number'][i])+' '+df_pos_home['player_name'][i]+'\\n'\n",
    "\n",
    "for i in range(7, len(df_pos_home)):\n",
    "  player_home2 += '#'+str(df_pos_home['jersey_number'][i])+' '+df_pos_home['player_name'][i]+'\\n'\n",
    "\n",
    "axs['endnote'].text(0, 1, \n",
    "                    player_home1, \n",
    "                    va='top', \n",
    "                    ha='left', \n",
    "                    fontsize=12)\n",
    "\n",
    "axs['endnote'].text(0.25, 1, \n",
    "                    player_home2, \n",
    "                    va='top', \n",
    "                    ha='left', \n",
    "                    fontsize=12)\n",
    "\n",
    "# plot player names of away team\n",
    "player_away1 = '#'+str(df_pos_away['jersey_number'][0])+' '+df_pos_away['player_name'][0]+'\\n'\n",
    "player_away2 = '#'+str(df_pos_away['jersey_number'][6])+' '+df_pos_away['player_name'][6]+'\\n'\n",
    "\n",
    "for i in range(1, 6):\n",
    "  player_away1 += '#'+str(df_pos_away['jersey_number'][i])+' '+df_pos_away['player_name'][i]+'\\n'\n",
    "\n",
    "for i in range(7, len(df_pos_away)):\n",
    "  player_away2 += '#'+str(df_pos_away['jersey_number'][i])+' '+df_pos_away['player_name'][i]+'\\n'\n",
    "\n",
    "axs['endnote'].text(0.54, 1, \n",
    "                    player_away1, \n",
    "                    va='top', \n",
    "                    ha='left',\n",
    "                    fontsize=12)\n",
    "\n",
    "axs['endnote'].text(0.79, 1, \n",
    "                    player_away2, \n",
    "                    va='top', \n",
    "                    ha='left', \n",
    "                    fontsize=12)\n",
    "\n",
    "# footer setup\n",
    "axs['endnote'].text(0, -2.5,\n",
    "                    'Line width represents passing combination count. Player positions are calculated from average on-the-ball actions. \\nThe line plot only shows combination counts higher than 50th percentile of total passes.',\n",
    "                    va='bottom', \n",
    "                    ha='left', \n",
    "                    fontsize=10)\n",
    "\n",
    "axs['endnote'].text(1, -2.5,\n",
    "                    'Viz by Hanif F. Hidayat',\n",
    "                    va='bottom', \n",
    "                    ha='right', \n",
    "                    fontsize=10)\n",
    "\n",
    "plt.savefig(r\"Plot\\PassingNetwork.png\",\n",
    "            facecolor='#FFFFFF',\n",
    "            edgecolor='none',\n",
    "            bbox_inches='tight', \n",
    "            dpi=200,\n",
    "            transparent=False)"
   ]
  },
  {
   "cell_type": "code",
   "execution_count": null,
   "id": "b04f9114",
   "metadata": {},
   "outputs": [],
   "source": []
  }
 ],
 "metadata": {
  "kernelspec": {
   "display_name": "Python 3 (ipykernel)",
   "language": "python",
   "name": "python3"
  },
  "language_info": {
   "codemirror_mode": {
    "name": "ipython",
    "version": 3
   },
   "file_extension": ".py",
   "mimetype": "text/x-python",
   "name": "python",
   "nbconvert_exporter": "python",
   "pygments_lexer": "ipython3",
   "version": "3.9.17"
  }
 },
 "nbformat": 4,
 "nbformat_minor": 5
}
